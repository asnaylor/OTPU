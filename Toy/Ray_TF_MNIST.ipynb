{
 "cells": [
  {
   "cell_type": "markdown",
   "id": "43744ab3-95f2-4963-9015-1b465176ee23",
   "metadata": {},
   "source": [
    "# Ray TF MNIST\n",
    "\n",
    "https://docs.ray.io/en/latest/train/examples/tf/tensorflow_mnist_example.html\n",
    "\n",
    "Using `tensorflow-2.9.0` NERSC kernel.\n",
    "\n"
   ]
  },
  {
   "cell_type": "code",
   "execution_count": 1,
   "id": "64aaa958-ab0e-41ab-8cd2-df0d866f14da",
   "metadata": {},
   "outputs": [],
   "source": [
    "import sys\n",
    "import os"
   ]
  },
  {
   "cell_type": "code",
   "execution_count": 2,
   "id": "d9fd205e-2537-4dc4-ac6a-25a58de5771e",
   "metadata": {},
   "outputs": [],
   "source": [
    "#!{sys.executable} -m pip install \"ray[air]==2.3.1\""
   ]
  },
  {
   "cell_type": "markdown",
   "id": "0e752fae-0bef-4abc-a8b8-0048e5400d79",
   "metadata": {},
   "source": [
    "# Start Ray"
   ]
  },
  {
   "cell_type": "code",
   "execution_count": 3,
   "id": "ff321530-5161-4a46-b584-3e83b0beb411",
   "metadata": {},
   "outputs": [
    {
     "name": "stdout",
     "output_type": "stream",
     "text": [
      "<> Starting Ray head node\n"
     ]
    },
    {
     "name": "stderr",
     "output_type": "stream",
     "text": [
      "Warning: This is an experimental release of NCCL with an OFI plugin for use with libfabric on Perlmutter.\n",
      "In case of issues, please refer to our known issues: https://docs.nersc.gov/current/\n",
      "and open a help ticket if your issue is not listed: https://help.nersc.gov/\n"
     ]
    },
    {
     "name": "stdout",
     "output_type": "stream",
     "text": [
      "2023-04-23 10:31:59,400\tINFO usage_lib.py:435 -- Usage stats collection is disabled.\n",
      "2023-04-23 10:31:59,401\tINFO scripts.py:710 -- \u001b[37mLocal node IP\u001b[39m: \u001b[1m128.55.64.15\u001b[22m\n",
      "2023-04-23 10:32:01,738\tSUCC scripts.py:747 -- \u001b[32m--------------------\u001b[39m\n",
      "2023-04-23 10:32:01,738\tSUCC scripts.py:748 -- \u001b[32mRay runtime started.\u001b[39m\n",
      "2023-04-23 10:32:01,738\tSUCC scripts.py:749 -- \u001b[32m--------------------\u001b[39m\n",
      "2023-04-23 10:32:01,738\tINFO scripts.py:751 -- \u001b[36mNext steps\u001b[39m\n",
      "2023-04-23 10:32:01,738\tINFO scripts.py:752 -- To connect to this Ray runtime from another node, run\n",
      "2023-04-23 10:32:01,738\tINFO scripts.py:755 -- \u001b[1m  ray start --address='128.55.64.15:6379'\u001b[22m\n",
      "2023-04-23 10:32:01,738\tINFO scripts.py:771 -- Alternatively, use the following Python code:\n",
      "2023-04-23 10:32:01,738\tINFO scripts.py:773 -- \u001b[35mimport\u001b[39m\u001b[26m ray\n",
      "2023-04-23 10:32:01,738\tINFO scripts.py:777 -- ray\u001b[35m.\u001b[39m\u001b[26minit(address\u001b[35m=\u001b[39m\u001b[26m\u001b[33m'auto'\u001b[39m\u001b[26m)\n",
      "2023-04-23 10:32:01,738\tINFO scripts.py:790 -- To see the status of the cluster, use\n",
      "2023-04-23 10:32:01,738\tINFO scripts.py:791 --   \u001b[1mray status\u001b[22m\u001b[26m\n",
      "2023-04-23 10:32:01,738\tINFO scripts.py:794 -- To monitor and debug Ray, view the dashboard at \n",
      "2023-04-23 10:32:01,738\tINFO scripts.py:795 --   \u001b[1m127.0.0.1:8265\u001b[22m\u001b[26m\n",
      "2023-04-23 10:32:01,738\tINFO scripts.py:801 -- \u001b[4mIf connection fails, check your firewall settings and network configuration.\u001b[24m\n",
      "2023-04-23 10:32:01,738\tINFO scripts.py:809 -- To terminate the Ray runtime, run\n",
      "2023-04-23 10:32:01,738\tINFO scripts.py:810 -- \u001b[1m  ray stop\u001b[22m\n",
      "2023-04-23 10:32:01,738\tINFO scripts.py:891 -- \u001b[36m\u001b[1m--block\u001b[22m\u001b[39m\n",
      "2023-04-23 10:32:01,738\tINFO scripts.py:892 -- This command will now block forever until terminated by a signal.\n",
      "2023-04-23 10:32:01,738\tINFO scripts.py:895 -- Running subprocesses are monitored and a message will be printed if any of them terminate unexpectedly. Subprocesses exit with SIGTERM will be treated as graceful, thus NOT reported.\n",
      "<> Starting Prometheus Service\n",
      "<> Starting Grafana Service\n",
      "<> Cluster completed startup\n"
     ]
    }
   ],
   "source": [
    "from ray_utils import start_ray_cluster\n",
    "ray_cluster = start_ray_cluster()"
   ]
  },
  {
   "cell_type": "code",
   "execution_count": 4,
   "id": "ecc01489-0a6e-4e98-98c1-cfbe7093d546",
   "metadata": {},
   "outputs": [],
   "source": [
    "import ray\n",
    "\n",
    "if ray.is_initialized:\n",
    "    ray.shutdown()\n",
    "\n",
    "ray_log = False\n",
    "if not ray_log:\n",
    "    import logging\n",
    "    ray.init(address='auto', logging_level=logging.ERROR)\n",
    "else:\n",
    "    ray.init(address='auto')"
   ]
  },
  {
   "cell_type": "markdown",
   "id": "eb2cc25c-64be-44b7-a091-4a7b2561f13a",
   "metadata": {},
   "source": [
    "### Check ray cluster resources"
   ]
  },
  {
   "cell_type": "code",
   "execution_count": 5,
   "id": "98df2ce3-9e0c-435a-bb9f-1e7e3a3b3a64",
   "metadata": {},
   "outputs": [
    {
     "data": {
      "text/plain": [
       "{'object_store_memory': 143199422054.0,\n",
       " 'CPU': 256.0,\n",
       " 'memory': 324131984794.0,\n",
       " 'node:128.55.64.15': 1.0,\n",
       " 'accelerator_type:A100': 1.0,\n",
       " 'GPU': 1.0}"
      ]
     },
     "execution_count": 5,
     "metadata": {},
     "output_type": "execute_result"
    }
   ],
   "source": [
    "ray.cluster_resources()"
   ]
  },
  {
   "cell_type": "markdown",
   "id": "5bb9efd8-1e1b-4cd5-bc84-eb81e682d21a",
   "metadata": {},
   "source": [
    "### View dashboards"
   ]
  },
  {
   "cell_type": "code",
   "execution_count": 6,
   "id": "95b0bd1c-3ba9-4c17-948b-4f33a9754bec",
   "metadata": {},
   "outputs": [
    {
     "data": {
      "text/plain": [
       "'https://jupyter.nersc.gov/user/asnaylor/perlmutter-shared-node-cpu/proxy/localhost:8265/#/new/overview'"
      ]
     },
     "execution_count": 6,
     "metadata": {},
     "output_type": "execute_result"
    }
   ],
   "source": [
    "f'https://jupyter.nersc.gov{os.getenv(\"JUPYTERHUB_SERVICE_PREFIX\")}proxy/localhost:8265/#/new/overview'"
   ]
  },
  {
   "cell_type": "code",
   "execution_count": 7,
   "id": "de0d5b72-0347-46e5-8ebc-8dd4a0b23f03",
   "metadata": {},
   "outputs": [
    {
     "data": {
      "text/plain": [
       "'https://jupyter.nersc.gov/user/asnaylor/perlmutter-shared-node-cpu/proxy/3000/d/rayDefaultDashboard'"
      ]
     },
     "execution_count": 7,
     "metadata": {},
     "output_type": "execute_result"
    }
   ],
   "source": [
    "f'https://jupyter.nersc.gov{os.getenv(\"JUPYTERHUB_SERVICE_PREFIX\")}proxy/3000/d/rayDefaultDashboard'"
   ]
  },
  {
   "cell_type": "markdown",
   "id": "37bd2df0-0ed8-432d-8fec-5129a9b4a6f1",
   "metadata": {},
   "source": [
    "# MINST Code"
   ]
  },
  {
   "cell_type": "code",
   "execution_count": 8,
   "id": "f337c02f-ad3d-4b36-a026-3527a799f23f",
   "metadata": {},
   "outputs": [],
   "source": [
    "import numpy as np\n",
    "import json\n",
    "from ray.air.result import Result\n",
    "import tensorflow as tf\n",
    "\n",
    "from ray.train.tensorflow import TensorflowTrainer\n",
    "from ray.air.integrations.keras import Callback as TrainCheckpointReportCallback\n",
    "from ray.air.config import ScalingConfig, RunConfig"
   ]
  },
  {
   "cell_type": "code",
   "execution_count": 9,
   "id": "a87cf711-8e6d-4fbb-801b-f29ccab86fc9",
   "metadata": {},
   "outputs": [],
   "source": [
    "def mnist_dataset(batch_size: int) -> tf.data.Dataset:\n",
    "    (x_train, y_train), _ = tf.keras.datasets.mnist.load_data()\n",
    "    # The `x` arrays are in uint8 and have values in the [0, 255] range.\n",
    "    # You need to convert them to float32 with values in the [0, 1] range.\n",
    "    x_train = x_train / np.float32(255)\n",
    "    y_train = y_train.astype(np.int64)\n",
    "    train_dataset = (\n",
    "        tf.data.Dataset.from_tensor_slices((x_train, y_train))\n",
    "        .shuffle(60000)\n",
    "        .repeat()\n",
    "        .batch(batch_size)\n",
    "    )\n",
    "    return train_dataset"
   ]
  },
  {
   "cell_type": "code",
   "execution_count": 10,
   "id": "c66b60b3-5e48-483b-b259-cfa4e7a79def",
   "metadata": {},
   "outputs": [],
   "source": [
    "def build_cnn_model() -> tf.keras.Model:\n",
    "    model = tf.keras.Sequential(\n",
    "        [\n",
    "            tf.keras.Input(shape=(28, 28)),\n",
    "            tf.keras.layers.Reshape(target_shape=(28, 28, 1)),\n",
    "            tf.keras.layers.Conv2D(32, 3, activation=\"relu\"),\n",
    "            tf.keras.layers.Flatten(),\n",
    "            tf.keras.layers.Dense(128, activation=\"relu\"),\n",
    "            tf.keras.layers.Dense(10),\n",
    "        ]\n",
    "    )\n",
    "    return model\n"
   ]
  },
  {
   "cell_type": "code",
   "execution_count": 11,
   "id": "276d1524-f4ef-4108-9ff3-1f2290c1382a",
   "metadata": {},
   "outputs": [],
   "source": [
    "#import atexit\n",
    "\n",
    "def train_func(config: dict):\n",
    "    per_worker_batch_size = config.get(\"batch_size\", 64)\n",
    "    epochs = config.get(\"epochs\", 3)\n",
    "    steps_per_epoch = config.get(\"steps_per_epoch\", 70)\n",
    "\n",
    "    tf_config = json.loads(os.environ[\"TF_CONFIG\"])\n",
    "    num_workers = len(tf_config[\"cluster\"][\"worker\"])\n",
    "\n",
    "    strategy = tf.distribute.MultiWorkerMirroredStrategy()\n",
    "    #atexit.register(strategy._extended._collective_ops._pool.close) # type: ignore\n",
    "    \n",
    "    global_batch_size = per_worker_batch_size * num_workers\n",
    "    multi_worker_dataset = mnist_dataset(global_batch_size)\n",
    "\n",
    "    with strategy.scope():\n",
    "        # Model building/compiling need to be within `strategy.scope()`.\n",
    "        multi_worker_model = build_cnn_model()\n",
    "        learning_rate = config.get(\"lr\", 0.001)\n",
    "        multi_worker_model.compile(\n",
    "            loss=tf.keras.losses.SparseCategoricalCrossentropy(from_logits=True),\n",
    "            optimizer=tf.keras.optimizers.SGD(learning_rate=learning_rate),\n",
    "            metrics=[\"accuracy\"],\n",
    "        )\n",
    "\n",
    "    history = multi_worker_model.fit(\n",
    "        multi_worker_dataset,\n",
    "        epochs=epochs,\n",
    "        steps_per_epoch=steps_per_epoch,\n",
    "        callbacks=[TrainCheckpointReportCallback()],\n",
    "    )\n",
    "    results = history.history\n",
    "    return results"
   ]
  },
  {
   "cell_type": "markdown",
   "id": "d72adde3-1362-4066-9ea8-782ef36fd52e",
   "metadata": {},
   "source": [
    "# Run MNIST Code"
   ]
  },
  {
   "cell_type": "code",
   "execution_count": 12,
   "id": "6f59c628-ae62-4240-bb48-6c16146ee562",
   "metadata": {},
   "outputs": [],
   "source": [
    "args = {\n",
    "    'num_workers': int(ray.cluster_resources()['GPU']),\n",
    "    'use_gpu': True,\n",
    "    'epochs': 20\n",
    "}\n",
    "config = {\"lr\": 1e-3, \"batch_size\": 64, \"epochs\": args['epochs']}"
   ]
  },
  {
   "cell_type": "code",
   "execution_count": 13,
   "id": "cde8ef28-c946-4db4-ab79-bef56f2c3e95",
   "metadata": {},
   "outputs": [
    {
     "data": {
      "text/html": [
       "<div class=\"tuneStatus\">\n",
       "  <div style=\"display: flex;flex-direction: row\">\n",
       "    <div style=\"display: flex;flex-direction: column;\">\n",
       "      <h3>Tune Status</h3>\n",
       "      <table>\n",
       "<tbody>\n",
       "<tr><td>Current time:</td><td>2023-04-23 10:33:23</td></tr>\n",
       "<tr><td>Running for: </td><td>00:00:23.73        </td></tr>\n",
       "<tr><td>Memory:      </td><td>99.4/503.1 GiB     </td></tr>\n",
       "</tbody>\n",
       "</table>\n",
       "    </div>\n",
       "    <div class=\"vDivider\"></div>\n",
       "    <div class=\"systemInfo\">\n",
       "      <h3>System Info</h3>\n",
       "      Using FIFO scheduling algorithm.<br>Resources requested: 0/256 CPUs, 0/1 GPUs, 0.0/301.87 GiB heap, 0.0/133.36 GiB objects (0.0/1.0 accelerator_type:A100)\n",
       "    </div>\n",
       "    \n",
       "  </div>\n",
       "  <div class=\"hDivider\"></div>\n",
       "  <div class=\"trialStatus\">\n",
       "    <h3>Trial Status</h3>\n",
       "    <table>\n",
       "<thead>\n",
       "<tr><th>Trial name                   </th><th>status    </th><th>loc               </th><th style=\"text-align: right;\">  iter</th><th style=\"text-align: right;\">  total time (s)</th><th style=\"text-align: right;\">   loss</th><th style=\"text-align: right;\">  accuracy</th><th style=\"text-align: right;\">  _timestamp</th></tr>\n",
       "</thead>\n",
       "<tbody>\n",
       "<tr><td>TensorflowTrainer_e40f7_00000</td><td>TERMINATED</td><td>128.55.64.15:18882</td><td style=\"text-align: right;\">    20</td><td style=\"text-align: right;\">          16.366</td><td style=\"text-align: right;\">0.56656</td><td style=\"text-align: right;\">  0.863393</td><td style=\"text-align: right;\">  1682271199</td></tr>\n",
       "</tbody>\n",
       "</table>\n",
       "  </div>\n",
       "</div>\n",
       "<style>\n",
       ".tuneStatus {\n",
       "  color: var(--jp-ui-font-color1);\n",
       "}\n",
       ".tuneStatus .systemInfo {\n",
       "  display: flex;\n",
       "  flex-direction: column;\n",
       "}\n",
       ".tuneStatus td {\n",
       "  white-space: nowrap;\n",
       "}\n",
       ".tuneStatus .trialStatus {\n",
       "  display: flex;\n",
       "  flex-direction: column;\n",
       "}\n",
       ".tuneStatus h3 {\n",
       "  font-weight: bold;\n",
       "}\n",
       ".tuneStatus .hDivider {\n",
       "  border-bottom-width: var(--jp-border-width);\n",
       "  border-bottom-color: var(--jp-border-color0);\n",
       "  border-bottom-style: solid;\n",
       "}\n",
       ".tuneStatus .vDivider {\n",
       "  border-left-width: var(--jp-border-width);\n",
       "  border-left-color: var(--jp-border-color0);\n",
       "  border-left-style: solid;\n",
       "  margin: 0.5em 1em 0.5em 1em;\n",
       "}\n",
       "</style>\n"
      ],
      "text/plain": [
       "<IPython.core.display.HTML object>"
      ]
     },
     "metadata": {},
     "output_type": "display_data"
    },
    {
     "name": "stderr",
     "output_type": "stream",
     "text": [
      "\u001b[2m\u001b[36m(RayTrainWorker pid=19261)\u001b[0m 2023-04-23 10:33:06.859359: I tensorflow/core/platform/cpu_feature_guard.cc:193] This TensorFlow binary is optimized with oneAPI Deep Neural Network Library (oneDNN) to use the following CPU instructions in performance-critical operations:  AVX2 FMA\n",
      "\u001b[2m\u001b[36m(RayTrainWorker pid=19261)\u001b[0m To enable them in other operations, rebuild TensorFlow with the appropriate compiler flags.\n",
      "\u001b[2m\u001b[36m(RayTrainWorker pid=19261)\u001b[0m 2023-04-23 10:33:07.903885: I tensorflow/core/common_runtime/gpu/gpu_device.cc:1532] Created device /job:localhost/replica:0/task:0/device:GPU:0 with 38219 MB memory:  -> device: 0, name: NVIDIA A100-PCIE-40GB, pci bus id: 0000:c3:00.0, compute capability: 8.0\n",
      "\u001b[2m\u001b[36m(RayTrainWorker pid=19261)\u001b[0m 2023-04-23 10:33:07.933561: I tensorflow/core/common_runtime/gpu/gpu_device.cc:1532] Created device /job:worker/replica:0/task:0/device:GPU:0 with 38219 MB memory:  -> device: 0, name: NVIDIA A100-PCIE-40GB, pci bus id: 0000:c3:00.0, compute capability: 8.0\n",
      "\u001b[2m\u001b[36m(RayTrainWorker pid=19261)\u001b[0m 2023-04-23 10:33:07.979992: I tensorflow/core/distributed_runtime/rpc/grpc_channel.cc:272] Initialize GrpcChannelCache for job worker -> {0 -> 128.55.64.15:44921}\n",
      "\u001b[2m\u001b[36m(RayTrainWorker pid=19261)\u001b[0m 2023-04-23 10:33:07.981466: I tensorflow/core/distributed_runtime/rpc/grpc_channel.cc:272] Initialize GrpcChannelCache for job worker -> {0 -> 128.55.64.15:44921}\n",
      "\u001b[2m\u001b[36m(RayTrainWorker pid=19261)\u001b[0m 2023-04-23 10:33:07.984378: I tensorflow/core/distributed_runtime/rpc/grpc_server_lib.cc:438] Started server with target: grpc://128.55.64.15:44921\n",
      "\u001b[2m\u001b[36m(RayTrainWorker pid=19261)\u001b[0m 2023-04-23 10:33:09.168360: W tensorflow/core/grappler/optimizers/data/auto_shard.cc:776] AUTO sharding policy will apply DATA sharding policy as it failed to apply FILE sharding policy because of the following reason: Found an unshardable source dataset: name: \"TensorSliceDataset/_2\"\n",
      "\u001b[2m\u001b[36m(RayTrainWorker pid=19261)\u001b[0m op: \"TensorSliceDataset\"\n",
      "\u001b[2m\u001b[36m(RayTrainWorker pid=19261)\u001b[0m input: \"Placeholder/_0\"\n",
      "\u001b[2m\u001b[36m(RayTrainWorker pid=19261)\u001b[0m input: \"Placeholder/_1\"\n",
      "\u001b[2m\u001b[36m(RayTrainWorker pid=19261)\u001b[0m attr {\n",
      "\u001b[2m\u001b[36m(RayTrainWorker pid=19261)\u001b[0m   key: \"Toutput_types\"\n",
      "\u001b[2m\u001b[36m(RayTrainWorker pid=19261)\u001b[0m   value {\n",
      "\u001b[2m\u001b[36m(RayTrainWorker pid=19261)\u001b[0m     list {\n",
      "\u001b[2m\u001b[36m(RayTrainWorker pid=19261)\u001b[0m       type: DT_FLOAT\n",
      "\u001b[2m\u001b[36m(RayTrainWorker pid=19261)\u001b[0m       type: DT_INT64\n",
      "\u001b[2m\u001b[36m(RayTrainWorker pid=19261)\u001b[0m     }\n",
      "\u001b[2m\u001b[36m(RayTrainWorker pid=19261)\u001b[0m   }\n",
      "\u001b[2m\u001b[36m(RayTrainWorker pid=19261)\u001b[0m }\n",
      "\u001b[2m\u001b[36m(RayTrainWorker pid=19261)\u001b[0m attr {\n",
      "\u001b[2m\u001b[36m(RayTrainWorker pid=19261)\u001b[0m   key: \"_cardinality\"\n",
      "\u001b[2m\u001b[36m(RayTrainWorker pid=19261)\u001b[0m   value {\n",
      "\u001b[2m\u001b[36m(RayTrainWorker pid=19261)\u001b[0m     i: 60000\n",
      "\u001b[2m\u001b[36m(RayTrainWorker pid=19261)\u001b[0m   }\n",
      "\u001b[2m\u001b[36m(RayTrainWorker pid=19261)\u001b[0m }\n",
      "\u001b[2m\u001b[36m(RayTrainWorker pid=19261)\u001b[0m attr {\n",
      "\u001b[2m\u001b[36m(RayTrainWorker pid=19261)\u001b[0m   key: \"is_files\"\n",
      "\u001b[2m\u001b[36m(RayTrainWorker pid=19261)\u001b[0m   value {\n",
      "\u001b[2m\u001b[36m(RayTrainWorker pid=19261)\u001b[0m     b: false\n",
      "\u001b[2m\u001b[36m(RayTrainWorker pid=19261)\u001b[0m   }\n",
      "\u001b[2m\u001b[36m(RayTrainWorker pid=19261)\u001b[0m }\n",
      "\u001b[2m\u001b[36m(RayTrainWorker pid=19261)\u001b[0m attr {\n",
      "\u001b[2m\u001b[36m(RayTrainWorker pid=19261)\u001b[0m   key: \"metadata\"\n",
      "\u001b[2m\u001b[36m(RayTrainWorker pid=19261)\u001b[0m   value {\n",
      "\u001b[2m\u001b[36m(RayTrainWorker pid=19261)\u001b[0m     s: \"\\n\\024TensorSliceDataset:0\"\n",
      "\u001b[2m\u001b[36m(RayTrainWorker pid=19261)\u001b[0m   }\n",
      "\u001b[2m\u001b[36m(RayTrainWorker pid=19261)\u001b[0m }\n",
      "\u001b[2m\u001b[36m(RayTrainWorker pid=19261)\u001b[0m attr {\n",
      "\u001b[2m\u001b[36m(RayTrainWorker pid=19261)\u001b[0m   key: \"output_shapes\"\n",
      "\u001b[2m\u001b[36m(RayTrainWorker pid=19261)\u001b[0m   value {\n",
      "\u001b[2m\u001b[36m(RayTrainWorker pid=19261)\u001b[0m     list {\n",
      "\u001b[2m\u001b[36m(RayTrainWorker pid=19261)\u001b[0m       shape {\n",
      "\u001b[2m\u001b[36m(RayTrainWorker pid=19261)\u001b[0m         dim {\n",
      "\u001b[2m\u001b[36m(RayTrainWorker pid=19261)\u001b[0m           size: 28\n",
      "\u001b[2m\u001b[36m(RayTrainWorker pid=19261)\u001b[0m         }\n",
      "\u001b[2m\u001b[36m(RayTrainWorker pid=19261)\u001b[0m         dim {\n",
      "\u001b[2m\u001b[36m(RayTrainWorker pid=19261)\u001b[0m           size: 28\n",
      "\u001b[2m\u001b[36m(RayTrainWorker pid=19261)\u001b[0m         }\n",
      "\u001b[2m\u001b[36m(RayTrainWorker pid=19261)\u001b[0m       }\n",
      "\u001b[2m\u001b[36m(RayTrainWorker pid=19261)\u001b[0m       shape {\n",
      "\u001b[2m\u001b[36m(RayTrainWorker pid=19261)\u001b[0m       }\n",
      "\u001b[2m\u001b[36m(RayTrainWorker pid=19261)\u001b[0m     }\n",
      "\u001b[2m\u001b[36m(RayTrainWorker pid=19261)\u001b[0m   }\n",
      "\u001b[2m\u001b[36m(RayTrainWorker pid=19261)\u001b[0m }\n",
      "\u001b[2m\u001b[36m(RayTrainWorker pid=19261)\u001b[0m experimental_type {\n",
      "\u001b[2m\u001b[36m(RayTrainWorker pid=19261)\u001b[0m   type_id: TFT_PRODUCT\n",
      "\u001b[2m\u001b[36m(RayTrainWorker pid=19261)\u001b[0m   args {\n",
      "\u001b[2m\u001b[36m(RayTrainWorker pid=19261)\u001b[0m     type_id: TFT_DATASET\n",
      "\u001b[2m\u001b[36m(RayTrainWorker pid=19261)\u001b[0m     args {\n",
      "\u001b[2m\u001b[36m(RayTrainWorker pid=19261)\u001b[0m       type_id: TFT_PRODUCT\n",
      "\u001b[2m\u001b[36m(RayTrainWorker pid=19261)\u001b[0m       args {\n",
      "\u001b[2m\u001b[36m(RayTrainWorker pid=19261)\u001b[0m         type_id: TFT_TENSOR\n",
      "\u001b[2m\u001b[36m(RayTrainWorker pid=19261)\u001b[0m         args {\n",
      "\u001b[2m\u001b[36m(RayTrainWorker pid=19261)\u001b[0m           type_id: TFT_FLOAT\n",
      "\u001b[2m\u001b[36m(RayTrainWorker pid=19261)\u001b[0m         }\n",
      "\u001b[2m\u001b[36m(RayTrainWorker pid=19261)\u001b[0m       }\n",
      "\u001b[2m\u001b[36m(RayTrainWorker pid=19261)\u001b[0m       args {\n",
      "\u001b[2m\u001b[36m(RayTrainWorker pid=19261)\u001b[0m         type_id: TFT_TENSOR\n",
      "\u001b[2m\u001b[36m(RayTrainWorker pid=19261)\u001b[0m         args {\n",
      "\u001b[2m\u001b[36m(RayTrainWorker pid=19261)\u001b[0m           type_id: TFT_INT64\n",
      "\u001b[2m\u001b[36m(RayTrainWorker pid=19261)\u001b[0m         }\n",
      "\u001b[2m\u001b[36m(RayTrainWorker pid=19261)\u001b[0m       }\n",
      "\u001b[2m\u001b[36m(RayTrainWorker pid=19261)\u001b[0m     }\n",
      "\u001b[2m\u001b[36m(RayTrainWorker pid=19261)\u001b[0m   }\n",
      "\u001b[2m\u001b[36m(RayTrainWorker pid=19261)\u001b[0m }\n",
      "\u001b[2m\u001b[36m(RayTrainWorker pid=19261)\u001b[0m \n"
     ]
    },
    {
     "name": "stdout",
     "output_type": "stream",
     "text": [
      "\u001b[2m\u001b[36m(RayTrainWorker pid=19261)\u001b[0m Epoch 1/20\n"
     ]
    },
    {
     "name": "stderr",
     "output_type": "stream",
     "text": [
      "\u001b[2m\u001b[36m(RayTrainWorker pid=19261)\u001b[0m 2023-04-23 10:33:12.978026: I tensorflow/stream_executor/cuda/cuda_dnn.cc:384] Loaded cuDNN version 8302\n",
      "\u001b[2m\u001b[36m(RayTrainWorker pid=19261)\u001b[0m 2023-04-23 10:33:14.812527: I tensorflow/stream_executor/cuda/cuda_blas.cc:1786] TensorFloat-32 will be used for the matrix multiplication. This will only be logged once.\n"
     ]
    },
    {
     "name": "stdout",
     "output_type": "stream",
     "text": [
      " 1/70 [..............................] - ETA: 6:45 - loss: 2.2898 - accuracy: 0.1719\n",
      "62/70 [=========================>....] - ETA: 0s - loss: 2.2761 - accuracy: 0.1875\n"
     ]
    },
    {
     "data": {
      "text/html": [
       "<div class=\"trialProgress\">\n",
       "  <h3>Trial Progress</h3>\n",
       "  <table>\n",
       "<thead>\n",
       "<tr><th>Trial name                   </th><th style=\"text-align: right;\">  _time_this_iter_s</th><th style=\"text-align: right;\">  _timestamp</th><th style=\"text-align: right;\">  _training_iteration</th><th style=\"text-align: right;\">  accuracy</th><th>date               </th><th>done  </th><th>episodes_total  </th><th>experiment_id                   </th><th style=\"text-align: right;\">  experiment_tag</th><th>hostname  </th><th style=\"text-align: right;\">  iterations_since_restore</th><th style=\"text-align: right;\">   loss</th><th>node_ip     </th><th style=\"text-align: right;\">  pid</th><th>should_checkpoint  </th><th style=\"text-align: right;\">  time_since_restore</th><th style=\"text-align: right;\">  time_this_iter_s</th><th style=\"text-align: right;\">  time_total_s</th><th style=\"text-align: right;\">  timestamp</th><th style=\"text-align: right;\">  timesteps_since_restore</th><th>timesteps_total  </th><th style=\"text-align: right;\">  training_iteration</th><th>trial_id   </th><th style=\"text-align: right;\">  warmup_time</th></tr>\n",
       "</thead>\n",
       "<tbody>\n",
       "<tr><td>TensorflowTrainer_e40f7_00000</td><td style=\"text-align: right;\">           0.219957</td><td style=\"text-align: right;\">  1682271199</td><td style=\"text-align: right;\">                   20</td><td style=\"text-align: right;\">  0.863393</td><td>2023-04-23_10-33-19</td><td>True  </td><td>                </td><td>06209849536b4e23b430828f865deea2</td><td style=\"text-align: right;\">               0</td><td>login06   </td><td style=\"text-align: right;\">                        20</td><td style=\"text-align: right;\">0.56656</td><td>128.55.64.15</td><td style=\"text-align: right;\">18882</td><td>True               </td><td style=\"text-align: right;\">              16.366</td><td style=\"text-align: right;\">          0.220232</td><td style=\"text-align: right;\">        16.366</td><td style=\"text-align: right;\"> 1682271199</td><td style=\"text-align: right;\">                        0</td><td>                 </td><td style=\"text-align: right;\">                  20</td><td>e40f7_00000</td><td style=\"text-align: right;\">   0.00675273</td></tr>\n",
       "</tbody>\n",
       "</table>\n",
       "</div>\n",
       "<style>\n",
       ".trialProgress {\n",
       "  display: flex;\n",
       "  flex-direction: column;\n",
       "  color: var(--jp-ui-font-color1);\n",
       "}\n",
       ".trialProgress h3 {\n",
       "  font-weight: bold;\n",
       "}\n",
       ".trialProgress td {\n",
       "  white-space: nowrap;\n",
       "}\n",
       "</style>\n"
      ],
      "text/plain": [
       "<IPython.core.display.HTML object>"
      ]
     },
     "metadata": {},
     "output_type": "display_data"
    },
    {
     "name": "stdout",
     "output_type": "stream",
     "text": [
      "70/70 [==============================] - 6s 3ms/step - loss: 2.2729 - accuracy: 0.2047\n",
      "\u001b[2m\u001b[36m(RayTrainWorker pid=19261)\u001b[0m Epoch 2/20\n",
      "32/70 [============>.................] - ETA: 0s - loss: 2.2343 - accuracy: 0.3662\n",
      "63/70 [==========================>...] - ETA: 0s - loss: 2.2233 - accuracy: 0.3953\n",
      "70/70 [==============================] - 0s 3ms/step - loss: 2.2203 - accuracy: 0.4020\n",
      "\u001b[2m\u001b[36m(RayTrainWorker pid=19261)\u001b[0m Epoch 3/20\n",
      "33/70 [=============>................] - ETA: 0s - loss: 2.1755 - accuracy: 0.5459\n",
      "65/70 [==========================>...] - ETA: 0s - loss: 2.1582 - accuracy: 0.5639\n",
      "70/70 [==============================] - 0s 3ms/step - loss: 2.1553 - accuracy: 0.5696\n",
      "\u001b[2m\u001b[36m(RayTrainWorker pid=19261)\u001b[0m Epoch 4/20\n",
      "33/70 [=============>................] - ETA: 0s - loss: 2.0982 - accuracy: 0.6259\n",
      "65/70 [==========================>...] - ETA: 0s - loss: 2.0805 - accuracy: 0.6447\n",
      "70/70 [==============================] - 0s 3ms/step - loss: 2.0774 - accuracy: 0.6484\n",
      "\u001b[2m\u001b[36m(RayTrainWorker pid=19261)\u001b[0m Epoch 5/20\n",
      " 1/70 [..............................] - ETA: 0s - loss: 2.0455 - accuracy: 0.6562\n",
      "65/70 [==========================>...] - ETA: 0s - loss: 1.9861 - accuracy: 0.6779\n",
      "70/70 [==============================] - 0s 3ms/step - loss: 1.9814 - accuracy: 0.6806\n",
      "\u001b[2m\u001b[36m(RayTrainWorker pid=19261)\u001b[0m Epoch 6/20\n",
      " 1/70 [..............................] - ETA: 0s - loss: 1.8899 - accuracy: 0.7188\n",
      "65/70 [==========================>...] - ETA: 0s - loss: 1.8590 - accuracy: 0.7272\n",
      "70/70 [==============================] - 0s 3ms/step - loss: 1.8538 - accuracy: 0.7281\n",
      "\u001b[2m\u001b[36m(RayTrainWorker pid=19261)\u001b[0m Epoch 7/20\n",
      "34/70 [=============>................] - ETA: 0s - loss: 1.7427 - accuracy: 0.7394\n",
      "67/70 [===========================>..] - ETA: 0s - loss: 1.7089 - accuracy: 0.7367\n",
      "70/70 [==============================] - 0s 3ms/step - loss: 1.7071 - accuracy: 0.7357\n",
      "\u001b[2m\u001b[36m(RayTrainWorker pid=19261)\u001b[0m Epoch 8/20\n",
      "34/70 [=============>................] - ETA: 0s - loss: 1.5956 - accuracy: 0.7537\n",
      "67/70 [===========================>..] - ETA: 0s - loss: 1.5541 - accuracy: 0.7624\n",
      "70/70 [==============================] - 0s 3ms/step - loss: 1.5498 - accuracy: 0.7645\n",
      "\u001b[2m\u001b[36m(RayTrainWorker pid=19261)\u001b[0m Epoch 9/20\n",
      "33/70 [=============>................] - ETA: 0s - loss: 1.4184 - accuracy: 0.7827\n",
      "65/70 [==========================>...] - ETA: 0s - loss: 1.3861 - accuracy: 0.7832\n",
      "70/70 [==============================] - 0s 3ms/step - loss: 1.3802 - accuracy: 0.7824\n",
      "\u001b[2m\u001b[36m(RayTrainWorker pid=19261)\u001b[0m Epoch 10/20\n",
      " 1/70 [..............................] - ETA: 0s - loss: 1.3469 - accuracy: 0.7031\n",
      "66/70 [===========================>..] - ETA: 0s - loss: 1.2289 - accuracy: 0.7865\n",
      "70/70 [==============================] - 0s 3ms/step - loss: 1.2238 - accuracy: 0.7893\n",
      "\u001b[2m\u001b[36m(RayTrainWorker pid=19261)\u001b[0m Epoch 11/20\n",
      " 1/70 [..............................] - ETA: 0s - loss: 1.0737 - accuracy: 0.8906\n",
      "66/70 [===========================>..] - ETA: 0s - loss: 1.0864 - accuracy: 0.8054\n",
      "70/70 [==============================] - 0s 3ms/step - loss: 1.0818 - accuracy: 0.8087\n",
      "\u001b[2m\u001b[36m(RayTrainWorker pid=19261)\u001b[0m Epoch 12/20\n",
      " 1/70 [..............................] - ETA: 0s - loss: 1.0174 - accuracy: 0.8125\n",
      "67/70 [===========================>..] - ETA: 0s - loss: 0.9550 - accuracy: 0.8284\n",
      "70/70 [==============================] - 0s 3ms/step - loss: 0.9536 - accuracy: 0.8275\n",
      "\u001b[2m\u001b[36m(RayTrainWorker pid=19261)\u001b[0m Epoch 13/20\n",
      "34/70 [=============>................] - ETA: 0s - loss: 0.8688 - accuracy: 0.8373\n",
      "67/70 [===========================>..] - ETA: 0s - loss: 0.8630 - accuracy: 0.8330\n",
      "70/70 [==============================] - 0s 3ms/step - loss: 0.8619 - accuracy: 0.8337\n",
      "\u001b[2m\u001b[36m(RayTrainWorker pid=19261)\u001b[0m Epoch 14/20\n",
      "33/70 [=============>................] - ETA: 0s - loss: 0.8164 - accuracy: 0.8324\n",
      "65/70 [==========================>...] - ETA: 0s - loss: 0.7917 - accuracy: 0.8401\n",
      "70/70 [==============================] - 0s 3ms/step - loss: 0.7928 - accuracy: 0.8402\n",
      "\u001b[2m\u001b[36m(RayTrainWorker pid=19261)\u001b[0m Epoch 15/20\n",
      " 1/70 [..............................] - ETA: 0s - loss: 0.8809 - accuracy: 0.8438\n",
      "66/70 [===========================>..] - ETA: 0s - loss: 0.7077 - accuracy: 0.8608\n",
      "70/70 [==============================] - 0s 3ms/step - loss: 0.7089 - accuracy: 0.8609\n",
      "\u001b[2m\u001b[36m(RayTrainWorker pid=19261)\u001b[0m Epoch 16/20\n",
      " 1/70 [..............................] - ETA: 0s - loss: 0.7248 - accuracy: 0.8594\n",
      "66/70 [===========================>..] - ETA: 0s - loss: 0.6742 - accuracy: 0.8523\n",
      "70/70 [==============================] - 0s 3ms/step - loss: 0.6775 - accuracy: 0.8504\n",
      "\u001b[2m\u001b[36m(RayTrainWorker pid=19261)\u001b[0m Epoch 17/20\n",
      " 1/70 [..............................] - ETA: 0s - loss: 0.6114 - accuracy: 0.9062\n",
      "66/70 [===========================>..] - ETA: 0s - loss: 0.6534 - accuracy: 0.8525\n",
      "70/70 [==============================] - 0s 3ms/step - loss: 0.6524 - accuracy: 0.8511\n",
      "\u001b[2m\u001b[36m(RayTrainWorker pid=19261)\u001b[0m Epoch 18/20\n",
      "34/70 [=============>................] - ETA: 0s - loss: 0.6167 - accuracy: 0.8621\n",
      "67/70 [===========================>..] - ETA: 0s - loss: 0.6058 - accuracy: 0.8638\n",
      "70/70 [==============================] - 0s 3ms/step - loss: 0.6059 - accuracy: 0.8618\n",
      "\u001b[2m\u001b[36m(RayTrainWorker pid=19261)\u001b[0m Epoch 19/20\n",
      "34/70 [=============>................] - ETA: 0s - loss: 0.5952 - accuracy: 0.8649\n",
      "67/70 [===========================>..] - ETA: 0s - loss: 0.5787 - accuracy: 0.8629\n",
      "70/70 [==============================] - 0s 3ms/step - loss: 0.5781 - accuracy: 0.8618\n",
      "\u001b[2m\u001b[36m(RayTrainWorker pid=19261)\u001b[0m Epoch 20/20\n",
      " 1/70 [..............................] - ETA: 0s - loss: 0.4822 - accuracy: 0.8906\n",
      "66/70 [===========================>..] - ETA: 0s - loss: 0.5650 - accuracy: 0.8627\n",
      "70/70 [==============================] - 0s 3ms/step - loss: 0.5666 - accuracy: 0.8634\n"
     ]
    }
   ],
   "source": [
    "trainer = TensorflowTrainer(\n",
    "    train_loop_per_worker=train_func,\n",
    "    train_loop_config=config,\n",
    "    scaling_config=ScalingConfig(num_workers=args['num_workers'], use_gpu=args['use_gpu']),\n",
    "    run_config=RunConfig(local_dir=f'{os.getenv(\"SCRATCH\")}/ray_results', name='TF_MNIST')\n",
    ")\n",
    "results = trainer.fit()"
   ]
  },
  {
   "cell_type": "code",
   "execution_count": 14,
   "id": "64fd01a6-b0bd-407f-b408-f8b59063537e",
   "metadata": {},
   "outputs": [
    {
     "data": {
      "text/plain": [
       "Result(metrics={'loss': 0.5665597319602966, 'accuracy': 0.8633928298950195, '_timestamp': 1682271199, '_time_this_iter_s': 0.2199568748474121, '_training_iteration': 20, 'should_checkpoint': True, 'done': True, 'trial_id': 'e40f7_00000', 'experiment_tag': '0'}, error=None, log_dir=PosixPath('/pscratch/sd/a/asnaylor/ray_results/TF_MNIST/TensorflowTrainer_e40f7_00000_0_2023-04-23_10-32-59'))"
      ]
     },
     "execution_count": 14,
     "metadata": {},
     "output_type": "execute_result"
    },
    {
     "name": "stderr",
     "output_type": "stream",
     "text": [
      "\u001b[2m\u001b[36m(RayTrainWorker pid=19261)\u001b[0m Exception ignored in: <function Pool.__del__ at 0x7f73a8189e50>\n",
      "\u001b[2m\u001b[36m(RayTrainWorker pid=19261)\u001b[0m Traceback (most recent call last):\n",
      "\u001b[2m\u001b[36m(RayTrainWorker pid=19261)\u001b[0m   File \"/global/common/software/nersc/pm-2022q4/sw/tensorflow/2.9.0/lib/python3.9/multiprocessing/pool.py\", line 268, in __del__\n",
      "\u001b[2m\u001b[36m(RayTrainWorker pid=19261)\u001b[0m     self._change_notifier.put(None)\n",
      "\u001b[2m\u001b[36m(RayTrainWorker pid=19261)\u001b[0m   File \"/global/common/software/nersc/pm-2022q4/sw/tensorflow/2.9.0/lib/python3.9/multiprocessing/queues.py\", line 377, in put\n",
      "\u001b[2m\u001b[36m(RayTrainWorker pid=19261)\u001b[0m     self._writer.send_bytes(obj)\n",
      "\u001b[2m\u001b[36m(RayTrainWorker pid=19261)\u001b[0m   File \"/global/common/software/nersc/pm-2022q4/sw/tensorflow/2.9.0/lib/python3.9/multiprocessing/connection.py\", line 205, in send_bytes\n",
      "\u001b[2m\u001b[36m(RayTrainWorker pid=19261)\u001b[0m     self._send_bytes(m[offset:offset + size])\n",
      "\u001b[2m\u001b[36m(RayTrainWorker pid=19261)\u001b[0m   File \"/global/common/software/nersc/pm-2022q4/sw/tensorflow/2.9.0/lib/python3.9/multiprocessing/connection.py\", line 416, in _send_bytes\n",
      "\u001b[2m\u001b[36m(RayTrainWorker pid=19261)\u001b[0m     self._send(header + buf)\n",
      "\u001b[2m\u001b[36m(RayTrainWorker pid=19261)\u001b[0m   File \"/global/common/software/nersc/pm-2022q4/sw/tensorflow/2.9.0/lib/python3.9/multiprocessing/connection.py\", line 373, in _send\n",
      "\u001b[2m\u001b[36m(RayTrainWorker pid=19261)\u001b[0m     n = write(self._handle, buf)\n",
      "\u001b[2m\u001b[36m(RayTrainWorker pid=19261)\u001b[0m OSError: [Errno 9] Bad file descriptor\n",
      "\u001b[2m\u001b[36m(RayTrainWorker pid=19261)\u001b[0m Exception ignored in: <function Pool.__del__ at 0x7f73a8189e50>\n",
      "\u001b[2m\u001b[36m(RayTrainWorker pid=19261)\u001b[0m Traceback (most recent call last):\n",
      "\u001b[2m\u001b[36m(RayTrainWorker pid=19261)\u001b[0m   File \"/global/common/software/nersc/pm-2022q4/sw/tensorflow/2.9.0/lib/python3.9/multiprocessing/pool.py\", line 268, in __del__\n",
      "\u001b[2m\u001b[36m(RayTrainWorker pid=19261)\u001b[0m     self._change_notifier.put(None)\n",
      "\u001b[2m\u001b[36m(RayTrainWorker pid=19261)\u001b[0m   File \"/global/common/software/nersc/pm-2022q4/sw/tensorflow/2.9.0/lib/python3.9/multiprocessing/queues.py\", line 377, in put\n",
      "\u001b[2m\u001b[36m(RayTrainWorker pid=19261)\u001b[0m     self._writer.send_bytes(obj)\n",
      "\u001b[2m\u001b[36m(RayTrainWorker pid=19261)\u001b[0m   File \"/global/common/software/nersc/pm-2022q4/sw/tensorflow/2.9.0/lib/python3.9/multiprocessing/connection.py\", line 205, in send_bytes\n",
      "\u001b[2m\u001b[36m(RayTrainWorker pid=19261)\u001b[0m     self._send_bytes(m[offset:offset + size])\n",
      "\u001b[2m\u001b[36m(RayTrainWorker pid=19261)\u001b[0m   File \"/global/common/software/nersc/pm-2022q4/sw/tensorflow/2.9.0/lib/python3.9/multiprocessing/connection.py\", line 416, in _send_bytes\n",
      "\u001b[2m\u001b[36m(RayTrainWorker pid=19261)\u001b[0m     self._send(header + buf)\n",
      "\u001b[2m\u001b[36m(RayTrainWorker pid=19261)\u001b[0m   File \"/global/common/software/nersc/pm-2022q4/sw/tensorflow/2.9.0/lib/python3.9/multiprocessing/connection.py\", line 373, in _send\n",
      "\u001b[2m\u001b[36m(RayTrainWorker pid=19261)\u001b[0m     n = write(self._handle, buf)\n",
      "\u001b[2m\u001b[36m(RayTrainWorker pid=19261)\u001b[0m OSError: [Errno 9] Bad file descriptor\n"
     ]
    }
   ],
   "source": [
    "results"
   ]
  },
  {
   "cell_type": "code",
   "execution_count": 32,
   "id": "017b8654-75fb-42c2-b66f-5e509f0259a7",
   "metadata": {},
   "outputs": [
    {
     "data": {
      "text/plain": [
       "<AxesSubplot: xlabel='training_iteration'>"
      ]
     },
     "execution_count": 32,
     "metadata": {},
     "output_type": "execute_result"
    },
    {
     "data": {
      "image/png": "[encoded data removed]",
      "text/plain": [
       "<Figure size 640x480 with 1 Axes>"
      ]
     },
     "metadata": {},
     "output_type": "display_data"
    }
   ],
   "source": [
    "results.metrics_dataframe.plot(\"training_iteration\", \"accuracy\")"
   ]
  },
  {
   "cell_type": "code",
   "execution_count": 58,
   "id": "33f8a413-f3df-4ed5-b8f5-24865b4bd5e6",
   "metadata": {},
   "outputs": [],
   "source": [
    "from ray.train.tensorflow import TensorflowCheckpoint, TensorflowPredictor\n",
    "from ray.train.batch_predictor import BatchPredictor\n",
    "\n",
    "result_checkpoint: TensorflowCheckpoint = results.checkpoint\n",
    "predictor = TensorflowPredictor.from_checkpoint(\n",
    "    result_checkpoint, model_definition=build_cnn_model\n",
    ")"
   ]
  },
  {
   "cell_type": "code",
   "execution_count": 135,
   "id": "090a9eca-3a47-45f8-ab8e-5da746d9dcf3",
   "metadata": {},
   "outputs": [],
   "source": [
    "_, (x_test, y_test) = tf.keras.datasets.mnist.load_data()\n",
    "# The `x` arrays are in uint8 and have values in the [0, 255] range.\n",
    "# You need to convert them to float32 with values in the [0, 1] range.\n",
    "x_test = x_test / np.float32(255)\n",
    "y_test = y_test.astype(np.int64)"
   ]
  },
  {
   "cell_type": "code",
   "execution_count": 137,
   "id": "1ec1b8d4-ca17-429f-a64c-ff2e6b513b11",
   "metadata": {},
   "outputs": [
    {
     "name": "stdout",
     "output_type": "stream",
     "text": [
      "Predicted Class = 7\n"
     ]
    },
    {
     "data": {
      "image/png": "[encoded data removed]",
      "text/plain": [
       "<Figure size 200x200 with 1 Axes>"
      ]
     },
     "metadata": {},
     "output_type": "display_data"
    }
   ],
   "source": [
    "import matplotlib.pyplot as plt\n",
    "\n",
    "test_img = x_test[0:1,:,:]\n",
    "plt.figure(figsize=(2, 2))\n",
    "plt.imshow(test_img.reshape((28, 28)))\n",
    "\n",
    "predicted_class = np.argmax(predictor.predict(test_img)['predictions'])\n",
    "print(\"Predicted Class =\", predicted_class)"
   ]
  },
  {
   "cell_type": "markdown",
   "id": "a4f03240-7248-444a-8211-0c2e1400e1f5",
   "metadata": {},
   "source": [
    "### Shutdown"
   ]
  },
  {
   "cell_type": "code",
   "execution_count": 138,
   "id": "cfbf0ba5-241d-4e31-8340-7768f6a98477",
   "metadata": {},
   "outputs": [],
   "source": [
    "ray.shutdown()"
   ]
  },
  {
   "cell_type": "code",
   "execution_count": 139,
   "id": "b85e9f91-08d4-4224-9a04-904154fa82f3",
   "metadata": {},
   "outputs": [],
   "source": [
    "ray_cluster.kill()"
   ]
  },
  {
   "cell_type": "code",
   "execution_count": null,
   "id": "a8b08ffd-b10a-49ca-abaf-bfad62fa7cd3",
   "metadata": {},
   "outputs": [],
   "source": []
  }
 ],
 "metadata": {
  "kernelspec": {
   "display_name": "tensorflow-2.9.0",
   "language": "python",
   "name": "tensorflow-2.9.0"
  },
  "language_info": {
   "codemirror_mode": {
    "name": "ipython",
    "version": 3
   },
   "file_extension": ".py",
   "mimetype": "text/x-python",
   "name": "python",
   "nbconvert_exporter": "python",
   "pygments_lexer": "ipython3",
   "version": "3.9.15"
  }
 },
 "nbformat": 4,
 "nbformat_minor": 5
}
