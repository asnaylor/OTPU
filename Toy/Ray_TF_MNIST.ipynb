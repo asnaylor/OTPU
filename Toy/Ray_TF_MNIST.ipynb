{
 "cells": [
  {
   "cell_type": "markdown",
   "id": "43744ab3-95f2-4963-9015-1b465176ee23",
   "metadata": {},
   "source": [
    "# Ray TF MNIST\n",
    "\n",
    "https://docs.ray.io/en/latest/train/examples/tf/tensorflow_mnist_example.html\n",
    "\n",
    "Using `tensorflow-2.9.0` NERSC kernel.\n",
    "\n"
   ]
  },
  {
   "cell_type": "code",
   "execution_count": 1,
   "id": "64aaa958-ab0e-41ab-8cd2-df0d866f14da",
   "metadata": {},
   "outputs": [],
   "source": [
    "import sys\n",
    "import os"
   ]
  },
  {
   "cell_type": "code",
   "execution_count": 2,
   "id": "d9fd205e-2537-4dc4-ac6a-25a58de5771e",
   "metadata": {},
   "outputs": [],
   "source": [
    "#!{sys.executable} -m pip install \"ray[air]==2.3.1\""
   ]
  },
  {
   "cell_type": "markdown",
   "id": "0e752fae-0bef-4abc-a8b8-0048e5400d79",
   "metadata": {},
   "source": [
    "# Start Ray"
   ]
  },
  {
   "cell_type": "code",
   "execution_count": 3,
   "id": "ff321530-5161-4a46-b584-3e83b0beb411",
   "metadata": {},
   "outputs": [
    {
     "name": "stdout",
     "output_type": "stream",
     "text": [
      "<> Starting Ray head node\n"
     ]
    },
    {
     "name": "stderr",
     "output_type": "stream",
     "text": [
      "Warning: This is an experimental release of NCCL with an OFI plugin for use with libfabric on Perlmutter.\n",
      "In case of issues, please refer to our known issues: https://docs.nersc.gov/current/\n",
      "and open a help ticket if your issue is not listed: https://help.nersc.gov/\n"
     ]
    },
    {
     "name": "stdout",
     "output_type": "stream",
     "text": [
      "2023-04-22 21:49:51,277\tINFO usage_lib.py:435 -- Usage stats collection is disabled.\n",
      "2023-04-22 21:49:51,278\tINFO scripts.py:710 -- \u001b[37mLocal node IP\u001b[39m: \u001b[1m128.55.64.15\u001b[22m\n",
      "2023-04-22 21:49:53,378\tSUCC scripts.py:747 -- \u001b[32m--------------------\u001b[39m\n",
      "2023-04-22 21:49:53,378\tSUCC scripts.py:748 -- \u001b[32mRay runtime started.\u001b[39m\n",
      "2023-04-22 21:49:53,378\tSUCC scripts.py:749 -- \u001b[32m--------------------\u001b[39m\n",
      "2023-04-22 21:49:53,378\tINFO scripts.py:751 -- \u001b[36mNext steps\u001b[39m\n",
      "2023-04-22 21:49:53,378\tINFO scripts.py:752 -- To connect to this Ray runtime from another node, run\n",
      "2023-04-22 21:49:53,378\tINFO scripts.py:755 -- \u001b[1m  ray start --address='128.55.64.15:6379'\u001b[22m\n",
      "2023-04-22 21:49:53,378\tINFO scripts.py:771 -- Alternatively, use the following Python code:\n",
      "2023-04-22 21:49:53,378\tINFO scripts.py:773 -- \u001b[35mimport\u001b[39m\u001b[26m ray\n",
      "2023-04-22 21:49:53,378\tINFO scripts.py:777 -- ray\u001b[35m.\u001b[39m\u001b[26minit(address\u001b[35m=\u001b[39m\u001b[26m\u001b[33m'auto'\u001b[39m\u001b[26m)\n",
      "2023-04-22 21:49:53,378\tINFO scripts.py:790 -- To see the status of the cluster, use\n",
      "2023-04-22 21:49:53,378\tINFO scripts.py:791 --   \u001b[1mray status\u001b[22m\u001b[26m\n",
      "2023-04-22 21:49:53,378\tINFO scripts.py:794 -- To monitor and debug Ray, view the dashboard at \n",
      "2023-04-22 21:49:53,378\tINFO scripts.py:795 --   \u001b[1m127.0.0.1:8265\u001b[22m\u001b[26m\n",
      "2023-04-22 21:49:53,379\tINFO scripts.py:801 -- \u001b[4mIf connection fails, check your firewall settings and network configuration.\u001b[24m\n",
      "2023-04-22 21:49:53,379\tINFO scripts.py:809 -- To terminate the Ray runtime, run\n",
      "2023-04-22 21:49:53,379\tINFO scripts.py:810 -- \u001b[1m  ray stop\u001b[22m\n",
      "2023-04-22 21:49:53,379\tINFO scripts.py:891 -- \u001b[36m\u001b[1m--block\u001b[22m\u001b[39m\n",
      "2023-04-22 21:49:53,379\tINFO scripts.py:892 -- This command will now block forever until terminated by a signal.\n",
      "2023-04-22 21:49:53,379\tINFO scripts.py:895 -- Running subprocesses are monitored and a message will be printed if any of them terminate unexpectedly. Subprocesses exit with SIGTERM will be treated as graceful, thus NOT reported.\n",
      "<> Starting Prometheus Service\n",
      "<> Starting Grafana Service\n",
      "<> Cluster completed startup\n"
     ]
    }
   ],
   "source": [
    "from ray_utils import start_ray_cluster\n",
    "ray_cluster = start_ray_cluster()"
   ]
  },
  {
   "cell_type": "code",
   "execution_count": 4,
   "id": "ecc01489-0a6e-4e98-98c1-cfbe7093d546",
   "metadata": {},
   "outputs": [],
   "source": [
    "import ray\n",
    "\n",
    "if ray.is_initialized:\n",
    "    ray.shutdown()\n",
    "\n",
    "ray_log = False\n",
    "if not ray_log:\n",
    "    import logging\n",
    "    ray.init(address='auto', logging_level=logging.ERROR)\n",
    "else:\n",
    "    ray.init(address='auto')"
   ]
  },
  {
   "cell_type": "markdown",
   "id": "eb2cc25c-64be-44b7-a091-4a7b2561f13a",
   "metadata": {},
   "source": [
    "### Check ray cluster resources"
   ]
  },
  {
   "cell_type": "code",
   "execution_count": 5,
   "id": "98df2ce3-9e0c-435a-bb9f-1e7e3a3b3a64",
   "metadata": {},
   "outputs": [
    {
     "data": {
      "text/plain": [
       "{'accelerator_type:A100': 1.0,\n",
       " 'object_store_memory': 142508620185.0,\n",
       " 'memory': 322520113767.0,\n",
       " 'GPU': 1.0,\n",
       " 'node:128.55.64.15': 1.0,\n",
       " 'CPU': 256.0}"
      ]
     },
     "execution_count": 5,
     "metadata": {},
     "output_type": "execute_result"
    }
   ],
   "source": [
    "ray.cluster_resources()"
   ]
  },
  {
   "cell_type": "markdown",
   "id": "5bb9efd8-1e1b-4cd5-bc84-eb81e682d21a",
   "metadata": {},
   "source": [
    "### View dashboards"
   ]
  },
  {
   "cell_type": "code",
   "execution_count": 6,
   "id": "95b0bd1c-3ba9-4c17-948b-4f33a9754bec",
   "metadata": {},
   "outputs": [
    {
     "data": {
      "text/plain": [
       "'https://jupyter.nersc.gov/user/asnaylor/perlmutter-shared-node-cpu/proxy/localhost:8265/#/new/overview'"
      ]
     },
     "execution_count": 6,
     "metadata": {},
     "output_type": "execute_result"
    }
   ],
   "source": [
    "f'https://jupyter.nersc.gov{os.getenv(\"JUPYTERHUB_SERVICE_PREFIX\")}proxy/localhost:8265/#/new/overview'"
   ]
  },
  {
   "cell_type": "code",
   "execution_count": 7,
   "id": "de0d5b72-0347-46e5-8ebc-8dd4a0b23f03",
   "metadata": {},
   "outputs": [
    {
     "data": {
      "text/plain": [
       "'https://jupyter.nersc.gov/user/asnaylor/perlmutter-shared-node-cpu/proxy/3000/d/rayDefaultDashboard'"
      ]
     },
     "execution_count": 7,
     "metadata": {},
     "output_type": "execute_result"
    }
   ],
   "source": [
    "f'https://jupyter.nersc.gov{os.getenv(\"JUPYTERHUB_SERVICE_PREFIX\")}proxy/3000/d/rayDefaultDashboard'"
   ]
  },
  {
   "cell_type": "markdown",
   "id": "37bd2df0-0ed8-432d-8fec-5129a9b4a6f1",
   "metadata": {},
   "source": [
    "# MINST Code"
   ]
  },
  {
   "cell_type": "code",
   "execution_count": 8,
   "id": "f337c02f-ad3d-4b36-a026-3527a799f23f",
   "metadata": {},
   "outputs": [],
   "source": [
    "import numpy as np\n",
    "import json\n",
    "from ray.air.result import Result\n",
    "import tensorflow as tf\n",
    "\n",
    "from ray.train.tensorflow import TensorflowTrainer\n",
    "from ray.air.integrations.keras import Callback as TrainCheckpointReportCallback\n",
    "from ray.air.config import ScalingConfig"
   ]
  },
  {
   "cell_type": "code",
   "execution_count": 9,
   "id": "a87cf711-8e6d-4fbb-801b-f29ccab86fc9",
   "metadata": {},
   "outputs": [],
   "source": [
    "def mnist_dataset(batch_size: int) -> tf.data.Dataset:\n",
    "    (x_train, y_train), _ = tf.keras.datasets.mnist.load_data()\n",
    "    # The `x` arrays are in uint8 and have values in the [0, 255] range.\n",
    "    # You need to convert them to float32 with values in the [0, 1] range.\n",
    "    x_train = x_train / np.float32(255)\n",
    "    y_train = y_train.astype(np.int64)\n",
    "    train_dataset = (\n",
    "        tf.data.Dataset.from_tensor_slices((x_train, y_train))\n",
    "        .shuffle(60000)\n",
    "        .repeat()\n",
    "        .batch(batch_size)\n",
    "    )\n",
    "    return train_dataset"
   ]
  },
  {
   "cell_type": "code",
   "execution_count": 10,
   "id": "c66b60b3-5e48-483b-b259-cfa4e7a79def",
   "metadata": {},
   "outputs": [],
   "source": [
    "def build_cnn_model() -> tf.keras.Model:\n",
    "    model = tf.keras.Sequential(\n",
    "        [\n",
    "            tf.keras.Input(shape=(28, 28)),\n",
    "            tf.keras.layers.Reshape(target_shape=(28, 28, 1)),\n",
    "            tf.keras.layers.Conv2D(32, 3, activation=\"relu\"),\n",
    "            tf.keras.layers.Flatten(),\n",
    "            tf.keras.layers.Dense(128, activation=\"relu\"),\n",
    "            tf.keras.layers.Dense(10),\n",
    "        ]\n",
    "    )\n",
    "    return model\n"
   ]
  },
  {
   "cell_type": "code",
   "execution_count": 11,
   "id": "276d1524-f4ef-4108-9ff3-1f2290c1382a",
   "metadata": {},
   "outputs": [],
   "source": [
    "#import atexit\n",
    "\n",
    "def train_func(config: dict):\n",
    "    per_worker_batch_size = config.get(\"batch_size\", 64)\n",
    "    epochs = config.get(\"epochs\", 3)\n",
    "    steps_per_epoch = config.get(\"steps_per_epoch\", 70)\n",
    "\n",
    "    tf_config = json.loads(os.environ[\"TF_CONFIG\"])\n",
    "    num_workers = len(tf_config[\"cluster\"][\"worker\"])\n",
    "\n",
    "    strategy = tf.distribute.MultiWorkerMirroredStrategy()\n",
    "    #atexit.register(strategy._extended._collective_ops._pool.close) # type: ignore\n",
    "    \n",
    "    global_batch_size = per_worker_batch_size * num_workers\n",
    "    multi_worker_dataset = mnist_dataset(global_batch_size)\n",
    "\n",
    "    with strategy.scope():\n",
    "        # Model building/compiling need to be within `strategy.scope()`.\n",
    "        multi_worker_model = build_cnn_model()\n",
    "        learning_rate = config.get(\"lr\", 0.001)\n",
    "        multi_worker_model.compile(\n",
    "            loss=tf.keras.losses.SparseCategoricalCrossentropy(from_logits=True),\n",
    "            optimizer=tf.keras.optimizers.SGD(learning_rate=learning_rate),\n",
    "            metrics=[\"accuracy\"],\n",
    "        )\n",
    "\n",
    "    history = multi_worker_model.fit(\n",
    "        multi_worker_dataset,\n",
    "        epochs=epochs,\n",
    "        steps_per_epoch=steps_per_epoch,\n",
    "        callbacks=[TrainCheckpointReportCallback()],\n",
    "    )\n",
    "    results = history.history\n",
    "    return results"
   ]
  },
  {
   "cell_type": "markdown",
   "id": "d72adde3-1362-4066-9ea8-782ef36fd52e",
   "metadata": {},
   "source": [
    "# Run MNIST Code"
   ]
  },
  {
   "cell_type": "code",
   "execution_count": 17,
   "id": "6f59c628-ae62-4240-bb48-6c16146ee562",
   "metadata": {},
   "outputs": [],
   "source": [
    "args = {\n",
    "    'num_workers': int(ray.cluster_resources()['GPU']),\n",
    "    'use_gpu': True,\n",
    "    'epochs': 20\n",
    "}\n",
    "config = {\"lr\": 1e-3, \"batch_size\": 64, \"epochs\": args['epochs']}"
   ]
  },
  {
   "cell_type": "code",
   "execution_count": 18,
   "id": "cde8ef28-c946-4db4-ab79-bef56f2c3e95",
   "metadata": {},
   "outputs": [
    {
     "data": {
      "text/html": [
       "<div class=\"tuneStatus\">\n",
       "  <div style=\"display: flex;flex-direction: row\">\n",
       "    <div style=\"display: flex;flex-direction: column;\">\n",
       "      <h3>Tune Status</h3>\n",
       "      <table>\n",
       "<tbody>\n",
       "<tr><td>Current time:</td><td>2023-04-22 21:53:01</td></tr>\n",
       "<tr><td>Running for: </td><td>00:00:19.35        </td></tr>\n",
       "<tr><td>Memory:      </td><td>96.3/503.1 GiB     </td></tr>\n",
       "</tbody>\n",
       "</table>\n",
       "    </div>\n",
       "    <div class=\"vDivider\"></div>\n",
       "    <div class=\"systemInfo\">\n",
       "      <h3>System Info</h3>\n",
       "      Using FIFO scheduling algorithm.<br>Resources requested: 0/256 CPUs, 0/1 GPUs, 0.0/300.37 GiB heap, 0.0/132.72 GiB objects (0.0/1.0 accelerator_type:A100)\n",
       "    </div>\n",
       "    \n",
       "  </div>\n",
       "  <div class=\"hDivider\"></div>\n",
       "  <div class=\"trialStatus\">\n",
       "    <h3>Trial Status</h3>\n",
       "    <table>\n",
       "<thead>\n",
       "<tr><th>Trial name                   </th><th>status    </th><th>loc                </th><th style=\"text-align: right;\">  iter</th><th style=\"text-align: right;\">  total time (s)</th><th style=\"text-align: right;\">    loss</th><th style=\"text-align: right;\">  accuracy</th><th style=\"text-align: right;\">  _timestamp</th></tr>\n",
       "</thead>\n",
       "<tbody>\n",
       "<tr><td>TensorflowTrainer_ae678_00000</td><td>TERMINATED</td><td>128.55.64.15:165042</td><td style=\"text-align: right;\">    20</td><td style=\"text-align: right;\">         13.1295</td><td style=\"text-align: right;\">0.553993</td><td style=\"text-align: right;\">   0.86808</td><td style=\"text-align: right;\">  1682225578</td></tr>\n",
       "</tbody>\n",
       "</table>\n",
       "  </div>\n",
       "</div>\n",
       "<style>\n",
       ".tuneStatus {\n",
       "  color: var(--jp-ui-font-color1);\n",
       "}\n",
       ".tuneStatus .systemInfo {\n",
       "  display: flex;\n",
       "  flex-direction: column;\n",
       "}\n",
       ".tuneStatus td {\n",
       "  white-space: nowrap;\n",
       "}\n",
       ".tuneStatus .trialStatus {\n",
       "  display: flex;\n",
       "  flex-direction: column;\n",
       "}\n",
       ".tuneStatus h3 {\n",
       "  font-weight: bold;\n",
       "}\n",
       ".tuneStatus .hDivider {\n",
       "  border-bottom-width: var(--jp-border-width);\n",
       "  border-bottom-color: var(--jp-border-color0);\n",
       "  border-bottom-style: solid;\n",
       "}\n",
       ".tuneStatus .vDivider {\n",
       "  border-left-width: var(--jp-border-width);\n",
       "  border-left-color: var(--jp-border-color0);\n",
       "  border-left-style: solid;\n",
       "  margin: 0.5em 1em 0.5em 1em;\n",
       "}\n",
       "</style>\n"
      ],
      "text/plain": [
       "<IPython.core.display.HTML object>"
      ]
     },
     "metadata": {},
     "output_type": "display_data"
    },
    {
     "name": "stderr",
     "output_type": "stream",
     "text": [
      "\u001b[2m\u001b[36m(RayTrainWorker pid=166532)\u001b[0m 2023-04-22 21:52:49.022524: I tensorflow/core/platform/cpu_feature_guard.cc:193] This TensorFlow binary is optimized with oneAPI Deep Neural Network Library (oneDNN) to use the following CPU instructions in performance-critical operations:  AVX2 FMA\n",
      "\u001b[2m\u001b[36m(RayTrainWorker pid=166532)\u001b[0m To enable them in other operations, rebuild TensorFlow with the appropriate compiler flags.\n",
      "\u001b[2m\u001b[36m(RayTrainWorker pid=166532)\u001b[0m 2023-04-22 21:52:49.578053: I tensorflow/core/common_runtime/gpu/gpu_device.cc:1532] Created device /job:localhost/replica:0/task:0/device:GPU:0 with 38219 MB memory:  -> device: 0, name: NVIDIA A100-PCIE-40GB, pci bus id: 0000:c3:00.0, compute capability: 8.0\n",
      "\u001b[2m\u001b[36m(RayTrainWorker pid=166532)\u001b[0m 2023-04-22 21:52:49.598188: I tensorflow/core/common_runtime/gpu/gpu_device.cc:1532] Created device /job:worker/replica:0/task:0/device:GPU:0 with 38219 MB memory:  -> device: 0, name: NVIDIA A100-PCIE-40GB, pci bus id: 0000:c3:00.0, compute capability: 8.0\n",
      "\u001b[2m\u001b[36m(RayTrainWorker pid=166532)\u001b[0m 2023-04-22 21:52:49.622964: I tensorflow/core/distributed_runtime/rpc/grpc_channel.cc:272] Initialize GrpcChannelCache for job worker -> {0 -> 128.55.64.15:52731}\n",
      "\u001b[2m\u001b[36m(RayTrainWorker pid=166532)\u001b[0m 2023-04-22 21:52:49.623044: I tensorflow/core/distributed_runtime/rpc/grpc_channel.cc:272] Initialize GrpcChannelCache for job worker -> {0 -> 128.55.64.15:52731}\n",
      "\u001b[2m\u001b[36m(RayTrainWorker pid=166532)\u001b[0m 2023-04-22 21:52:49.623766: I tensorflow/core/distributed_runtime/rpc/grpc_server_lib.cc:438] Started server with target: grpc://128.55.64.15:52731\n",
      "\u001b[2m\u001b[36m(RayTrainWorker pid=166532)\u001b[0m 2023-04-22 21:52:50.432819: W tensorflow/core/grappler/optimizers/data/auto_shard.cc:776] AUTO sharding policy will apply DATA sharding policy as it failed to apply FILE sharding policy because of the following reason: Found an unshardable source dataset: name: \"TensorSliceDataset/_2\"\n",
      "\u001b[2m\u001b[36m(RayTrainWorker pid=166532)\u001b[0m op: \"TensorSliceDataset\"\n",
      "\u001b[2m\u001b[36m(RayTrainWorker pid=166532)\u001b[0m input: \"Placeholder/_0\"\n",
      "\u001b[2m\u001b[36m(RayTrainWorker pid=166532)\u001b[0m input: \"Placeholder/_1\"\n",
      "\u001b[2m\u001b[36m(RayTrainWorker pid=166532)\u001b[0m attr {\n",
      "\u001b[2m\u001b[36m(RayTrainWorker pid=166532)\u001b[0m   key: \"Toutput_types\"\n",
      "\u001b[2m\u001b[36m(RayTrainWorker pid=166532)\u001b[0m   value {\n",
      "\u001b[2m\u001b[36m(RayTrainWorker pid=166532)\u001b[0m     list {\n",
      "\u001b[2m\u001b[36m(RayTrainWorker pid=166532)\u001b[0m       type: DT_FLOAT\n",
      "\u001b[2m\u001b[36m(RayTrainWorker pid=166532)\u001b[0m       type: DT_INT64\n",
      "\u001b[2m\u001b[36m(RayTrainWorker pid=166532)\u001b[0m     }\n",
      "\u001b[2m\u001b[36m(RayTrainWorker pid=166532)\u001b[0m   }\n",
      "\u001b[2m\u001b[36m(RayTrainWorker pid=166532)\u001b[0m }\n",
      "\u001b[2m\u001b[36m(RayTrainWorker pid=166532)\u001b[0m attr {\n",
      "\u001b[2m\u001b[36m(RayTrainWorker pid=166532)\u001b[0m   key: \"_cardinality\"\n",
      "\u001b[2m\u001b[36m(RayTrainWorker pid=166532)\u001b[0m   value {\n",
      "\u001b[2m\u001b[36m(RayTrainWorker pid=166532)\u001b[0m     i: 60000\n",
      "\u001b[2m\u001b[36m(RayTrainWorker pid=166532)\u001b[0m   }\n",
      "\u001b[2m\u001b[36m(RayTrainWorker pid=166532)\u001b[0m }\n",
      "\u001b[2m\u001b[36m(RayTrainWorker pid=166532)\u001b[0m attr {\n",
      "\u001b[2m\u001b[36m(RayTrainWorker pid=166532)\u001b[0m   key: \"is_files\"\n",
      "\u001b[2m\u001b[36m(RayTrainWorker pid=166532)\u001b[0m   value {\n",
      "\u001b[2m\u001b[36m(RayTrainWorker pid=166532)\u001b[0m     b: false\n",
      "\u001b[2m\u001b[36m(RayTrainWorker pid=166532)\u001b[0m   }\n",
      "\u001b[2m\u001b[36m(RayTrainWorker pid=166532)\u001b[0m }\n",
      "\u001b[2m\u001b[36m(RayTrainWorker pid=166532)\u001b[0m attr {\n",
      "\u001b[2m\u001b[36m(RayTrainWorker pid=166532)\u001b[0m   key: \"metadata\"\n",
      "\u001b[2m\u001b[36m(RayTrainWorker pid=166532)\u001b[0m   value {\n",
      "\u001b[2m\u001b[36m(RayTrainWorker pid=166532)\u001b[0m     s: \"\\n\\024TensorSliceDataset:0\"\n",
      "\u001b[2m\u001b[36m(RayTrainWorker pid=166532)\u001b[0m   }\n",
      "\u001b[2m\u001b[36m(RayTrainWorker pid=166532)\u001b[0m }\n",
      "\u001b[2m\u001b[36m(RayTrainWorker pid=166532)\u001b[0m attr {\n",
      "\u001b[2m\u001b[36m(RayTrainWorker pid=166532)\u001b[0m   key: \"output_shapes\"\n",
      "\u001b[2m\u001b[36m(RayTrainWorker pid=166532)\u001b[0m   value {\n",
      "\u001b[2m\u001b[36m(RayTrainWorker pid=166532)\u001b[0m     list {\n",
      "\u001b[2m\u001b[36m(RayTrainWorker pid=166532)\u001b[0m       shape {\n",
      "\u001b[2m\u001b[36m(RayTrainWorker pid=166532)\u001b[0m         dim {\n",
      "\u001b[2m\u001b[36m(RayTrainWorker pid=166532)\u001b[0m           size: 28\n",
      "\u001b[2m\u001b[36m(RayTrainWorker pid=166532)\u001b[0m         }\n",
      "\u001b[2m\u001b[36m(RayTrainWorker pid=166532)\u001b[0m         dim {\n",
      "\u001b[2m\u001b[36m(RayTrainWorker pid=166532)\u001b[0m           size: 28\n",
      "\u001b[2m\u001b[36m(RayTrainWorker pid=166532)\u001b[0m         }\n",
      "\u001b[2m\u001b[36m(RayTrainWorker pid=166532)\u001b[0m       }\n",
      "\u001b[2m\u001b[36m(RayTrainWorker pid=166532)\u001b[0m       shape {\n",
      "\u001b[2m\u001b[36m(RayTrainWorker pid=166532)\u001b[0m       }\n",
      "\u001b[2m\u001b[36m(RayTrainWorker pid=166532)\u001b[0m     }\n",
      "\u001b[2m\u001b[36m(RayTrainWorker pid=166532)\u001b[0m   }\n",
      "\u001b[2m\u001b[36m(RayTrainWorker pid=166532)\u001b[0m }\n",
      "\u001b[2m\u001b[36m(RayTrainWorker pid=166532)\u001b[0m experimental_type {\n",
      "\u001b[2m\u001b[36m(RayTrainWorker pid=166532)\u001b[0m   type_id: TFT_PRODUCT\n",
      "\u001b[2m\u001b[36m(RayTrainWorker pid=166532)\u001b[0m   args {\n",
      "\u001b[2m\u001b[36m(RayTrainWorker pid=166532)\u001b[0m     type_id: TFT_DATASET\n",
      "\u001b[2m\u001b[36m(RayTrainWorker pid=166532)\u001b[0m     args {\n",
      "\u001b[2m\u001b[36m(RayTrainWorker pid=166532)\u001b[0m       type_id: TFT_PRODUCT\n",
      "\u001b[2m\u001b[36m(RayTrainWorker pid=166532)\u001b[0m       args {\n",
      "\u001b[2m\u001b[36m(RayTrainWorker pid=166532)\u001b[0m         type_id: TFT_TENSOR\n",
      "\u001b[2m\u001b[36m(RayTrainWorker pid=166532)\u001b[0m         args {\n",
      "\u001b[2m\u001b[36m(RayTrainWorker pid=166532)\u001b[0m           type_id: TFT_FLOAT\n",
      "\u001b[2m\u001b[36m(RayTrainWorker pid=166532)\u001b[0m         }\n",
      "\u001b[2m\u001b[36m(RayTrainWorker pid=166532)\u001b[0m       }\n",
      "\u001b[2m\u001b[36m(RayTrainWorker pid=166532)\u001b[0m       args {\n",
      "\u001b[2m\u001b[36m(RayTrainWorker pid=166532)\u001b[0m         type_id: TFT_TENSOR\n",
      "\u001b[2m\u001b[36m(RayTrainWorker pid=166532)\u001b[0m         args {\n",
      "\u001b[2m\u001b[36m(RayTrainWorker pid=166532)\u001b[0m           type_id: TFT_INT64\n",
      "\u001b[2m\u001b[36m(RayTrainWorker pid=166532)\u001b[0m         }\n",
      "\u001b[2m\u001b[36m(RayTrainWorker pid=166532)\u001b[0m       }\n",
      "\u001b[2m\u001b[36m(RayTrainWorker pid=166532)\u001b[0m     }\n",
      "\u001b[2m\u001b[36m(RayTrainWorker pid=166532)\u001b[0m   }\n",
      "\u001b[2m\u001b[36m(RayTrainWorker pid=166532)\u001b[0m }\n",
      "\u001b[2m\u001b[36m(RayTrainWorker pid=166532)\u001b[0m \n"
     ]
    },
    {
     "name": "stdout",
     "output_type": "stream",
     "text": [
      "\u001b[2m\u001b[36m(RayTrainWorker pid=166532)\u001b[0m Epoch 1/20\n"
     ]
    },
    {
     "name": "stderr",
     "output_type": "stream",
     "text": [
      "\u001b[2m\u001b[36m(RayTrainWorker pid=166532)\u001b[0m 2023-04-22 21:52:53.733165: I tensorflow/stream_executor/cuda/cuda_dnn.cc:384] Loaded cuDNN version 8302\n",
      "\u001b[2m\u001b[36m(RayTrainWorker pid=166532)\u001b[0m 2023-04-22 21:52:54.461153: I tensorflow/stream_executor/cuda/cuda_blas.cc:1786] TensorFloat-32 will be used for the matrix multiplication. This will only be logged once.\n"
     ]
    },
    {
     "name": "stdout",
     "output_type": "stream",
     "text": [
      "31/70 [============>.................] - ETA: 0s - loss: 2.2889 - accuracy: 0.1578  \n",
      "64/70 [==========================>...] - ETA: 0s - loss: 2.2780 - accuracy: 0.1907\n"
     ]
    },
    {
     "data": {
      "text/html": [
       "<div class=\"trialProgress\">\n",
       "  <h3>Trial Progress</h3>\n",
       "  <table>\n",
       "<thead>\n",
       "<tr><th>Trial name                   </th><th style=\"text-align: right;\">  _time_this_iter_s</th><th style=\"text-align: right;\">  _timestamp</th><th style=\"text-align: right;\">  _training_iteration</th><th style=\"text-align: right;\">  accuracy</th><th>date               </th><th>done  </th><th>episodes_total  </th><th>experiment_id                   </th><th style=\"text-align: right;\">  experiment_tag</th><th>hostname  </th><th style=\"text-align: right;\">  iterations_since_restore</th><th style=\"text-align: right;\">    loss</th><th>node_ip     </th><th style=\"text-align: right;\">   pid</th><th>should_checkpoint  </th><th style=\"text-align: right;\">  time_since_restore</th><th style=\"text-align: right;\">  time_this_iter_s</th><th style=\"text-align: right;\">  time_total_s</th><th style=\"text-align: right;\">  timestamp</th><th style=\"text-align: right;\">  timesteps_since_restore</th><th>timesteps_total  </th><th style=\"text-align: right;\">  training_iteration</th><th>trial_id   </th><th style=\"text-align: right;\">  warmup_time</th></tr>\n",
       "</thead>\n",
       "<tbody>\n",
       "<tr><td>TensorflowTrainer_ae678_00000</td><td style=\"text-align: right;\">           0.212433</td><td style=\"text-align: right;\">  1682225578</td><td style=\"text-align: right;\">                   20</td><td style=\"text-align: right;\">   0.86808</td><td>2023-04-22_21-52-59</td><td>True  </td><td>                </td><td>0a3ecf71f4694fd294f6e0dbaaefdc8b</td><td style=\"text-align: right;\">               0</td><td>login06   </td><td style=\"text-align: right;\">                        20</td><td style=\"text-align: right;\">0.553993</td><td>128.55.64.15</td><td style=\"text-align: right;\">165042</td><td>True               </td><td style=\"text-align: right;\">             13.1295</td><td style=\"text-align: right;\">          0.212926</td><td style=\"text-align: right;\">       13.1295</td><td style=\"text-align: right;\"> 1682225579</td><td style=\"text-align: right;\">                        0</td><td>                 </td><td style=\"text-align: right;\">                  20</td><td>ae678_00000</td><td style=\"text-align: right;\">   0.00950599</td></tr>\n",
       "</tbody>\n",
       "</table>\n",
       "</div>\n",
       "<style>\n",
       ".trialProgress {\n",
       "  display: flex;\n",
       "  flex-direction: column;\n",
       "  color: var(--jp-ui-font-color1);\n",
       "}\n",
       ".trialProgress h3 {\n",
       "  font-weight: bold;\n",
       "}\n",
       ".trialProgress td {\n",
       "  white-space: nowrap;\n",
       "}\n",
       "</style>\n"
      ],
      "text/plain": [
       "<IPython.core.display.HTML object>"
      ]
     },
     "metadata": {},
     "output_type": "display_data"
    },
    {
     "name": "stdout",
     "output_type": "stream",
     "text": [
      "70/70 [==============================] - 4s 3ms/step - loss: 2.2757 - accuracy: 0.1969\n",
      "\u001b[2m\u001b[36m(RayTrainWorker pid=166532)\u001b[0m Epoch 2/20\n",
      " 1/70 [..............................] - ETA: 0s - loss: 2.2556 - accuracy: 0.2656\n",
      "65/70 [==========================>...] - ETA: 0s - loss: 2.2259 - accuracy: 0.3572\n",
      "70/70 [==============================] - 0s 3ms/step - loss: 2.2237 - accuracy: 0.3652\n",
      "\u001b[2m\u001b[36m(RayTrainWorker pid=166532)\u001b[0m Epoch 3/20\n",
      " 1/70 [..............................] - ETA: 0s - loss: 2.1918 - accuracy: 0.4844\n",
      "66/70 [===========================>..] - ETA: 0s - loss: 2.1607 - accuracy: 0.5329\n",
      "70/70 [==============================] - 0s 3ms/step - loss: 2.1586 - accuracy: 0.5373\n",
      "\u001b[2m\u001b[36m(RayTrainWorker pid=166532)\u001b[0m Epoch 4/20\n",
      "34/70 [=============>................] - ETA: 0s - loss: 2.0954 - accuracy: 0.6232\n",
      "67/70 [===========================>..] - ETA: 0s - loss: 2.0776 - accuracy: 0.6294\n",
      "70/70 [==============================] - 0s 3ms/step - loss: 2.0763 - accuracy: 0.6290\n",
      "\u001b[2m\u001b[36m(RayTrainWorker pid=166532)\u001b[0m Epoch 5/20\n",
      "34/70 [=============>................] - ETA: 0s - loss: 2.0035 - accuracy: 0.6700\n",
      "67/70 [===========================>..] - ETA: 0s - loss: 1.9756 - accuracy: 0.6821\n",
      "70/70 [==============================] - 0s 3ms/step - loss: 1.9716 - accuracy: 0.6837\n",
      "\u001b[2m\u001b[36m(RayTrainWorker pid=166532)\u001b[0m Epoch 6/20\n",
      "33/70 [=============>................] - ETA: 0s - loss: 1.8705 - accuracy: 0.7150\n",
      "66/70 [===========================>..] - ETA: 0s - loss: 1.8473 - accuracy: 0.7114\n",
      "70/70 [==============================] - 0s 3ms/step - loss: 1.8427 - accuracy: 0.7145\n",
      "\u001b[2m\u001b[36m(RayTrainWorker pid=166532)\u001b[0m Epoch 7/20\n",
      "33/70 [=============>................] - ETA: 0s - loss: 1.7319 - accuracy: 0.7472\n",
      "66/70 [===========================>..] - ETA: 0s - loss: 1.6961 - accuracy: 0.7500\n",
      "70/70 [==============================] - 0s 3ms/step - loss: 1.6921 - accuracy: 0.7500\n",
      "\u001b[2m\u001b[36m(RayTrainWorker pid=166532)\u001b[0m Epoch 8/20\n",
      "33/70 [=============>................] - ETA: 0s - loss: 1.5579 - accuracy: 0.7689\n",
      "66/70 [===========================>..] - ETA: 0s - loss: 1.5244 - accuracy: 0.7663\n",
      "70/70 [==============================] - 0s 3ms/step - loss: 1.5213 - accuracy: 0.7667\n",
      "\u001b[2m\u001b[36m(RayTrainWorker pid=166532)\u001b[0m Epoch 9/20\n",
      " 1/70 [..............................] - ETA: 0s - loss: 1.4502 - accuracy: 0.8281\n",
      "67/70 [===========================>..] - ETA: 0s - loss: 1.3537 - accuracy: 0.7901\n",
      "70/70 [==============================] - 0s 3ms/step - loss: 1.3496 - accuracy: 0.7922\n",
      "\u001b[2m\u001b[36m(RayTrainWorker pid=166532)\u001b[0m Epoch 10/20\n",
      " 1/70 [..............................] - ETA: 0s - loss: 1.1883 - accuracy: 0.8906\n",
      "67/70 [===========================>..] - ETA: 0s - loss: 1.1908 - accuracy: 0.8020\n",
      "70/70 [==============================] - 0s 3ms/step - loss: 1.1879 - accuracy: 0.8013\n",
      "\u001b[2m\u001b[36m(RayTrainWorker pid=166532)\u001b[0m Epoch 11/20\n",
      " 1/70 [..............................] - ETA: 0s - loss: 0.9863 - accuracy: 0.8750\n",
      "67/70 [===========================>..] - ETA: 0s - loss: 1.0618 - accuracy: 0.8169\n",
      "70/70 [==============================] - 0s 3ms/step - loss: 1.0598 - accuracy: 0.8172\n",
      "\u001b[2m\u001b[36m(RayTrainWorker pid=166532)\u001b[0m Epoch 12/20\n",
      "34/70 [=============>................] - ETA: 0s - loss: 0.9832 - accuracy: 0.8176\n",
      "67/70 [===========================>..] - ETA: 0s - loss: 0.9509 - accuracy: 0.8230\n",
      "70/70 [==============================] - 0s 3ms/step - loss: 0.9483 - accuracy: 0.8223\n",
      "\u001b[2m\u001b[36m(RayTrainWorker pid=166532)\u001b[0m Epoch 13/20\n",
      "34/70 [=============>................] - ETA: 0s - loss: 0.8735 - accuracy: 0.8355\n",
      "67/70 [===========================>..] - ETA: 0s - loss: 0.8641 - accuracy: 0.8239\n",
      "70/70 [==============================] - 0s 3ms/step - loss: 0.8624 - accuracy: 0.8239\n",
      "\u001b[2m\u001b[36m(RayTrainWorker pid=166532)\u001b[0m Epoch 14/20\n",
      "34/70 [=============>................] - ETA: 0s - loss: 0.7953 - accuracy: 0.8378\n",
      "67/70 [===========================>..] - ETA: 0s - loss: 0.7779 - accuracy: 0.8421\n",
      "70/70 [==============================] - 0s 3ms/step - loss: 0.7762 - accuracy: 0.8422\n",
      "\u001b[2m\u001b[36m(RayTrainWorker pid=166532)\u001b[0m Epoch 15/20\n",
      "31/70 [============>.................] - ETA: 0s - loss: 0.7455 - accuracy: 0.8412\n",
      "62/70 [=========================>....] - ETA: 0s - loss: 0.7251 - accuracy: 0.8523\n",
      "70/70 [==============================] - 0s 3ms/step - loss: 0.7263 - accuracy: 0.8507\n",
      "\u001b[2m\u001b[36m(RayTrainWorker pid=166532)\u001b[0m Epoch 16/20\n",
      " 1/70 [..............................] - ETA: 0s - loss: 0.6680 - accuracy: 0.8750\n",
      "57/70 [=======================>......] - ETA: 0s - loss: 0.6590 - accuracy: 0.8544\n",
      "70/70 [==============================] - 0s 3ms/step - loss: 0.6512 - accuracy: 0.8565\n",
      "\u001b[2m\u001b[36m(RayTrainWorker pid=166532)\u001b[0m Epoch 17/20\n",
      " 1/70 [..............................] - ETA: 0s - loss: 0.7936 - accuracy: 0.7969\n",
      "66/70 [===========================>..] - ETA: 0s - loss: 0.6439 - accuracy: 0.8539\n",
      "70/70 [==============================] - 0s 3ms/step - loss: 0.6452 - accuracy: 0.8536\n",
      "\u001b[2m\u001b[36m(RayTrainWorker pid=166532)\u001b[0m Epoch 18/20\n",
      " 1/70 [..............................] - ETA: 0s - loss: 0.4766 - accuracy: 0.9062\n",
      "67/70 [===========================>..] - ETA: 0s - loss: 0.6206 - accuracy: 0.8498\n",
      "70/70 [==============================] - 0s 3ms/step - loss: 0.6191 - accuracy: 0.8498\n",
      "\u001b[2m\u001b[36m(RayTrainWorker pid=166532)\u001b[0m Epoch 19/20\n",
      "33/70 [=============>................] - ETA: 0s - loss: 0.5936 - accuracy: 0.8561\n",
      "66/70 [===========================>..] - ETA: 0s - loss: 0.5887 - accuracy: 0.8580\n",
      "70/70 [==============================] - 0s 3ms/step - loss: 0.5887 - accuracy: 0.8580\n",
      "\u001b[2m\u001b[36m(RayTrainWorker pid=166532)\u001b[0m Epoch 20/20\n",
      "34/70 [=============>................] - ETA: 0s - loss: 0.5654 - accuracy: 0.8704\n",
      "67/70 [===========================>..] - ETA: 0s - loss: 0.5567 - accuracy: 0.8661\n",
      "70/70 [==============================] - 0s 3ms/step - loss: 0.5540 - accuracy: 0.8681\n"
     ]
    },
    {
     "name": "stderr",
     "output_type": "stream",
     "text": [
      "\u001b[2m\u001b[36m(RayTrainWorker pid=166532)\u001b[0m Exception ignored in: <function Pool.__del__ at 0x7f5bec4b5e50>\n",
      "\u001b[2m\u001b[36m(RayTrainWorker pid=166532)\u001b[0m Traceback (most recent call last):\n",
      "\u001b[2m\u001b[36m(RayTrainWorker pid=166532)\u001b[0m   File \"/global/common/software/nersc/pm-2022q4/sw/tensorflow/2.9.0/lib/python3.9/multiprocessing/pool.py\", line 268, in __del__\n",
      "\u001b[2m\u001b[36m(RayTrainWorker pid=166532)\u001b[0m     self._change_notifier.put(None)\n",
      "\u001b[2m\u001b[36m(RayTrainWorker pid=166532)\u001b[0m   File \"/global/common/software/nersc/pm-2022q4/sw/tensorflow/2.9.0/lib/python3.9/multiprocessing/queues.py\", line 377, in put\n",
      "\u001b[2m\u001b[36m(RayTrainWorker pid=166532)\u001b[0m     self._writer.send_bytes(obj)\n",
      "\u001b[2m\u001b[36m(RayTrainWorker pid=166532)\u001b[0m   File \"/global/common/software/nersc/pm-2022q4/sw/tensorflow/2.9.0/lib/python3.9/multiprocessing/connection.py\", line 205, in send_bytes\n",
      "\u001b[2m\u001b[36m(RayTrainWorker pid=166532)\u001b[0m     self._send_bytes(m[offset:offset + size])\n",
      "\u001b[2m\u001b[36m(RayTrainWorker pid=166532)\u001b[0m   File \"/global/common/software/nersc/pm-2022q4/sw/tensorflow/2.9.0/lib/python3.9/multiprocessing/connection.py\", line 416, in _send_bytes\n",
      "\u001b[2m\u001b[36m(RayTrainWorker pid=166532)\u001b[0m     self._send(header + buf)\n",
      "\u001b[2m\u001b[36m(RayTrainWorker pid=166532)\u001b[0m   File \"/global/common/software/nersc/pm-2022q4/sw/tensorflow/2.9.0/lib/python3.9/multiprocessing/connection.py\", line 373, in _send\n",
      "\u001b[2m\u001b[36m(RayTrainWorker pid=166532)\u001b[0m     n = write(self._handle, buf)\n",
      "\u001b[2m\u001b[36m(RayTrainWorker pid=166532)\u001b[0m OSError: [Errno 9] Bad file descriptor\n",
      "\u001b[2m\u001b[36m(RayTrainWorker pid=166532)\u001b[0m Exception ignored in: <function Pool.__del__ at 0x7f5bec4b5e50>\n",
      "\u001b[2m\u001b[36m(RayTrainWorker pid=166532)\u001b[0m Traceback (most recent call last):\n",
      "\u001b[2m\u001b[36m(RayTrainWorker pid=166532)\u001b[0m   File \"/global/common/software/nersc/pm-2022q4/sw/tensorflow/2.9.0/lib/python3.9/multiprocessing/pool.py\", line 268, in __del__\n",
      "\u001b[2m\u001b[36m(RayTrainWorker pid=166532)\u001b[0m     self._change_notifier.put(None)\n",
      "\u001b[2m\u001b[36m(RayTrainWorker pid=166532)\u001b[0m   File \"/global/common/software/nersc/pm-2022q4/sw/tensorflow/2.9.0/lib/python3.9/multiprocessing/queues.py\", line 377, in put\n",
      "\u001b[2m\u001b[36m(RayTrainWorker pid=166532)\u001b[0m     self._writer.send_bytes(obj)\n",
      "\u001b[2m\u001b[36m(RayTrainWorker pid=166532)\u001b[0m   File \"/global/common/software/nersc/pm-2022q4/sw/tensorflow/2.9.0/lib/python3.9/multiprocessing/connection.py\", line 205, in send_bytes\n",
      "\u001b[2m\u001b[36m(RayTrainWorker pid=166532)\u001b[0m     self._send_bytes(m[offset:offset + size])\n",
      "\u001b[2m\u001b[36m(RayTrainWorker pid=166532)\u001b[0m   File \"/global/common/software/nersc/pm-2022q4/sw/tensorflow/2.9.0/lib/python3.9/multiprocessing/connection.py\", line 416, in _send_bytes\n",
      "\u001b[2m\u001b[36m(RayTrainWorker pid=166532)\u001b[0m     self._send(header + buf)\n",
      "\u001b[2m\u001b[36m(RayTrainWorker pid=166532)\u001b[0m   File \"/global/common/software/nersc/pm-2022q4/sw/tensorflow/2.9.0/lib/python3.9/multiprocessing/connection.py\", line 373, in _send\n",
      "\u001b[2m\u001b[36m(RayTrainWorker pid=166532)\u001b[0m     n = write(self._handle, buf)\n",
      "\u001b[2m\u001b[36m(RayTrainWorker pid=166532)\u001b[0m OSError: [Errno 9] Bad file descriptor\n"
     ]
    }
   ],
   "source": [
    "trainer = TensorflowTrainer(\n",
    "    train_loop_per_worker=train_func,\n",
    "    train_loop_config=config,\n",
    "    scaling_config=ScalingConfig(num_workers=args['num_workers'], use_gpu=args['use_gpu']),\n",
    ")\n",
    "results = trainer.fit()"
   ]
  },
  {
   "cell_type": "code",
   "execution_count": 19,
   "id": "64fd01a6-b0bd-407f-b408-f8b59063537e",
   "metadata": {},
   "outputs": [
    {
     "data": {
      "text/plain": [
       "Result(metrics={'loss': 0.5539929866790771, 'accuracy': 0.8680803775787354, '_timestamp': 1682225578, '_time_this_iter_s': 0.212432861328125, '_training_iteration': 20, 'should_checkpoint': True, 'done': True, 'trial_id': 'ae678_00000', 'experiment_tag': '0'}, error=None, log_dir=PosixPath('/global/homes/a/asnaylor/ray_results/TensorflowTrainer_2023-04-22_21-52-42/TensorflowTrainer_ae678_00000_0_2023-04-22_21-52-42'))"
      ]
     },
     "execution_count": 19,
     "metadata": {},
     "output_type": "execute_result"
    }
   ],
   "source": [
    "results"
   ]
  },
  {
   "cell_type": "markdown",
   "id": "a4f03240-7248-444a-8211-0c2e1400e1f5",
   "metadata": {},
   "source": [
    "### Shutdown"
   ]
  },
  {
   "cell_type": "code",
   "execution_count": 20,
   "id": "cfbf0ba5-241d-4e31-8340-7768f6a98477",
   "metadata": {},
   "outputs": [],
   "source": [
    "ray.shutdown()"
   ]
  },
  {
   "cell_type": "code",
   "execution_count": 21,
   "id": "b85e9f91-08d4-4224-9a04-904154fa82f3",
   "metadata": {},
   "outputs": [],
   "source": [
    "ray_cluster.kill()"
   ]
  },
  {
   "cell_type": "code",
   "execution_count": null,
   "id": "a8b08ffd-b10a-49ca-abaf-bfad62fa7cd3",
   "metadata": {},
   "outputs": [],
   "source": []
  }
 ],
 "metadata": {
  "kernelspec": {
   "display_name": "tensorflow-2.9.0",
   "language": "python",
   "name": "tensorflow-2.9.0"
  },
  "language_info": {
   "codemirror_mode": {
    "name": "ipython",
    "version": 3
   },
   "file_extension": ".py",
   "mimetype": "text/x-python",
   "name": "python",
   "nbconvert_exporter": "python",
   "pygments_lexer": "ipython3",
   "version": "3.9.15"
  }
 },
 "nbformat": 4,
 "nbformat_minor": 5
}
