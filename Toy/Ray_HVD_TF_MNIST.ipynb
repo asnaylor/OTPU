{
 "cells": [
  {
   "cell_type": "markdown",
   "id": "43744ab3-95f2-4963-9015-1b465176ee23",
   "metadata": {},
   "source": [
    "# Ray HVD TF MNIST\n",
    "\n",
    "https://docs.ray.io/en/latest/train/examples/tf/tensorflow_mnist_example.html\n",
    "Modified adding in Horovod.\n",
    "\n",
    "\n",
    "Using `tensorflow-2.9.0` NERSC kernel.\n",
    "\n"
   ]
  },
  {
   "cell_type": "code",
   "execution_count": 1,
   "id": "64aaa958-ab0e-41ab-8cd2-df0d866f14da",
   "metadata": {},
   "outputs": [],
   "source": [
    "import sys\n",
    "import os"
   ]
  },
  {
   "cell_type": "code",
   "execution_count": 2,
   "id": "d9fd205e-2537-4dc4-ac6a-25a58de5771e",
   "metadata": {},
   "outputs": [],
   "source": [
    "# !{sys.executable} -m pip install \"ray[air]==2.3.1\""
   ]
  },
  {
   "cell_type": "markdown",
   "id": "0e752fae-0bef-4abc-a8b8-0048e5400d79",
   "metadata": {},
   "source": [
    "# Start Ray"
   ]
  },
  {
   "cell_type": "code",
   "execution_count": 3,
   "id": "ff321530-5161-4a46-b584-3e83b0beb411",
   "metadata": {},
   "outputs": [
    {
     "name": "stdout",
     "output_type": "stream",
     "text": [
      "<> Starting Ray head node\n"
     ]
    },
    {
     "name": "stderr",
     "output_type": "stream",
     "text": [
      "Warning: This is an experimental release of NCCL with an OFI plugin for use with libfabric on Perlmutter.\n",
      "In case of issues, please refer to our known issues: https://docs.nersc.gov/current/\n",
      "and open a help ticket if your issue is not listed: https://help.nersc.gov/\n"
     ]
    },
    {
     "name": "stdout",
     "output_type": "stream",
     "text": [
      "2023-04-27 11:50:15,738\tINFO usage_lib.py:435 -- Usage stats collection is disabled.\n",
      "2023-04-27 11:50:15,738\tINFO scripts.py:710 -- \u001b[37mLocal node IP\u001b[39m: \u001b[1m128.55.66.216\u001b[22m\n",
      "2023-04-27 11:50:17,774\tSUCC scripts.py:747 -- \u001b[32m--------------------\u001b[39m\n",
      "2023-04-27 11:50:17,774\tSUCC scripts.py:748 -- \u001b[32mRay runtime started.\u001b[39m\n",
      "2023-04-27 11:50:17,774\tSUCC scripts.py:749 -- \u001b[32m--------------------\u001b[39m\n",
      "2023-04-27 11:50:17,774\tINFO scripts.py:751 -- \u001b[36mNext steps\u001b[39m\n",
      "2023-04-27 11:50:17,774\tINFO scripts.py:752 -- To connect to this Ray runtime from another node, run\n",
      "2023-04-27 11:50:17,774\tINFO scripts.py:755 -- \u001b[1m  ray start --address='128.55.66.216:6379'\u001b[22m\n",
      "2023-04-27 11:50:17,774\tINFO scripts.py:771 -- Alternatively, use the following Python code:\n",
      "2023-04-27 11:50:17,774\tINFO scripts.py:773 -- \u001b[35mimport\u001b[39m\u001b[26m ray\n",
      "2023-04-27 11:50:17,774\tINFO scripts.py:777 -- ray\u001b[35m.\u001b[39m\u001b[26minit(address\u001b[35m=\u001b[39m\u001b[26m\u001b[33m'auto'\u001b[39m\u001b[26m)\n",
      "2023-04-27 11:50:17,774\tINFO scripts.py:790 -- To see the status of the cluster, use\n",
      "2023-04-27 11:50:17,774\tINFO scripts.py:791 --   \u001b[1mray status\u001b[22m\u001b[26m\n",
      "2023-04-27 11:50:17,774\tINFO scripts.py:794 -- To monitor and debug Ray, view the dashboard at \n",
      "2023-04-27 11:50:17,774\tINFO scripts.py:795 --   \u001b[1m127.0.0.1:8265\u001b[22m\u001b[26m\n",
      "2023-04-27 11:50:17,774\tINFO scripts.py:801 -- \u001b[4mIf connection fails, check your firewall settings and network configuration.\u001b[24m\n",
      "2023-04-27 11:50:17,774\tINFO scripts.py:809 -- To terminate the Ray runtime, run\n",
      "2023-04-27 11:50:17,774\tINFO scripts.py:810 -- \u001b[1m  ray stop\u001b[22m\n",
      "2023-04-27 11:50:17,774\tINFO scripts.py:891 -- \u001b[36m\u001b[1m--block\u001b[22m\u001b[39m\n",
      "2023-04-27 11:50:17,774\tINFO scripts.py:892 -- This command will now block forever until terminated by a signal.\n",
      "2023-04-27 11:50:17,774\tINFO scripts.py:895 -- Running subprocesses are monitored and a message will be printed if any of them terminate unexpectedly. Subprocesses exit with SIGTERM will be treated as graceful, thus NOT reported.\n",
      "<> Starting Prometheus Service\n",
      "<> Starting Grafana Service\n",
      "<> Cluster completed startup\n"
     ]
    }
   ],
   "source": [
    "from ray_utils import start_ray_cluster\n",
    "ray_cluster = start_ray_cluster()"
   ]
  },
  {
   "cell_type": "code",
   "execution_count": 4,
   "id": "cb4f84c0-ddd8-4fb6-affc-9007ef358dde",
   "metadata": {},
   "outputs": [],
   "source": [
    "ray_cluster.ray.stdout"
   ]
  },
  {
   "cell_type": "code",
   "execution_count": 5,
   "id": "ecc01489-0a6e-4e98-98c1-cfbe7093d546",
   "metadata": {},
   "outputs": [
    {
     "name": "stderr",
     "output_type": "stream",
     "text": [
      "2023-04-27 11:50:24,807\tINFO worker.py:1364 -- Connecting to existing Ray cluster at address: 128.55.66.216:6379...\n",
      "2023-04-27 11:50:24,815\tINFO worker.py:1544 -- Connected to Ray cluster. View the dashboard at \u001b[1m\u001b[32m127.0.0.1:8265 \u001b[39m\u001b[22m\n"
     ]
    },
    {
     "data": {
      "text/html": [
       "<div>\n",
       "    <div style=\"margin-left: 50px;display: flex;flex-direction: row;align-items: center\">\n",
       "        <h3 style=\"color: var(--jp-ui-font-color0)\">Ray</h3>\n",
       "        <svg version=\"1.1\" id=\"ray\" width=\"3em\" viewBox=\"0 0 144.5 144.6\" style=\"margin-left: 3em;margin-right: 3em\">\n",
       "            <g id=\"layer-1\">\n",
       "                <path fill=\"#00a2e9\" class=\"st0\" d=\"M97.3,77.2c-3.8-1.1-6.2,0.9-8.3,5.1c-3.5,6.8-9.9,9.9-17.4,9.6S58,88.1,54.8,81.2c-1.4-3-3-4-6.3-4.1\n",
       "                    c-5.6-0.1-9.9,0.1-13.1,6.4c-3.8,7.6-13.6,10.2-21.8,7.6C5.2,88.4-0.4,80.5,0,71.7c0.1-8.4,5.7-15.8,13.8-18.2\n",
       "                    c8.4-2.6,17.5,0.7,22.3,8c1.3,1.9,1.3,5.2,3.6,5.6c3.9,0.6,8,0.2,12,0.2c1.8,0,1.9-1.6,2.4-2.8c3.5-7.8,9.7-11.8,18-11.9\n",
       "                    c8.2-0.1,14.4,3.9,17.8,11.4c1.3,2.8,2.9,3.6,5.7,3.3c1-0.1,2,0.1,3,0c2.8-0.5,6.4,1.7,8.1-2.7s-2.3-5.5-4.1-7.5\n",
       "                    c-5.1-5.7-10.9-10.8-16.1-16.3C84,38,81.9,37.1,78,38.3C66.7,42,56.2,35.7,53,24.1C50.3,14,57.3,2.8,67.7,0.5\n",
       "                    C78.4-2,89,4.7,91.5,15.3c0.1,0.3,0.1,0.5,0.2,0.8c0.7,3.4,0.7,6.9-0.8,9.8c-1.7,3.2-0.8,5,1.5,7.2c6.7,6.5,13.3,13,19.8,19.7\n",
       "                    c1.8,1.8,3,2.1,5.5,1.2c9.1-3.4,17.9-0.6,23.4,7c4.8,6.9,4.6,16.1-0.4,22.9c-5.4,7.2-14.2,9.9-23.1,6.5c-2.3-0.9-3.5-0.6-5.1,1.1\n",
       "                    c-6.7,6.9-13.6,13.7-20.5,20.4c-1.8,1.8-2.5,3.2-1.4,5.9c3.5,8.7,0.3,18.6-7.7,23.6c-7.9,5-18.2,3.8-24.8-2.9\n",
       "                    c-6.4-6.4-7.4-16.2-2.5-24.3c4.9-7.8,14.5-11,23.1-7.8c3,1.1,4.7,0.5,6.9-1.7C91.7,98.4,98,92.3,104.2,86c1.6-1.6,4.1-2.7,2.6-6.2\n",
       "                    c-1.4-3.3-3.8-2.5-6.2-2.6C99.8,77.2,98.9,77.2,97.3,77.2z M72.1,29.7c5.5,0.1,9.9-4.3,10-9.8c0-0.1,0-0.2,0-0.3\n",
       "                    C81.8,14,77,9.8,71.5,10.2c-5,0.3-9,4.2-9.3,9.2c-0.2,5.5,4,10.1,9.5,10.3C71.8,29.7,72,29.7,72.1,29.7z M72.3,62.3\n",
       "                    c-5.4-0.1-9.9,4.2-10.1,9.7c0,0.2,0,0.3,0,0.5c0.2,5.4,4.5,9.7,9.9,10c5.1,0.1,9.9-4.7,10.1-9.8c0.2-5.5-4-10-9.5-10.3\n",
       "                    C72.6,62.3,72.4,62.3,72.3,62.3z M115,72.5c0.1,5.4,4.5,9.7,9.8,9.9c5.6-0.2,10-4.8,10-10.4c-0.2-5.4-4.6-9.7-10-9.7\n",
       "                    c-5.3-0.1-9.8,4.2-9.9,9.5C115,72.1,115,72.3,115,72.5z M19.5,62.3c-5.4,0.1-9.8,4.4-10,9.8c-0.1,5.1,5.2,10.4,10.2,10.3\n",
       "                    c5.6-0.2,10-4.9,9.8-10.5c-0.1-5.4-4.5-9.7-9.9-9.6C19.6,62.3,19.5,62.3,19.5,62.3z M71.8,134.6c5.9,0.2,10.3-3.9,10.4-9.6\n",
       "                    c0.5-5.5-3.6-10.4-9.1-10.8c-5.5-0.5-10.4,3.6-10.8,9.1c0,0.5,0,0.9,0,1.4c-0.2,5.3,4,9.8,9.3,10\n",
       "                    C71.6,134.6,71.7,134.6,71.8,134.6z\"/>\n",
       "            </g>\n",
       "        </svg>\n",
       "        <table>\n",
       "            <tr>\n",
       "                <td style=\"text-align: left\"><b>Python version:</b></td>\n",
       "                <td style=\"text-align: left\"><b>3.9.15</b></td>\n",
       "            </tr>\n",
       "            <tr>\n",
       "                <td style=\"text-align: left\"><b>Ray version:</b></td>\n",
       "                <td style=\"text-align: left\"><b> 2.3.1</b></td>\n",
       "            </tr>\n",
       "            <tr>\n",
       "    <td style=\"text-align: left\"><b>Dashboard:</b></td>\n",
       "    <td style=\"text-align: left\"><b><a href=\"http://127.0.0.1:8265\" target=\"_blank\">http://127.0.0.1:8265</a></b></td>\n",
       "</tr>\n",
       "\n",
       "        </table>\n",
       "    </div>\n",
       "</div>\n"
      ],
      "text/plain": [
       "RayContext(dashboard_url='127.0.0.1:8265', python_version='3.9.15', ray_version='2.3.1', ray_commit='5f14cee8dfc6d61ec4fd3bc2c440f9944e92b33a', address_info={'node_ip_address': '128.55.66.216', 'raylet_ip_address': '128.55.66.216', 'redis_address': None, 'object_store_address': '/tmp/ray/session_2023-04-27_11-50-15_782974_86531/sockets/plasma_store', 'raylet_socket_name': '/tmp/ray/session_2023-04-27_11-50-15_782974_86531/sockets/raylet', 'webui_url': '127.0.0.1:8265', 'session_dir': '/tmp/ray/session_2023-04-27_11-50-15_782974_86531', 'metrics_export_port': 62447, 'gcs_address': '128.55.66.216:6379', 'address': '128.55.66.216:6379', 'dashboard_agent_listen_port': 52365, 'node_id': '80e28d8c566af7dcb257331b8fca80e8a20d5c57d5060b7b7e15e7eb'})"
      ]
     },
     "execution_count": 5,
     "metadata": {},
     "output_type": "execute_result"
    }
   ],
   "source": [
    "import ray\n",
    "\n",
    "if ray.is_initialized:\n",
    "    ray.shutdown()\n",
    "\n",
    "ray.init(address='auto')"
   ]
  },
  {
   "cell_type": "markdown",
   "id": "eb2cc25c-64be-44b7-a091-4a7b2561f13a",
   "metadata": {},
   "source": [
    "### Check ray cluster resources"
   ]
  },
  {
   "cell_type": "code",
   "execution_count": 6,
   "id": "98df2ce3-9e0c-435a-bb9f-1e7e3a3b3a64",
   "metadata": {},
   "outputs": [
    {
     "data": {
      "text/plain": [
       "{'node:128.55.66.216': 1.0,\n",
       " 'GPU': 4.0,\n",
       " 'object_store_memory': 74184886272.0,\n",
       " 'CPU': 128.0,\n",
       " 'accelerator_type:A100': 1.0,\n",
       " 'memory': 163098067968.0}"
      ]
     },
     "execution_count": 6,
     "metadata": {},
     "output_type": "execute_result"
    }
   ],
   "source": [
    "ray.cluster_resources()"
   ]
  },
  {
   "cell_type": "markdown",
   "id": "5bb9efd8-1e1b-4cd5-bc84-eb81e682d21a",
   "metadata": {},
   "source": [
    "### View dashboards"
   ]
  },
  {
   "cell_type": "code",
   "execution_count": 7,
   "id": "95b0bd1c-3ba9-4c17-948b-4f33a9754bec",
   "metadata": {},
   "outputs": [
    {
     "data": {
      "text/plain": [
       "'https://jupyter.nersc.gov/user/asnaylor/perlmutter-exclusive-node-gpu/proxy/localhost:8265/#/new/overview'"
      ]
     },
     "execution_count": 7,
     "metadata": {},
     "output_type": "execute_result"
    }
   ],
   "source": [
    "f'https://jupyter.nersc.gov{os.getenv(\"JUPYTERHUB_SERVICE_PREFIX\")}proxy/localhost:8265/#/new/overview'"
   ]
  },
  {
   "cell_type": "code",
   "execution_count": 8,
   "id": "de0d5b72-0347-46e5-8ebc-8dd4a0b23f03",
   "metadata": {},
   "outputs": [
    {
     "data": {
      "text/plain": [
       "'https://jupyter.nersc.gov/user/asnaylor/perlmutter-exclusive-node-gpu/proxy/3000/d/rayDefaultDashboard'"
      ]
     },
     "execution_count": 8,
     "metadata": {},
     "output_type": "execute_result"
    }
   ],
   "source": [
    "f'https://jupyter.nersc.gov{os.getenv(\"JUPYTERHUB_SERVICE_PREFIX\")}proxy/3000/d/rayDefaultDashboard'"
   ]
  },
  {
   "cell_type": "markdown",
   "id": "37bd2df0-0ed8-432d-8fec-5129a9b4a6f1",
   "metadata": {},
   "source": [
    "# MINST Code"
   ]
  },
  {
   "cell_type": "code",
   "execution_count": 9,
   "id": "f337c02f-ad3d-4b36-a026-3527a799f23f",
   "metadata": {},
   "outputs": [],
   "source": [
    "import numpy as np\n",
    "import json\n",
    "from ray.air.result import Result\n",
    "import tensorflow as tf\n",
    "import horovod.tensorflow.keras as hvd\n",
    "\n",
    "# from ray.train.tensorflow import TensorflowTrainer\n",
    "from ray.train.horovod import HorovodTrainer\n",
    "from ray.air.integrations.keras import Callback as TrainCheckpointReportCallback\n",
    "from ray.air.config import ScalingConfig, RunConfig\n",
    "from ray.air import session"
   ]
  },
  {
   "cell_type": "code",
   "execution_count": 10,
   "id": "a87cf711-8e6d-4fbb-801b-f29ccab86fc9",
   "metadata": {},
   "outputs": [],
   "source": [
    "def mnist_dataset(batch_size: int) -> tf.data.Dataset:\n",
    "    (x_train, y_train), _ = tf.keras.datasets.mnist.load_data()\n",
    "    # The `x` arrays are in uint8 and have values in the [0, 255] range.\n",
    "    # You need to convert them to float32 with values in the [0, 1] range.\n",
    "    x_train = x_train / np.float32(255)\n",
    "    y_train = y_train.astype(np.int64)\n",
    "    train_dataset = (\n",
    "        tf.data.Dataset.from_tensor_slices((x_train, y_train))\n",
    "        .shuffle(60000)\n",
    "        .repeat()\n",
    "        .batch(batch_size)\n",
    "    )\n",
    "    return train_dataset"
   ]
  },
  {
   "cell_type": "code",
   "execution_count": 11,
   "id": "c66b60b3-5e48-483b-b259-cfa4e7a79def",
   "metadata": {},
   "outputs": [],
   "source": [
    "def build_cnn_model() -> tf.keras.Model:\n",
    "    model = tf.keras.Sequential(\n",
    "        [\n",
    "            tf.keras.Input(shape=(28, 28)),\n",
    "            tf.keras.layers.Reshape(target_shape=(28, 28, 1)),\n",
    "            tf.keras.layers.Conv2D(32, 3, activation=\"relu\"),\n",
    "            tf.keras.layers.Flatten(),\n",
    "            tf.keras.layers.Dense(128, activation=\"relu\"),\n",
    "            tf.keras.layers.Dense(10),\n",
    "        ]\n",
    "    )\n",
    "    return model\n"
   ]
  },
  {
   "cell_type": "code",
   "execution_count": 25,
   "id": "276d1524-f4ef-4108-9ff3-1f2290c1382a",
   "metadata": {},
   "outputs": [],
   "source": [
    "\n",
    "def train_func(config: dict):\n",
    "    per_worker_batch_size = config.get(\"batch_size\", 64)\n",
    "    epochs = config.get(\"epochs\", 3)\n",
    "    steps_per_epoch = config.get(\"steps_per_epoch\", 70)\n",
    "    \n",
    "    # Returns the total number of workers executing training.\n",
    "    num_workers = session.get_world_size()\n",
    "    \n",
    "    # Horovod: initialize library.\n",
    "    hvd.init()\n",
    "\n",
    "    # Horovod: pin GPU to be used to process local rank (one GPU per process)\n",
    "    gpus = tf.config.experimental.list_physical_devices('GPU')\n",
    "    for gpu in gpus:\n",
    "        tf.config.experimental.set_memory_growth(gpu, True)\n",
    "    if gpus:\n",
    "        tf.config.experimental.set_visible_devices(gpus[hvd.local_rank()],\n",
    "                                                   'GPU')\n",
    "    \n",
    "    # Horovod: limit # of CPU threads to be used per worker.\n",
    "    # tf.config.threading.set_intra_op_parallelism_threads(1)\n",
    "    \n",
    "    # strategy = tf.distribute.MultiWorkerMirroredStrategy()\n",
    "    global_batch_size = per_worker_batch_size * num_workers\n",
    "    multi_worker_dataset = mnist_dataset(global_batch_size)\n",
    "\n",
    "    # with strategy.scope():\n",
    "    # Model building/compiling need to be within `strategy.scope()`.\n",
    "    multi_worker_model = build_cnn_model()\n",
    "\n",
    "    # Horovod: adjust learning rate based on number of GPUs.\n",
    "    learning_rate = config.get(\"lr\", 0.001) * hvd.size()\n",
    "\n",
    "    # Horovod: add Horovod DistributedOptimizer.\n",
    "    opt = tf.keras.optimizers.SGD(learning_rate=learning_rate)\n",
    "    opt = hvd.DistributedOptimizer(\n",
    "        opt, backward_passes_per_step=1, average_aggregated_gradients=True)\n",
    "\n",
    "    # Horovod: Specify `experimental_run_tf_function=False` to ensure TensorFlow\n",
    "    # uses hvd.DistributedOptimizer() to compute gradients.\n",
    "    multi_worker_model.compile(\n",
    "        loss=tf.keras.losses.SparseCategoricalCrossentropy(from_logits=True),\n",
    "        optimizer=opt,\n",
    "        metrics=[\"accuracy\"],\n",
    "        experimental_run_tf_function=False\n",
    "    )\n",
    "\n",
    "    callbacks = [\n",
    "        # Horovod: broadcast initial variable states from rank 0 to all other processes.\n",
    "        # This is necessary to ensure consistent initialization of all workers when\n",
    "        # training is started with random weights or restored from a checkpoint.\n",
    "        hvd.callbacks.BroadcastGlobalVariablesCallback(0),\n",
    "\n",
    "        # Horovod: average metrics among workers at the end of every epoch.\n",
    "        #\n",
    "        # Note: This callback must be in the list before the ReduceLROnPlateau,\n",
    "        # TensorBoard or other metrics-based callbacks.\n",
    "        hvd.callbacks.MetricAverageCallback(),\n",
    "\n",
    "        # Horovod: using `lr = 1.0 * hvd.size()` from the very beginning leads to worse final\n",
    "        # accuracy. Scale the learning rate `lr = 1.0` ---> `lr = 1.0 * hvd.size()` during\n",
    "        # the first three epochs. See https://arxiv.org/abs/1706.02677 for details.\n",
    "        hvd.callbacks.LearningRateWarmupCallback(initial_lr=learning_rate, warmup_epochs=3, verbose=1),\n",
    "    ]\n",
    "    \n",
    "    # Horovod: save checkpoints only on worker 0 to prevent other workers from corrupting them.\n",
    "    # if hvd.rank() == 0:\n",
    "        # callbacks.append(tf.keras.callbacks.ModelCheckpoint('./checkpoint-{epoch}.h5'))\n",
    "    callbacks.append(TrainCheckpointReportCallback())\n",
    "    \n",
    "    # Horovod: write logs on worker 0.\n",
    "    verbose = 1 if hvd.rank() == 0 else 0\n",
    "\n",
    "    history = multi_worker_model.fit(\n",
    "        multi_worker_dataset,\n",
    "        epochs=epochs,\n",
    "        steps_per_epoch=steps_per_epoch,\n",
    "        callbacks=callbacks,\n",
    "        verbose=verbose\n",
    "    )\n",
    "    # Horovod: adjust number of steps based on number of GPUs. ??\n",
    "    # steps_per_epoch=500 // hvd.size(),\n",
    "    results = history.history\n",
    "    return results"
   ]
  },
  {
   "cell_type": "markdown",
   "id": "d72adde3-1362-4066-9ea8-782ef36fd52e",
   "metadata": {},
   "source": [
    "# Run MNIST Code"
   ]
  },
  {
   "cell_type": "code",
   "execution_count": 26,
   "id": "6f59c628-ae62-4240-bb48-6c16146ee562",
   "metadata": {},
   "outputs": [],
   "source": [
    "args = {\n",
    "    'num_workers': int(ray.cluster_resources()['GPU']),\n",
    "    'use_gpu': True,\n",
    "    'epochs': 10\n",
    "}\n",
    "config = {\"lr\": 1e-3, \"batch_size\": 64, \"epochs\": args['epochs']}"
   ]
  },
  {
   "cell_type": "code",
   "execution_count": 27,
   "id": "54029da3-84e4-48ac-8ad2-b33e01ce53e2",
   "metadata": {},
   "outputs": [
    {
     "data": {
      "text/html": [
       "<div class=\"tuneStatus\">\n",
       "  <div style=\"display: flex;flex-direction: row\">\n",
       "    <div style=\"display: flex;flex-direction: column;\">\n",
       "      <h3>Tune Status</h3>\n",
       "      <table>\n",
       "<tbody>\n",
       "<tr><td>Current time:</td><td>2023-04-27 12:15:06</td></tr>\n",
       "<tr><td>Running for: </td><td>00:00:21.40        </td></tr>\n",
       "<tr><td>Memory:      </td><td>48.0/251.3 GiB     </td></tr>\n",
       "</tbody>\n",
       "</table>\n",
       "    </div>\n",
       "    <div class=\"vDivider\"></div>\n",
       "    <div class=\"systemInfo\">\n",
       "      <h3>System Info</h3>\n",
       "      Using FIFO scheduling algorithm.<br>Resources requested: 0/128 CPUs, 0/4 GPUs, 0.0/151.9 GiB heap, 0.0/69.09 GiB objects (0.0/1.0 accelerator_type:A100)\n",
       "    </div>\n",
       "    \n",
       "  </div>\n",
       "  <div class=\"hDivider\"></div>\n",
       "  <div class=\"trialStatus\">\n",
       "    <h3>Trial Status</h3>\n",
       "    <table>\n",
       "<thead>\n",
       "<tr><th>Trial name                </th><th>status    </th><th>loc                </th><th style=\"text-align: right;\">  iter</th><th style=\"text-align: right;\">  total time (s)</th><th style=\"text-align: right;\">   loss</th><th style=\"text-align: right;\">  accuracy</th><th style=\"text-align: right;\">   lr</th></tr>\n",
       "</thead>\n",
       "<tbody>\n",
       "<tr><td>HorovodTrainer_c4e81_00000</td><td>TERMINATED</td><td>128.55.66.216:62304</td><td style=\"text-align: right;\">    10</td><td style=\"text-align: right;\">         15.3555</td><td style=\"text-align: right;\">0.41328</td><td style=\"text-align: right;\">  0.888128</td><td style=\"text-align: right;\">0.004</td></tr>\n",
       "</tbody>\n",
       "</table>\n",
       "  </div>\n",
       "</div>\n",
       "<style>\n",
       ".tuneStatus {\n",
       "  color: var(--jp-ui-font-color1);\n",
       "}\n",
       ".tuneStatus .systemInfo {\n",
       "  display: flex;\n",
       "  flex-direction: column;\n",
       "}\n",
       ".tuneStatus td {\n",
       "  white-space: nowrap;\n",
       "}\n",
       ".tuneStatus .trialStatus {\n",
       "  display: flex;\n",
       "  flex-direction: column;\n",
       "}\n",
       ".tuneStatus h3 {\n",
       "  font-weight: bold;\n",
       "}\n",
       ".tuneStatus .hDivider {\n",
       "  border-bottom-width: var(--jp-border-width);\n",
       "  border-bottom-color: var(--jp-border-color0);\n",
       "  border-bottom-style: solid;\n",
       "}\n",
       ".tuneStatus .vDivider {\n",
       "  border-left-width: var(--jp-border-width);\n",
       "  border-left-color: var(--jp-border-color0);\n",
       "  border-left-style: solid;\n",
       "  margin: 0.5em 1em 0.5em 1em;\n",
       "}\n",
       "</style>\n"
      ],
      "text/plain": [
       "<IPython.core.display.HTML object>"
      ]
     },
     "metadata": {},
     "output_type": "display_data"
    },
    {
     "name": "stderr",
     "output_type": "stream",
     "text": [
      "2023-04-27 12:14:44,815\tWARNING trial_runner.py:369 -- The maximum number of pending trials has been automatically set to the number of available cluster CPUs, which is high (140 CPUs/pending trials). If you're running an experiment with a large number of trials, this could lead to scheduling overhead. In this case, consider setting the `TUNE_MAX_PENDING_TRIALS_PG` environment variable to the desired maximum number of concurrent trials.\n",
      "\u001b[2m\u001b[36m(RayTrainWorker pid=64058)\u001b[0m 2023-04-27 12:14:53.952054: I tensorflow/core/platform/cpu_feature_guard.cc:193] This TensorFlow binary is optimized with oneAPI Deep Neural Network Library (oneDNN) to use the following CPU instructions in performance-critical operations:  AVX2 FMA\n",
      "\u001b[2m\u001b[36m(RayTrainWorker pid=64058)\u001b[0m To enable them in other operations, rebuild TensorFlow with the appropriate compiler flags.\n",
      "\u001b[2m\u001b[36m(RayTrainWorker pid=64054)\u001b[0m 2023-04-27 12:14:53.937038: I tensorflow/core/platform/cpu_feature_guard.cc:193] This TensorFlow binary is optimized with oneAPI Deep Neural Network Library (oneDNN) to use the following CPU instructions in performance-critical operations:  AVX2 FMA\n",
      "\u001b[2m\u001b[36m(RayTrainWorker pid=64054)\u001b[0m To enable them in other operations, rebuild TensorFlow with the appropriate compiler flags.\n",
      "\u001b[2m\u001b[36m(RayTrainWorker pid=64060)\u001b[0m 2023-04-27 12:14:53.953334: I tensorflow/core/platform/cpu_feature_guard.cc:193] This TensorFlow binary is optimized with oneAPI Deep Neural Network Library (oneDNN) to use the following CPU instructions in performance-critical operations:  AVX2 FMA\n",
      "\u001b[2m\u001b[36m(RayTrainWorker pid=64060)\u001b[0m To enable them in other operations, rebuild TensorFlow with the appropriate compiler flags.\n",
      "\u001b[2m\u001b[36m(RayTrainWorker pid=64059)\u001b[0m 2023-04-27 12:14:53.960825: I tensorflow/core/platform/cpu_feature_guard.cc:193] This TensorFlow binary is optimized with oneAPI Deep Neural Network Library (oneDNN) to use the following CPU instructions in performance-critical operations:  AVX2 FMA\n",
      "\u001b[2m\u001b[36m(RayTrainWorker pid=64059)\u001b[0m To enable them in other operations, rebuild TensorFlow with the appropriate compiler flags.\n",
      "\u001b[2m\u001b[36m(RayTrainWorker pid=64058)\u001b[0m 2023-04-27 12:14:55.027567: I tensorflow/core/common_runtime/gpu/gpu_device.cc:1532] Created device /job:localhost/replica:0/task:0/device:GPU:0 with 38218 MB memory:  -> device: 1, name: NVIDIA A100-SXM4-40GB, pci bus id: 0000:03:00.0, compute capability: 8.0\n",
      "\u001b[2m\u001b[36m(RayTrainWorker pid=64054)\u001b[0m 2023-04-27 12:14:54.995063: I tensorflow/core/common_runtime/gpu/gpu_device.cc:1532] Created device /job:localhost/replica:0/task:0/device:GPU:0 with 38218 MB memory:  -> device: 0, name: NVIDIA A100-SXM4-40GB, pci bus id: 0000:c1:00.0, compute capability: 8.0\n",
      "\u001b[2m\u001b[36m(RayTrainWorker pid=64060)\u001b[0m 2023-04-27 12:14:55.035829: I tensorflow/core/common_runtime/gpu/gpu_device.cc:1532] Created device /job:localhost/replica:0/task:0/device:GPU:0 with 38218 MB memory:  -> device: 3, name: NVIDIA A100-SXM4-40GB, pci bus id: 0000:41:00.0, compute capability: 8.0\n",
      "\u001b[2m\u001b[36m(RayTrainWorker pid=64059)\u001b[0m 2023-04-27 12:14:55.026176: I tensorflow/core/common_runtime/gpu/gpu_device.cc:1532] Created device /job:localhost/replica:0/task:0/device:GPU:0 with 38218 MB memory:  -> device: 2, name: NVIDIA A100-SXM4-40GB, pci bus id: 0000:82:00.0, compute capability: 8.0\n"
     ]
    },
    {
     "name": "stdout",
     "output_type": "stream",
     "text": [
      "\u001b[2m\u001b[36m(RayTrainWorker pid=64054)\u001b[0m Epoch 1/10\n"
     ]
    },
    {
     "name": "stderr",
     "output_type": "stream",
     "text": [
      "\u001b[2m\u001b[36m(RayTrainWorker pid=64054)\u001b[0m 2023-04-27 12:14:57.392178: I tensorflow/stream_executor/cuda/cuda_dnn.cc:384] Loaded cuDNN version 8302\n",
      "\u001b[2m\u001b[36m(RayTrainWorker pid=64060)\u001b[0m 2023-04-27 12:14:57.405504: I tensorflow/stream_executor/cuda/cuda_dnn.cc:384] Loaded cuDNN version 8302\n",
      "\u001b[2m\u001b[36m(RayTrainWorker pid=64058)\u001b[0m 2023-04-27 12:14:57.526853: I tensorflow/stream_executor/cuda/cuda_dnn.cc:384] Loaded cuDNN version 8302\n",
      "\u001b[2m\u001b[36m(RayTrainWorker pid=64059)\u001b[0m 2023-04-27 12:14:57.513112: I tensorflow/stream_executor/cuda/cuda_dnn.cc:384] Loaded cuDNN version 8302\n",
      "\u001b[2m\u001b[36m(RayTrainWorker pid=64054)\u001b[0m 2023-04-27 12:14:58.095025: I tensorflow/stream_executor/cuda/cuda_blas.cc:1786] TensorFloat-32 will be used for the matrix multiplication. This will only be logged once.\n",
      "\u001b[2m\u001b[36m(RayTrainWorker pid=64060)\u001b[0m 2023-04-27 12:14:58.116066: I tensorflow/stream_executor/cuda/cuda_blas.cc:1786] TensorFloat-32 will be used for the matrix multiplication. This will only be logged once.\n",
      "\u001b[2m\u001b[36m(RayTrainWorker pid=64058)\u001b[0m 2023-04-27 12:14:58.239917: I tensorflow/stream_executor/cuda/cuda_blas.cc:1786] TensorFloat-32 will be used for the matrix multiplication. This will only be logged once.\n",
      "\u001b[2m\u001b[36m(RayTrainWorker pid=64059)\u001b[0m 2023-04-27 12:14:58.207637: I tensorflow/stream_executor/cuda/cuda_blas.cc:1786] TensorFloat-32 will be used for the matrix multiplication. This will only be logged once.\n",
      "\u001b[2m\u001b[36m(RayTrainWorker pid=64058)\u001b[0m WARNING:tensorflow:Callback method `on_train_batch_end` is slow compared to the batch time (batch time: 0.0043s vs `on_train_batch_end` time: 0.0176s). Check your callbacks.\n",
      "\u001b[2m\u001b[36m(RayTrainWorker pid=64054)\u001b[0m WARNING:tensorflow:Callback method `on_train_batch_end` is slow compared to the batch time (batch time: 0.0042s vs `on_train_batch_end` time: 0.0177s). Check your callbacks.\n",
      "\u001b[2m\u001b[36m(RayTrainWorker pid=64060)\u001b[0m WARNING:tensorflow:Callback method `on_train_batch_end` is slow compared to the batch time (batch time: 0.0043s vs `on_train_batch_end` time: 0.0176s). Check your callbacks.\n",
      "\u001b[2m\u001b[36m(RayTrainWorker pid=64059)\u001b[0m WARNING:tensorflow:Callback method `on_train_batch_end` is slow compared to the batch time (batch time: 0.0044s vs `on_train_batch_end` time: 0.0176s). Check your callbacks.\n"
     ]
    },
    {
     "name": "stdout",
     "output_type": "stream",
     "text": [
      "12/70 [====>.........................] - ETA: 0s - loss: 2.2996 - accuracy: 0.1087  \n",
      "34/70 [=============>................] - ETA: 0s - loss: 2.2919 - accuracy: 0.1140\n",
      "55/70 [======================>.......] - ETA: 0s - loss: 2.2843 - accuracy: 0.1272\n",
      "66/70 [===========================>..] - ETA: 0s - loss: 2.2796 - accuracy: 0.1382\n"
     ]
    },
    {
     "data": {
      "text/html": [
       "<div class=\"trialProgress\">\n",
       "  <h3>Trial Progress</h3>\n",
       "  <table>\n",
       "<thead>\n",
       "<tr><th>Trial name                </th><th style=\"text-align: right;\">  _time_this_iter_s</th><th style=\"text-align: right;\">  _timestamp</th><th style=\"text-align: right;\">  _training_iteration</th><th style=\"text-align: right;\">  accuracy</th><th>date               </th><th>done  </th><th>episodes_total  </th><th>experiment_id                   </th><th style=\"text-align: right;\">  experiment_tag</th><th>hostname  </th><th style=\"text-align: right;\">  iterations_since_restore</th><th style=\"text-align: right;\">   loss</th><th style=\"text-align: right;\">   lr</th><th>node_ip      </th><th style=\"text-align: right;\">  pid</th><th>should_checkpoint  </th><th style=\"text-align: right;\">  time_since_restore</th><th style=\"text-align: right;\">  time_this_iter_s</th><th style=\"text-align: right;\">  time_total_s</th><th style=\"text-align: right;\">  timestamp</th><th style=\"text-align: right;\">  timesteps_since_restore</th><th>timesteps_total  </th><th style=\"text-align: right;\">  training_iteration</th><th>trial_id   </th><th style=\"text-align: right;\">  warmup_time</th></tr>\n",
       "</thead>\n",
       "<tbody>\n",
       "<tr><td>HorovodTrainer_c4e81_00000</td><td style=\"text-align: right;\">           0.432108</td><td style=\"text-align: right;\">  1682622903</td><td style=\"text-align: right;\">                   10</td><td style=\"text-align: right;\">  0.888128</td><td>2023-04-27_12-15-03</td><td>True  </td><td>                </td><td>5e079979573348f6b3c286ab0686f34e</td><td style=\"text-align: right;\">               0</td><td>nid003732 </td><td style=\"text-align: right;\">                        10</td><td style=\"text-align: right;\">0.41328</td><td style=\"text-align: right;\">0.004</td><td>128.55.66.216</td><td style=\"text-align: right;\">62304</td><td>True               </td><td style=\"text-align: right;\">             15.3555</td><td style=\"text-align: right;\">           0.43297</td><td style=\"text-align: right;\">       15.3555</td><td style=\"text-align: right;\"> 1682622903</td><td style=\"text-align: right;\">                        0</td><td>                 </td><td style=\"text-align: right;\">                  10</td><td>c4e81_00000</td><td style=\"text-align: right;\">    0.0608425</td></tr>\n",
       "</tbody>\n",
       "</table>\n",
       "</div>\n",
       "<style>\n",
       ".trialProgress {\n",
       "  display: flex;\n",
       "  flex-direction: column;\n",
       "  color: var(--jp-ui-font-color1);\n",
       "}\n",
       ".trialProgress h3 {\n",
       "  font-weight: bold;\n",
       "}\n",
       ".trialProgress td {\n",
       "  white-space: nowrap;\n",
       "}\n",
       "</style>\n"
      ],
      "text/plain": [
       "<IPython.core.display.HTML object>"
      ]
     },
     "metadata": {},
     "output_type": "display_data"
    },
    {
     "name": "stdout",
     "output_type": "stream",
     "text": [
      "70/70 [==============================] - 5s 6ms/step - loss: 2.2788 - accuracy: 0.1438 - lr: 0.0020\n",
      "\u001b[2m\u001b[36m(RayTrainWorker pid=64054)\u001b[0m Epoch 2/10\n",
      " 1/70 [..............................] - ETA: 0s - loss: 2.2441 - accuracy: 0.2461\n",
      "23/70 [========>.....................] - ETA: 0s - loss: 2.2293 - accuracy: 0.2947\n",
      "43/70 [=================>............] - ETA: 0s - loss: 2.2127 - accuracy: 0.3654\n",
      "63/70 [==========================>...] - ETA: 0s - loss: 2.1926 - accuracy: 0.4283\n",
      "70/70 [==============================] - 0s 7ms/step - loss: 2.1844 - accuracy: 0.4468 - lr: 0.0030\n",
      "\u001b[2m\u001b[36m(RayTrainWorker pid=64054)\u001b[0m Epoch 3/10\n",
      "11/70 [===>..........................] - ETA: 0s - loss: 2.0812 - accuracy: 0.6623\n",
      "31/70 [============>.................] - ETA: 0s - loss: 2.0392 - accuracy: 0.6787\n",
      "51/70 [====================>.........] - ETA: 0s - loss: 1.9863 - accuracy: 0.6991\n",
      "61/70 [=========================>....] - ETA: 0s - loss: 1.9558 - accuracy: 0.7049\n",
      "\u001b[2m\u001b[36m(RayTrainWorker pid=64054)\u001b[0m Epoch 3: finished gradual learning rate warmup to 0.004.\n",
      "70/70 [==============================] - 0s 7ms/step - loss: 1.9260 - accuracy: 0.7093 - lr: 0.0040\n",
      "\u001b[2m\u001b[36m(RayTrainWorker pid=64054)\u001b[0m Epoch 4/10\n",
      " 1/70 [..............................] - ETA: 0s - loss: 1.6669 - accuracy: 0.8008\n",
      "25/70 [=========>....................] - ETA: 0s - loss: 1.5641 - accuracy: 0.7652\n",
      "47/70 [===================>..........] - ETA: 0s - loss: 1.4583 - accuracy: 0.7761\n",
      "70/70 [==============================] - ETA: 0s - loss: 1.3552 - accuracy: 0.7851\n",
      "70/70 [==============================] - 0s 6ms/step - loss: 1.3514 - accuracy: 0.7891 - lr: 0.0040\n",
      "\u001b[2m\u001b[36m(RayTrainWorker pid=64054)\u001b[0m Epoch 5/10\n",
      "13/70 [====>.........................] - ETA: 0s - loss: 1.0349 - accuracy: 0.8047\n",
      "37/70 [==============>...............] - ETA: 0s - loss: 0.9504 - accuracy: 0.8219\n",
      "61/70 [=========================>....] - ETA: 0s - loss: 0.8862 - accuracy: 0.8295\n",
      "70/70 [==============================] - 0s 6ms/step - loss: 0.8643 - accuracy: 0.8299 - lr: 0.0040\n",
      "\u001b[2m\u001b[36m(RayTrainWorker pid=64054)\u001b[0m Epoch 6/10\n",
      "13/70 [====>.........................] - ETA: 0s - loss: 0.6995 - accuracy: 0.8483\n",
      "37/70 [==============>...............] - ETA: 0s - loss: 0.6699 - accuracy: 0.8496\n",
      "60/70 [========================>.....] - ETA: 0s - loss: 0.6439 - accuracy: 0.8552\n",
      "70/70 [==============================] - 0s 6ms/step - loss: 0.6401 - accuracy: 0.8528 - lr: 0.0040\n",
      "\u001b[2m\u001b[36m(RayTrainWorker pid=64054)\u001b[0m Epoch 7/10\n",
      "12/70 [====>.........................] - ETA: 0s - loss: 0.5718 - accuracy: 0.8594\n",
      "34/70 [=============>................] - ETA: 0s - loss: 0.5536 - accuracy: 0.8647\n",
      "56/70 [=======================>......] - ETA: 0s - loss: 0.5364 - accuracy: 0.8685\n",
      "67/70 [===========================>..] - ETA: 0s - loss: 0.5353 - accuracy: 0.8677\n",
      "70/70 [==============================] - 0s 6ms/step - loss: 0.5353 - accuracy: 0.8671 - lr: 0.0040\n",
      "\u001b[2m\u001b[36m(RayTrainWorker pid=64054)\u001b[0m Epoch 8/10\n",
      "11/70 [===>..........................] - ETA: 0s - loss: 0.5018 - accuracy: 0.8725\n",
      "34/70 [=============>................] - ETA: 0s - loss: 0.4807 - accuracy: 0.8774\n",
      "45/70 [==================>...........] - ETA: 0s - loss: 0.4788 - accuracy: 0.8780\n",
      "67/70 [===========================>..] - ETA: 0s - loss: 0.4773 - accuracy: 0.8769\n",
      "70/70 [==============================] - 0s 6ms/step - loss: 0.4795 - accuracy: 0.8764 - lr: 0.0040\n",
      "\u001b[2m\u001b[36m(RayTrainWorker pid=64054)\u001b[0m Epoch 9/10\n",
      " 1/70 [..............................] - ETA: 0s - loss: 0.4990 - accuracy: 0.8633\n",
      "23/70 [========>.....................] - ETA: 0s - loss: 0.4712 - accuracy: 0.8719\n",
      "45/70 [==================>...........] - ETA: 0s - loss: 0.4567 - accuracy: 0.8763\n",
      "66/70 [===========================>..] - ETA: 0s - loss: 0.4507 - accuracy: 0.8781\n",
      "70/70 [==============================] - 0s 6ms/step - loss: 0.4417 - accuracy: 0.8816 - lr: 0.0040\n",
      "\u001b[2m\u001b[36m(RayTrainWorker pid=64054)\u001b[0m Epoch 10/10\n",
      "12/70 [====>.........................] - ETA: 0s - loss: 0.4362 - accuracy: 0.8789\n",
      "35/70 [==============>...............] - ETA: 0s - loss: 0.4126 - accuracy: 0.8882\n",
      "57/70 [=======================>......] - ETA: 0s - loss: 0.4095 - accuracy: 0.8890\n",
      "68/70 [============================>.] - ETA: 0s - loss: 0.4078 - accuracy: 0.8895\n",
      "70/70 [==============================] - 0s 6ms/step - loss: 0.4133 - accuracy: 0.8881 - lr: 0.0040\n"
     ]
    },
    {
     "name": "stderr",
     "output_type": "stream",
     "text": [
      "2023-04-27 12:15:06,217\tINFO tune.py:798 -- Total run time: 21.41 seconds (21.39 seconds for the tuning loop).\n"
     ]
    }
   ],
   "source": [
    "trainer = HorovodTrainer(\n",
    "    train_loop_per_worker=train_func,\n",
    "    train_loop_config=config,\n",
    "    scaling_config=ScalingConfig(num_workers=args['num_workers'], use_gpu=args['use_gpu']),\n",
    "    run_config=RunConfig(local_dir=f'{os.getenv(\"SCRATCH\")}/ray_results', name='HVD_TF_MNIST')\n",
    ")\n",
    "results =  trainer.fit()\n"
   ]
  },
  {
   "cell_type": "code",
   "execution_count": 29,
   "id": "64fd01a6-b0bd-407f-b408-f8b59063537e",
   "metadata": {},
   "outputs": [
    {
     "data": {
      "text/plain": [
       "Result(metrics={'loss': 0.4132797, 'accuracy': 0.88812774, 'lr': 0.004, '_timestamp': 1682622903, '_time_this_iter_s': 0.43210816383361816, '_training_iteration': 10, 'should_checkpoint': True, 'done': True, 'trial_id': 'c4e81_00000', 'experiment_tag': '0'}, error=None, log_dir=PosixPath('/pscratch/sd/a/asnaylor/ray_results/HVD_TF_MNIST/HorovodTrainer_c4e81_00000_0_2023-04-27_12-14-44'))"
      ]
     },
     "execution_count": 29,
     "metadata": {},
     "output_type": "execute_result"
    }
   ],
   "source": [
    "results"
   ]
  },
  {
   "cell_type": "code",
   "execution_count": 30,
   "id": "017b8654-75fb-42c2-b66f-5e509f0259a7",
   "metadata": {},
   "outputs": [
    {
     "data": {
      "text/plain": [
       "<AxesSubplot: xlabel='training_iteration'>"
      ]
     },
     "execution_count": 30,
     "metadata": {},
     "output_type": "execute_result"
    },
    {
     "data": {
      "image/png": "[encoded data removed]",
      "text/plain": [
       "<Figure size 640x480 with 1 Axes>"
      ]
     },
     "metadata": {},
     "output_type": "display_data"
    }
   ],
   "source": [
    "results.metrics_dataframe.plot(\"training_iteration\", \"accuracy\")"
   ]
  },
  {
   "cell_type": "code",
   "execution_count": 31,
   "id": "be501e29-7705-444a-853a-cf759c2263c3",
   "metadata": {},
   "outputs": [
    {
     "data": {
      "text/plain": [
       "TensorflowCheckpoint(local_path=/pscratch/sd/a/asnaylor/ray_results/HVD_TF_MNIST/HorovodTrainer_c4e81_00000_0_2023-04-27_12-14-44/checkpoint_000009)"
      ]
     },
     "execution_count": 31,
     "metadata": {},
     "output_type": "execute_result"
    }
   ],
   "source": [
    "# results.metrics_dataframe\n",
    "results.checkpoint"
   ]
  },
  {
   "cell_type": "code",
   "execution_count": 32,
   "id": "33f8a413-f3df-4ed5-b8f5-24865b4bd5e6",
   "metadata": {},
   "outputs": [
    {
     "name": "stderr",
     "output_type": "stream",
     "text": [
      "2023-04-27 12:15:28.987645: I tensorflow/core/platform/cpu_feature_guard.cc:193] This TensorFlow binary is optimized with oneAPI Deep Neural Network Library (oneDNN) to use the following CPU instructions in performance-critical operations:  AVX2 FMA\n",
      "To enable them in other operations, rebuild TensorFlow with the appropriate compiler flags.\n",
      "2023-04-27 12:15:30.787807: I tensorflow/core/common_runtime/gpu/gpu_device.cc:1532] Created device /job:localhost/replica:0/task:0/device:GPU:0 with 38218 MB memory:  -> device: 0, name: NVIDIA A100-SXM4-40GB, pci bus id: 0000:03:00.0, compute capability: 8.0\n",
      "2023-04-27 12:15:30.789537: I tensorflow/core/common_runtime/gpu/gpu_device.cc:1532] Created device /job:localhost/replica:0/task:0/device:GPU:1 with 38218 MB memory:  -> device: 1, name: NVIDIA A100-SXM4-40GB, pci bus id: 0000:41:00.0, compute capability: 8.0\n",
      "2023-04-27 12:15:30.791035: I tensorflow/core/common_runtime/gpu/gpu_device.cc:1532] Created device /job:localhost/replica:0/task:0/device:GPU:2 with 38218 MB memory:  -> device: 2, name: NVIDIA A100-SXM4-40GB, pci bus id: 0000:82:00.0, compute capability: 8.0\n",
      "2023-04-27 12:15:30.792574: I tensorflow/core/common_runtime/gpu/gpu_device.cc:1532] Created device /job:localhost/replica:0/task:0/device:GPU:3 with 38218 MB memory:  -> device: 3, name: NVIDIA A100-SXM4-40GB, pci bus id: 0000:c1:00.0, compute capability: 8.0\n",
      "2023-04-27 12:15:31,020\tWARNING tensorflow_predictor.py:56 -- You have `use_gpu` as False but there are 4 GPUs detected on host where prediction will only use CPU. Please consider explicitly setting `TensorflowPredictor(use_gpu=True)` or `batch_predictor.predict(ds, num_gpus_per_worker=1)` to enable GPU prediction.\n"
     ]
    }
   ],
   "source": [
    "from ray.train.tensorflow import TensorflowCheckpoint, TensorflowPredictor\n",
    "from ray.train.batch_predictor import BatchPredictor\n",
    "\n",
    "result_checkpoint: TensorflowCheckpoint = results.checkpoint\n",
    "predictor = TensorflowPredictor.from_checkpoint(\n",
    "    result_checkpoint, model_definition=build_cnn_model\n",
    ")"
   ]
  },
  {
   "cell_type": "code",
   "execution_count": 33,
   "id": "090a9eca-3a47-45f8-ab8e-5da746d9dcf3",
   "metadata": {},
   "outputs": [],
   "source": [
    "_, (x_test, y_test) = tf.keras.datasets.mnist.load_data()\n",
    "# The `x` arrays are in uint8 and have values in the [0, 255] range.\n",
    "# You need to convert them to float32 with values in the [0, 1] range.\n",
    "x_test = x_test / np.float32(255)\n",
    "y_test = y_test.astype(np.int64)"
   ]
  },
  {
   "cell_type": "code",
   "execution_count": 34,
   "id": "1ec1b8d4-ca17-429f-a64c-ff2e6b513b11",
   "metadata": {},
   "outputs": [
    {
     "name": "stderr",
     "output_type": "stream",
     "text": [
      "2023-04-27 12:15:32.898983: I tensorflow/stream_executor/cuda/cuda_dnn.cc:384] Loaded cuDNN version 8302\n"
     ]
    },
    {
     "name": "stdout",
     "output_type": "stream",
     "text": [
      "Predicted Class = 2\n"
     ]
    },
    {
     "name": "stderr",
     "output_type": "stream",
     "text": [
      "2023-04-27 12:15:33.591969: I tensorflow/stream_executor/cuda/cuda_blas.cc:1786] TensorFloat-32 will be used for the matrix multiplication. This will only be logged once.\n"
     ]
    },
    {
     "data": {
      "image/png": "[encoded data removed]",
      "text/plain": [
       "<Figure size 200x200 with 1 Axes>"
      ]
     },
     "metadata": {},
     "output_type": "display_data"
    }
   ],
   "source": [
    "import matplotlib.pyplot as plt\n",
    "from random import randint\n",
    "\n",
    "img_num = randint(0, len(x_test))\n",
    "test_img = x_test[img_num:img_num+1,:,:]\n",
    "plt.figure(figsize=(2, 2))\n",
    "plt.imshow(test_img.reshape((28, 28)))\n",
    "\n",
    "predicted_class = np.argmax(predictor.predict(test_img)['predictions'])\n",
    "print(\"Predicted Class =\", predicted_class)"
   ]
  },
  {
   "cell_type": "markdown",
   "id": "a4f03240-7248-444a-8211-0c2e1400e1f5",
   "metadata": {},
   "source": [
    "### Shutdown"
   ]
  },
  {
   "cell_type": "code",
   "execution_count": 35,
   "id": "cfbf0ba5-241d-4e31-8340-7768f6a98477",
   "metadata": {},
   "outputs": [],
   "source": [
    "ray.shutdown()"
   ]
  },
  {
   "cell_type": "code",
   "execution_count": 36,
   "id": "b85e9f91-08d4-4224-9a04-904154fa82f3",
   "metadata": {},
   "outputs": [],
   "source": [
    "ray_cluster.kill()"
   ]
  },
  {
   "cell_type": "code",
   "execution_count": null,
   "id": "a8b08ffd-b10a-49ca-abaf-bfad62fa7cd3",
   "metadata": {},
   "outputs": [],
   "source": []
  }
 ],
 "metadata": {
  "kernelspec": {
   "display_name": "tensorflow-2.9.0",
   "language": "python",
   "name": "tensorflow-2.9.0"
  },
  "language_info": {
   "codemirror_mode": {
    "name": "ipython",
    "version": 3
   },
   "file_extension": ".py",
   "mimetype": "text/x-python",
   "name": "python",
   "nbconvert_exporter": "python",
   "pygments_lexer": "ipython3",
   "version": "3.9.15"
  }
 },
 "nbformat": 4,
 "nbformat_minor": 5
}
