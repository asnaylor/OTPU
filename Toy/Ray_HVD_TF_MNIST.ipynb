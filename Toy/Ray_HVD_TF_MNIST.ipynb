{
 "cells": [
  {
   "cell_type": "markdown",
   "id": "43744ab3-95f2-4963-9015-1b465176ee23",
   "metadata": {},
   "source": [
    "# Ray HVD TF MNIST\n",
    "\n",
    "https://docs.ray.io/en/latest/train/examples/tf/tensorflow_mnist_example.html\n",
    "Modified adding in Horovod.\n",
    "\n",
    "\n",
    "Using `tensorflow-2.9.0` NERSC kernel.\n",
    "\n"
   ]
  },
  {
   "cell_type": "code",
   "execution_count": 1,
   "id": "64aaa958-ab0e-41ab-8cd2-df0d866f14da",
   "metadata": {},
   "outputs": [],
   "source": [
    "import sys\n",
    "import os"
   ]
  },
  {
   "cell_type": "code",
   "execution_count": 2,
   "id": "d9fd205e-2537-4dc4-ac6a-25a58de5771e",
   "metadata": {},
   "outputs": [],
   "source": [
    "#!{sys.executable} -m pip install \"ray[air]==2.3.1\""
   ]
  },
  {
   "cell_type": "markdown",
   "id": "0e752fae-0bef-4abc-a8b8-0048e5400d79",
   "metadata": {},
   "source": [
    "# Start Ray"
   ]
  },
  {
   "cell_type": "code",
   "execution_count": 3,
   "id": "ff321530-5161-4a46-b584-3e83b0beb411",
   "metadata": {},
   "outputs": [
    {
     "name": "stdout",
     "output_type": "stream",
     "text": [
      "<> Starting Ray head node\n"
     ]
    },
    {
     "name": "stderr",
     "output_type": "stream",
     "text": [
      "Warning: This is an experimental release of NCCL with an OFI plugin for use with libfabric on Perlmutter.\n",
      "In case of issues, please refer to our known issues: https://docs.nersc.gov/current/\n",
      "and open a help ticket if your issue is not listed: https://help.nersc.gov/\n"
     ]
    },
    {
     "name": "stdout",
     "output_type": "stream",
     "text": [
      "2023-04-24 12:12:16,065\tINFO usage_lib.py:435 -- Usage stats collection is disabled.\n",
      "2023-04-24 12:12:16,065\tINFO scripts.py:710 -- \u001b[37mLocal node IP\u001b[39m: \u001b[1m128.55.64.15\u001b[22m\n",
      "2023-04-24 12:12:18,172\tSUCC scripts.py:747 -- \u001b[32m--------------------\u001b[39m\n",
      "2023-04-24 12:12:18,172\tSUCC scripts.py:748 -- \u001b[32mRay runtime started.\u001b[39m\n",
      "2023-04-24 12:12:18,172\tSUCC scripts.py:749 -- \u001b[32m--------------------\u001b[39m\n",
      "2023-04-24 12:12:18,172\tINFO scripts.py:751 -- \u001b[36mNext steps\u001b[39m\n",
      "2023-04-24 12:12:18,172\tINFO scripts.py:752 -- To connect to this Ray runtime from another node, run\n",
      "2023-04-24 12:12:18,172\tINFO scripts.py:755 -- \u001b[1m  ray start --address='128.55.64.15:6379'\u001b[22m\n",
      "2023-04-24 12:12:18,172\tINFO scripts.py:771 -- Alternatively, use the following Python code:\n",
      "2023-04-24 12:12:18,172\tINFO scripts.py:773 -- \u001b[35mimport\u001b[39m\u001b[26m ray\n",
      "2023-04-24 12:12:18,172\tINFO scripts.py:777 -- ray\u001b[35m.\u001b[39m\u001b[26minit(address\u001b[35m=\u001b[39m\u001b[26m\u001b[33m'auto'\u001b[39m\u001b[26m)\n",
      "2023-04-24 12:12:18,172\tINFO scripts.py:790 -- To see the status of the cluster, use\n",
      "2023-04-24 12:12:18,172\tINFO scripts.py:791 --   \u001b[1mray status\u001b[22m\u001b[26m\n",
      "2023-04-24 12:12:18,172\tINFO scripts.py:794 -- To monitor and debug Ray, view the dashboard at \n",
      "2023-04-24 12:12:18,173\tINFO scripts.py:795 --   \u001b[1m127.0.0.1:8265\u001b[22m\u001b[26m\n",
      "2023-04-24 12:12:18,173\tINFO scripts.py:801 -- \u001b[4mIf connection fails, check your firewall settings and network configuration.\u001b[24m\n",
      "2023-04-24 12:12:18,173\tINFO scripts.py:809 -- To terminate the Ray runtime, run\n",
      "2023-04-24 12:12:18,173\tINFO scripts.py:810 -- \u001b[1m  ray stop\u001b[22m\n",
      "2023-04-24 12:12:18,173\tINFO scripts.py:891 -- \u001b[36m\u001b[1m--block\u001b[22m\u001b[39m\n",
      "2023-04-24 12:12:18,173\tINFO scripts.py:892 -- This command will now block forever until terminated by a signal.\n",
      "2023-04-24 12:12:18,173\tINFO scripts.py:895 -- Running subprocesses are monitored and a message will be printed if any of them terminate unexpectedly. Subprocesses exit with SIGTERM will be treated as graceful, thus NOT reported.\n",
      "<> Starting Prometheus Service\n",
      "<> Starting Grafana Service\n",
      "<> Cluster completed startup\n"
     ]
    }
   ],
   "source": [
    "from ray_utils import start_ray_cluster\n",
    "ray_cluster = start_ray_cluster()"
   ]
  },
  {
   "cell_type": "code",
   "execution_count": 4,
   "id": "cb4f84c0-ddd8-4fb6-affc-9007ef358dde",
   "metadata": {},
   "outputs": [],
   "source": [
    "ray_cluster.ray.stdout"
   ]
  },
  {
   "cell_type": "code",
   "execution_count": 4,
   "id": "ecc01489-0a6e-4e98-98c1-cfbe7093d546",
   "metadata": {},
   "outputs": [
    {
     "name": "stderr",
     "output_type": "stream",
     "text": [
      "2023-04-24 12:12:43,349\tINFO worker.py:1364 -- Connecting to existing Ray cluster at address: 128.55.64.15:6379...\n",
      "2023-04-24 12:12:43,357\tINFO worker.py:1544 -- Connected to Ray cluster. View the dashboard at \u001b[1m\u001b[32m127.0.0.1:8265 \u001b[39m\u001b[22m\n"
     ]
    },
    {
     "data": {
      "text/html": [
       "<div>\n",
       "    <div style=\"margin-left: 50px;display: flex;flex-direction: row;align-items: center\">\n",
       "        <h3 style=\"color: var(--jp-ui-font-color0)\">Ray</h3>\n",
       "        <svg version=\"1.1\" id=\"ray\" width=\"3em\" viewBox=\"0 0 144.5 144.6\" style=\"margin-left: 3em;margin-right: 3em\">\n",
       "            <g id=\"layer-1\">\n",
       "                <path fill=\"#00a2e9\" class=\"st0\" d=\"M97.3,77.2c-3.8-1.1-6.2,0.9-8.3,5.1c-3.5,6.8-9.9,9.9-17.4,9.6S58,88.1,54.8,81.2c-1.4-3-3-4-6.3-4.1\n",
       "                    c-5.6-0.1-9.9,0.1-13.1,6.4c-3.8,7.6-13.6,10.2-21.8,7.6C5.2,88.4-0.4,80.5,0,71.7c0.1-8.4,5.7-15.8,13.8-18.2\n",
       "                    c8.4-2.6,17.5,0.7,22.3,8c1.3,1.9,1.3,5.2,3.6,5.6c3.9,0.6,8,0.2,12,0.2c1.8,0,1.9-1.6,2.4-2.8c3.5-7.8,9.7-11.8,18-11.9\n",
       "                    c8.2-0.1,14.4,3.9,17.8,11.4c1.3,2.8,2.9,3.6,5.7,3.3c1-0.1,2,0.1,3,0c2.8-0.5,6.4,1.7,8.1-2.7s-2.3-5.5-4.1-7.5\n",
       "                    c-5.1-5.7-10.9-10.8-16.1-16.3C84,38,81.9,37.1,78,38.3C66.7,42,56.2,35.7,53,24.1C50.3,14,57.3,2.8,67.7,0.5\n",
       "                    C78.4-2,89,4.7,91.5,15.3c0.1,0.3,0.1,0.5,0.2,0.8c0.7,3.4,0.7,6.9-0.8,9.8c-1.7,3.2-0.8,5,1.5,7.2c6.7,6.5,13.3,13,19.8,19.7\n",
       "                    c1.8,1.8,3,2.1,5.5,1.2c9.1-3.4,17.9-0.6,23.4,7c4.8,6.9,4.6,16.1-0.4,22.9c-5.4,7.2-14.2,9.9-23.1,6.5c-2.3-0.9-3.5-0.6-5.1,1.1\n",
       "                    c-6.7,6.9-13.6,13.7-20.5,20.4c-1.8,1.8-2.5,3.2-1.4,5.9c3.5,8.7,0.3,18.6-7.7,23.6c-7.9,5-18.2,3.8-24.8-2.9\n",
       "                    c-6.4-6.4-7.4-16.2-2.5-24.3c4.9-7.8,14.5-11,23.1-7.8c3,1.1,4.7,0.5,6.9-1.7C91.7,98.4,98,92.3,104.2,86c1.6-1.6,4.1-2.7,2.6-6.2\n",
       "                    c-1.4-3.3-3.8-2.5-6.2-2.6C99.8,77.2,98.9,77.2,97.3,77.2z M72.1,29.7c5.5,0.1,9.9-4.3,10-9.8c0-0.1,0-0.2,0-0.3\n",
       "                    C81.8,14,77,9.8,71.5,10.2c-5,0.3-9,4.2-9.3,9.2c-0.2,5.5,4,10.1,9.5,10.3C71.8,29.7,72,29.7,72.1,29.7z M72.3,62.3\n",
       "                    c-5.4-0.1-9.9,4.2-10.1,9.7c0,0.2,0,0.3,0,0.5c0.2,5.4,4.5,9.7,9.9,10c5.1,0.1,9.9-4.7,10.1-9.8c0.2-5.5-4-10-9.5-10.3\n",
       "                    C72.6,62.3,72.4,62.3,72.3,62.3z M115,72.5c0.1,5.4,4.5,9.7,9.8,9.9c5.6-0.2,10-4.8,10-10.4c-0.2-5.4-4.6-9.7-10-9.7\n",
       "                    c-5.3-0.1-9.8,4.2-9.9,9.5C115,72.1,115,72.3,115,72.5z M19.5,62.3c-5.4,0.1-9.8,4.4-10,9.8c-0.1,5.1,5.2,10.4,10.2,10.3\n",
       "                    c5.6-0.2,10-4.9,9.8-10.5c-0.1-5.4-4.5-9.7-9.9-9.6C19.6,62.3,19.5,62.3,19.5,62.3z M71.8,134.6c5.9,0.2,10.3-3.9,10.4-9.6\n",
       "                    c0.5-5.5-3.6-10.4-9.1-10.8c-5.5-0.5-10.4,3.6-10.8,9.1c0,0.5,0,0.9,0,1.4c-0.2,5.3,4,9.8,9.3,10\n",
       "                    C71.6,134.6,71.7,134.6,71.8,134.6z\"/>\n",
       "            </g>\n",
       "        </svg>\n",
       "        <table>\n",
       "            <tr>\n",
       "                <td style=\"text-align: left\"><b>Python version:</b></td>\n",
       "                <td style=\"text-align: left\"><b>3.9.15</b></td>\n",
       "            </tr>\n",
       "            <tr>\n",
       "                <td style=\"text-align: left\"><b>Ray version:</b></td>\n",
       "                <td style=\"text-align: left\"><b> 2.3.1</b></td>\n",
       "            </tr>\n",
       "            <tr>\n",
       "    <td style=\"text-align: left\"><b>Dashboard:</b></td>\n",
       "    <td style=\"text-align: left\"><b><a href=\"http://127.0.0.1:8265\" target=\"_blank\">http://127.0.0.1:8265</a></b></td>\n",
       "</tr>\n",
       "\n",
       "        </table>\n",
       "    </div>\n",
       "</div>\n"
      ],
      "text/plain": [
       "RayContext(dashboard_url='127.0.0.1:8265', python_version='3.9.15', ray_version='2.3.1', ray_commit='5f14cee8dfc6d61ec4fd3bc2c440f9944e92b33a', address_info={'node_ip_address': '128.55.64.15', 'raylet_ip_address': '128.55.64.15', 'redis_address': None, 'object_store_address': '/tmp/ray/session_2023-04-24_12-12-16_166083_67171/sockets/plasma_store', 'raylet_socket_name': '/tmp/ray/session_2023-04-24_12-12-16_166083_67171/sockets/raylet', 'webui_url': '127.0.0.1:8265', 'session_dir': '/tmp/ray/session_2023-04-24_12-12-16_166083_67171', 'metrics_export_port': 59889, 'gcs_address': '128.55.64.15:6379', 'address': '128.55.64.15:6379', 'dashboard_agent_listen_port': 52365, 'node_id': '729a05aafe017ea849dfac1bc76cb59cf81b2da892d32a66d09f331f'})"
      ]
     },
     "execution_count": 4,
     "metadata": {},
     "output_type": "execute_result"
    }
   ],
   "source": [
    "import ray\n",
    "\n",
    "if ray.is_initialized:\n",
    "    ray.shutdown()\n",
    "\n",
    "ray.init(address='auto')"
   ]
  },
  {
   "cell_type": "markdown",
   "id": "eb2cc25c-64be-44b7-a091-4a7b2561f13a",
   "metadata": {},
   "source": [
    "### Check ray cluster resources"
   ]
  },
  {
   "cell_type": "code",
   "execution_count": 5,
   "id": "98df2ce3-9e0c-435a-bb9f-1e7e3a3b3a64",
   "metadata": {},
   "outputs": [
    {
     "data": {
      "text/plain": [
       "{'object_store_memory': 276428792217.0,\n",
       " 'node:128.55.64.15': 1.0,\n",
       " 'memory': 635000515175.0,\n",
       " 'accelerator_type:A100': 2.0,\n",
       " 'GPU': 2.0,\n",
       " 'CPU': 512.0,\n",
       " 'node:128.55.64.35': 1.0}"
      ]
     },
     "execution_count": 5,
     "metadata": {},
     "output_type": "execute_result"
    }
   ],
   "source": [
    "ray.cluster_resources()"
   ]
  },
  {
   "cell_type": "markdown",
   "id": "5bb9efd8-1e1b-4cd5-bc84-eb81e682d21a",
   "metadata": {},
   "source": [
    "### View dashboards"
   ]
  },
  {
   "cell_type": "code",
   "execution_count": 6,
   "id": "95b0bd1c-3ba9-4c17-948b-4f33a9754bec",
   "metadata": {},
   "outputs": [
    {
     "data": {
      "text/plain": [
       "'https://jupyter.nersc.gov/user/asnaylor/perlmutter-shared-node-cpu/proxy/localhost:8265/#/new/overview'"
      ]
     },
     "execution_count": 6,
     "metadata": {},
     "output_type": "execute_result"
    }
   ],
   "source": [
    "f'https://jupyter.nersc.gov{os.getenv(\"JUPYTERHUB_SERVICE_PREFIX\")}proxy/localhost:8265/#/new/overview'"
   ]
  },
  {
   "cell_type": "code",
   "execution_count": 7,
   "id": "de0d5b72-0347-46e5-8ebc-8dd4a0b23f03",
   "metadata": {},
   "outputs": [
    {
     "data": {
      "text/plain": [
       "'https://jupyter.nersc.gov/user/asnaylor/perlmutter-shared-node-cpu/proxy/3000/d/rayDefaultDashboard'"
      ]
     },
     "execution_count": 7,
     "metadata": {},
     "output_type": "execute_result"
    }
   ],
   "source": [
    "f'https://jupyter.nersc.gov{os.getenv(\"JUPYTERHUB_SERVICE_PREFIX\")}proxy/3000/d/rayDefaultDashboard'"
   ]
  },
  {
   "cell_type": "markdown",
   "id": "37bd2df0-0ed8-432d-8fec-5129a9b4a6f1",
   "metadata": {},
   "source": [
    "# MINST Code"
   ]
  },
  {
   "cell_type": "code",
   "execution_count": 8,
   "id": "f337c02f-ad3d-4b36-a026-3527a799f23f",
   "metadata": {},
   "outputs": [],
   "source": [
    "import numpy as np\n",
    "import json\n",
    "from ray.air.result import Result\n",
    "import tensorflow as tf\n",
    "import horovod.tensorflow.keras as hvd\n",
    "\n",
    "# from ray.train.tensorflow import TensorflowTrainer\n",
    "from ray.train.horovod import HorovodTrainer\n",
    "from ray.air.integrations.keras import Callback as TrainCheckpointReportCallback\n",
    "from ray.air.config import ScalingConfig, RunConfig\n",
    "from ray.air import session"
   ]
  },
  {
   "cell_type": "code",
   "execution_count": 9,
   "id": "a87cf711-8e6d-4fbb-801b-f29ccab86fc9",
   "metadata": {},
   "outputs": [],
   "source": [
    "def mnist_dataset(batch_size: int) -> tf.data.Dataset:\n",
    "    (x_train, y_train), _ = tf.keras.datasets.mnist.load_data()\n",
    "    # The `x` arrays are in uint8 and have values in the [0, 255] range.\n",
    "    # You need to convert them to float32 with values in the [0, 1] range.\n",
    "    x_train = x_train / np.float32(255)\n",
    "    y_train = y_train.astype(np.int64)\n",
    "    train_dataset = (\n",
    "        tf.data.Dataset.from_tensor_slices((x_train, y_train))\n",
    "        .shuffle(60000)\n",
    "        .repeat()\n",
    "        .batch(batch_size)\n",
    "    )\n",
    "    return train_dataset"
   ]
  },
  {
   "cell_type": "code",
   "execution_count": 10,
   "id": "c66b60b3-5e48-483b-b259-cfa4e7a79def",
   "metadata": {},
   "outputs": [],
   "source": [
    "def build_cnn_model() -> tf.keras.Model:\n",
    "    model = tf.keras.Sequential(\n",
    "        [\n",
    "            tf.keras.Input(shape=(28, 28)),\n",
    "            tf.keras.layers.Reshape(target_shape=(28, 28, 1)),\n",
    "            tf.keras.layers.Conv2D(32, 3, activation=\"relu\"),\n",
    "            tf.keras.layers.Flatten(),\n",
    "            tf.keras.layers.Dense(128, activation=\"relu\"),\n",
    "            tf.keras.layers.Dense(10),\n",
    "        ]\n",
    "    )\n",
    "    return model\n"
   ]
  },
  {
   "cell_type": "code",
   "execution_count": 11,
   "id": "276d1524-f4ef-4108-9ff3-1f2290c1382a",
   "metadata": {},
   "outputs": [],
   "source": [
    "\n",
    "def train_func(config: dict):\n",
    "    per_worker_batch_size = config.get(\"batch_size\", 64)\n",
    "    epochs = config.get(\"epochs\", 3)\n",
    "    steps_per_epoch = config.get(\"steps_per_epoch\", 70)\n",
    "    \n",
    "    # Returns the total number of workers executing training.\n",
    "    num_workers = session.get_world_size()\n",
    "    \n",
    "    # Horovod: initialize library.\n",
    "    hvd.init()\n",
    "\n",
    "    # Horovod: pin GPU to be used to process local rank (one GPU per process)\n",
    "    gpus = tf.config.experimental.list_physical_devices('GPU')\n",
    "    for gpu in gpus:\n",
    "        tf.config.experimental.set_memory_growth(gpu, True)\n",
    "    if gpus:\n",
    "        tf.config.experimental.set_visible_devices(gpus[hvd.local_rank()],\n",
    "                                                   'GPU')\n",
    "    \n",
    "    # Horovod: limit # of CPU threads to be used per worker.\n",
    "    # tf.config.threading.set_intra_op_parallelism_threads(1)\n",
    "    \n",
    "    strategy = tf.distribute.MultiWorkerMirroredStrategy()\n",
    "    global_batch_size = per_worker_batch_size * num_workers\n",
    "    multi_worker_dataset = mnist_dataset(global_batch_size)\n",
    "\n",
    "    with strategy.scope():\n",
    "        # Model building/compiling need to be within `strategy.scope()`.\n",
    "        multi_worker_model = build_cnn_model()\n",
    "        \n",
    "        # Horovod: adjust learning rate based on number of GPUs.\n",
    "        learning_rate = config.get(\"lr\", 0.001) * hvd.size()\n",
    "        \n",
    "        # Horovod: add Horovod DistributedOptimizer.\n",
    "        opt = tf.keras.optimizers.SGD(learning_rate=learning_rate)\n",
    "        opt = hvd.DistributedOptimizer(opt)\n",
    "        \n",
    "        # Horovod: Specify `experimental_run_tf_function=False` to ensure TensorFlow\n",
    "        # uses hvd.DistributedOptimizer() to compute gradients.\n",
    "        multi_worker_model.compile(\n",
    "            loss=tf.keras.losses.SparseCategoricalCrossentropy(from_logits=True),\n",
    "            optimizer=opt,\n",
    "            metrics=[\"accuracy\"],\n",
    "            experimental_run_tf_function=False\n",
    "        )\n",
    "        \n",
    "    callbacks = [\n",
    "        TrainCheckpointReportCallback(),\n",
    "    ]\n",
    "\n",
    "    history = multi_worker_model.fit(\n",
    "        multi_worker_dataset,\n",
    "        epochs=epochs,\n",
    "        steps_per_epoch=steps_per_epoch,\n",
    "        callbacks=callbacks,\n",
    "    )\n",
    "    # Horovod: adjust number of steps based on number of GPUs. ??\n",
    "    # steps_per_epoch=500 // hvd.size(),\n",
    "    results = history.history\n",
    "    return results"
   ]
  },
  {
   "cell_type": "markdown",
   "id": "d72adde3-1362-4066-9ea8-782ef36fd52e",
   "metadata": {},
   "source": [
    "# Run MNIST Code"
   ]
  },
  {
   "cell_type": "code",
   "execution_count": 12,
   "id": "6f59c628-ae62-4240-bb48-6c16146ee562",
   "metadata": {},
   "outputs": [],
   "source": [
    "args = {\n",
    "    'num_workers': int(ray.cluster_resources()['GPU']),\n",
    "    'use_gpu': True,\n",
    "    'epochs': 20\n",
    "}\n",
    "config = {\"lr\": 1e-3, \"batch_size\": 64, \"epochs\": args['epochs']}"
   ]
  },
  {
   "cell_type": "code",
   "execution_count": 13,
   "id": "54029da3-84e4-48ac-8ad2-b33e01ce53e2",
   "metadata": {},
   "outputs": [
    {
     "data": {
      "text/html": [
       "<div class=\"tuneStatus\">\n",
       "  <div style=\"display: flex;flex-direction: row\">\n",
       "    <div style=\"display: flex;flex-direction: column;\">\n",
       "      <h3>Tune Status</h3>\n",
       "      <table>\n",
       "<tbody>\n",
       "<tr><td>Current time:</td><td>2023-04-24 12:14:17</td></tr>\n",
       "<tr><td>Running for: </td><td>00:00:47.62        </td></tr>\n",
       "<tr><td>Memory:      </td><td>106.7/503.1 GiB    </td></tr>\n",
       "</tbody>\n",
       "</table>\n",
       "    </div>\n",
       "    <div class=\"vDivider\"></div>\n",
       "    <div class=\"systemInfo\">\n",
       "      <h3>System Info</h3>\n",
       "      Using FIFO scheduling algorithm.<br>Resources requested: 0/512 CPUs, 0/2 GPUs, 0.0/591.39 GiB heap, 0.0/257.44 GiB objects (0.0/2.0 accelerator_type:A100)\n",
       "    </div>\n",
       "    \n",
       "  </div>\n",
       "  <div class=\"hDivider\"></div>\n",
       "  <div class=\"trialStatus\">\n",
       "    <h3>Trial Status</h3>\n",
       "    <table>\n",
       "<thead>\n",
       "<tr><th>Trial name                </th><th>status    </th><th>loc               </th><th style=\"text-align: right;\">  iter</th><th style=\"text-align: right;\">  total time (s)</th><th style=\"text-align: right;\">    loss</th><th style=\"text-align: right;\">  accuracy</th><th style=\"text-align: right;\">  _timestamp</th></tr>\n",
       "</thead>\n",
       "<tbody>\n",
       "<tr><td>HorovodTrainer_18bfd_00000</td><td>TERMINATED</td><td>128.55.64.35:88796</td><td style=\"text-align: right;\">    20</td><td style=\"text-align: right;\">         36.1051</td><td style=\"text-align: right;\">0.499527</td><td style=\"text-align: right;\">  0.867857</td><td style=\"text-align: right;\">  1682363652</td></tr>\n",
       "</tbody>\n",
       "</table>\n",
       "  </div>\n",
       "</div>\n",
       "<style>\n",
       ".tuneStatus {\n",
       "  color: var(--jp-ui-font-color1);\n",
       "}\n",
       ".tuneStatus .systemInfo {\n",
       "  display: flex;\n",
       "  flex-direction: column;\n",
       "}\n",
       ".tuneStatus td {\n",
       "  white-space: nowrap;\n",
       "}\n",
       ".tuneStatus .trialStatus {\n",
       "  display: flex;\n",
       "  flex-direction: column;\n",
       "}\n",
       ".tuneStatus h3 {\n",
       "  font-weight: bold;\n",
       "}\n",
       ".tuneStatus .hDivider {\n",
       "  border-bottom-width: var(--jp-border-width);\n",
       "  border-bottom-color: var(--jp-border-color0);\n",
       "  border-bottom-style: solid;\n",
       "}\n",
       ".tuneStatus .vDivider {\n",
       "  border-left-width: var(--jp-border-width);\n",
       "  border-left-color: var(--jp-border-color0);\n",
       "  border-left-style: solid;\n",
       "  margin: 0.5em 1em 0.5em 1em;\n",
       "}\n",
       "</style>\n"
      ],
      "text/plain": [
       "<IPython.core.display.HTML object>"
      ]
     },
     "metadata": {},
     "output_type": "display_data"
    },
    {
     "name": "stderr",
     "output_type": "stream",
     "text": [
      "2023-04-24 12:13:29,480\tWARNING trial_runner.py:369 -- The maximum number of pending trials has been automatically set to the number of available cluster CPUs, which is high (563 CPUs/pending trials). If you're running an experiment with a large number of trials, this could lead to scheduling overhead. In this case, consider setting the `TUNE_MAX_PENDING_TRIALS_PG` environment variable to the desired maximum number of concurrent trials.\n",
      "\u001b[2m\u001b[36m(RayTrainWorker pid=106009)\u001b[0m 2023-04-24 12:13:41.040173: I tensorflow/core/platform/cpu_feature_guard.cc:193] This TensorFlow binary is optimized with oneAPI Deep Neural Network Library (oneDNN) to use the following CPU instructions in performance-critical operations:  AVX2 FMA\n",
      "\u001b[2m\u001b[36m(RayTrainWorker pid=106009)\u001b[0m To enable them in other operations, rebuild TensorFlow with the appropriate compiler flags.\n",
      "\u001b[2m\u001b[36m(RayTrainWorker pid=91742, ip=128.55.64.35)\u001b[0m 2023-04-24 12:13:41.059901: I tensorflow/core/platform/cpu_feature_guard.cc:193] This TensorFlow binary is optimized with oneAPI Deep Neural Network Library (oneDNN) to use the following CPU instructions in performance-critical operations:  AVX2 FMA\n",
      "\u001b[2m\u001b[36m(RayTrainWorker pid=91742, ip=128.55.64.35)\u001b[0m To enable them in other operations, rebuild TensorFlow with the appropriate compiler flags.\n",
      "\u001b[2m\u001b[36m(RayTrainWorker pid=106009)\u001b[0m 2023-04-24 12:13:41.556677: I tensorflow/core/common_runtime/gpu/gpu_device.cc:1532] Created device /job:localhost/replica:0/task:0/device:GPU:0 with 38219 MB memory:  -> device: 0, name: NVIDIA A100-PCIE-40GB, pci bus id: 0000:c3:00.0, compute capability: 8.0\n",
      "\u001b[2m\u001b[36m(RayTrainWorker pid=91742, ip=128.55.64.35)\u001b[0m 2023-04-24 12:13:41.873534: I tensorflow/core/common_runtime/gpu/gpu_device.cc:1532] Created device /job:localhost/replica:0/task:0/device:GPU:0 with 38219 MB memory:  -> device: 0, name: NVIDIA A100-PCIE-40GB, pci bus id: 0000:c3:00.0, compute capability: 8.0\n",
      "\u001b[2m\u001b[36m(RayTrainWorker pid=106009)\u001b[0m 2023-04-24 12:13:42.149992: W tensorflow/core/grappler/optimizers/data/auto_shard.cc:776] AUTO sharding policy will apply DATA sharding policy as it failed to apply FILE sharding policy because of the following reason: Found an unshardable source dataset: name: \"TensorSliceDataset/_2\"\n",
      "\u001b[2m\u001b[36m(RayTrainWorker pid=106009)\u001b[0m op: \"TensorSliceDataset\"\n",
      "\u001b[2m\u001b[36m(RayTrainWorker pid=106009)\u001b[0m input: \"Placeholder/_0\"\n",
      "\u001b[2m\u001b[36m(RayTrainWorker pid=106009)\u001b[0m input: \"Placeholder/_1\"\n",
      "\u001b[2m\u001b[36m(RayTrainWorker pid=106009)\u001b[0m attr {\n",
      "\u001b[2m\u001b[36m(RayTrainWorker pid=106009)\u001b[0m   key: \"Toutput_types\"\n",
      "\u001b[2m\u001b[36m(RayTrainWorker pid=106009)\u001b[0m   value {\n",
      "\u001b[2m\u001b[36m(RayTrainWorker pid=106009)\u001b[0m     list {\n",
      "\u001b[2m\u001b[36m(RayTrainWorker pid=106009)\u001b[0m       type: DT_FLOAT\n",
      "\u001b[2m\u001b[36m(RayTrainWorker pid=106009)\u001b[0m       type: DT_INT64\n",
      "\u001b[2m\u001b[36m(RayTrainWorker pid=106009)\u001b[0m     }\n",
      "\u001b[2m\u001b[36m(RayTrainWorker pid=106009)\u001b[0m   }\n",
      "\u001b[2m\u001b[36m(RayTrainWorker pid=106009)\u001b[0m }\n",
      "\u001b[2m\u001b[36m(RayTrainWorker pid=106009)\u001b[0m attr {\n",
      "\u001b[2m\u001b[36m(RayTrainWorker pid=106009)\u001b[0m   key: \"_cardinality\"\n",
      "\u001b[2m\u001b[36m(RayTrainWorker pid=106009)\u001b[0m   value {\n",
      "\u001b[2m\u001b[36m(RayTrainWorker pid=106009)\u001b[0m     i: 60000\n",
      "\u001b[2m\u001b[36m(RayTrainWorker pid=106009)\u001b[0m   }\n",
      "\u001b[2m\u001b[36m(RayTrainWorker pid=106009)\u001b[0m }\n",
      "\u001b[2m\u001b[36m(RayTrainWorker pid=106009)\u001b[0m attr {\n",
      "\u001b[2m\u001b[36m(RayTrainWorker pid=106009)\u001b[0m   key: \"is_files\"\n",
      "\u001b[2m\u001b[36m(RayTrainWorker pid=106009)\u001b[0m   value {\n",
      "\u001b[2m\u001b[36m(RayTrainWorker pid=106009)\u001b[0m     b: false\n",
      "\u001b[2m\u001b[36m(RayTrainWorker pid=106009)\u001b[0m   }\n",
      "\u001b[2m\u001b[36m(RayTrainWorker pid=106009)\u001b[0m }\n",
      "\u001b[2m\u001b[36m(RayTrainWorker pid=106009)\u001b[0m attr {\n",
      "\u001b[2m\u001b[36m(RayTrainWorker pid=106009)\u001b[0m   key: \"metadata\"\n",
      "\u001b[2m\u001b[36m(RayTrainWorker pid=106009)\u001b[0m   value {\n",
      "\u001b[2m\u001b[36m(RayTrainWorker pid=106009)\u001b[0m     s: \"\\n\\024TensorSliceDataset:0\"\n",
      "\u001b[2m\u001b[36m(RayTrainWorker pid=106009)\u001b[0m   }\n",
      "\u001b[2m\u001b[36m(RayTrainWorker pid=106009)\u001b[0m }\n",
      "\u001b[2m\u001b[36m(RayTrainWorker pid=106009)\u001b[0m attr {\n",
      "\u001b[2m\u001b[36m(RayTrainWorker pid=106009)\u001b[0m   key: \"output_shapes\"\n",
      "\u001b[2m\u001b[36m(RayTrainWorker pid=106009)\u001b[0m   value {\n",
      "\u001b[2m\u001b[36m(RayTrainWorker pid=106009)\u001b[0m     list {\n",
      "\u001b[2m\u001b[36m(RayTrainWorker pid=106009)\u001b[0m       shape {\n",
      "\u001b[2m\u001b[36m(RayTrainWorker pid=106009)\u001b[0m         dim {\n",
      "\u001b[2m\u001b[36m(RayTrainWorker pid=106009)\u001b[0m           size: 28\n",
      "\u001b[2m\u001b[36m(RayTrainWorker pid=106009)\u001b[0m         }\n",
      "\u001b[2m\u001b[36m(RayTrainWorker pid=106009)\u001b[0m         dim {\n",
      "\u001b[2m\u001b[36m(RayTrainWorker pid=106009)\u001b[0m           size: 28\n",
      "\u001b[2m\u001b[36m(RayTrainWorker pid=106009)\u001b[0m         }\n",
      "\u001b[2m\u001b[36m(RayTrainWorker pid=106009)\u001b[0m       }\n",
      "\u001b[2m\u001b[36m(RayTrainWorker pid=106009)\u001b[0m       shape {\n",
      "\u001b[2m\u001b[36m(RayTrainWorker pid=106009)\u001b[0m       }\n",
      "\u001b[2m\u001b[36m(RayTrainWorker pid=106009)\u001b[0m     }\n",
      "\u001b[2m\u001b[36m(RayTrainWorker pid=106009)\u001b[0m   }\n",
      "\u001b[2m\u001b[36m(RayTrainWorker pid=106009)\u001b[0m }\n",
      "\u001b[2m\u001b[36m(RayTrainWorker pid=106009)\u001b[0m experimental_type {\n",
      "\u001b[2m\u001b[36m(RayTrainWorker pid=106009)\u001b[0m   type_id: TFT_PRODUCT\n",
      "\u001b[2m\u001b[36m(RayTrainWorker pid=106009)\u001b[0m   args {\n",
      "\u001b[2m\u001b[36m(RayTrainWorker pid=106009)\u001b[0m     type_id: TFT_DATASET\n",
      "\u001b[2m\u001b[36m(RayTrainWorker pid=106009)\u001b[0m     args {\n",
      "\u001b[2m\u001b[36m(RayTrainWorker pid=106009)\u001b[0m       type_id: TFT_PRODUCT\n",
      "\u001b[2m\u001b[36m(RayTrainWorker pid=106009)\u001b[0m       args {\n",
      "\u001b[2m\u001b[36m(RayTrainWorker pid=106009)\u001b[0m         type_id: TFT_TENSOR\n",
      "\u001b[2m\u001b[36m(RayTrainWorker pid=106009)\u001b[0m         args {\n",
      "\u001b[2m\u001b[36m(RayTrainWorker pid=106009)\u001b[0m           type_id: TFT_FLOAT\n",
      "\u001b[2m\u001b[36m(RayTrainWorker pid=106009)\u001b[0m         }\n",
      "\u001b[2m\u001b[36m(RayTrainWorker pid=106009)\u001b[0m       }\n",
      "\u001b[2m\u001b[36m(RayTrainWorker pid=106009)\u001b[0m       args {\n",
      "\u001b[2m\u001b[36m(RayTrainWorker pid=106009)\u001b[0m         type_id: TFT_TENSOR\n",
      "\u001b[2m\u001b[36m(RayTrainWorker pid=106009)\u001b[0m         args {\n",
      "\u001b[2m\u001b[36m(RayTrainWorker pid=106009)\u001b[0m           type_id: TFT_INT64\n",
      "\u001b[2m\u001b[36m(RayTrainWorker pid=106009)\u001b[0m         }\n",
      "\u001b[2m\u001b[36m(RayTrainWorker pid=106009)\u001b[0m       }\n",
      "\u001b[2m\u001b[36m(RayTrainWorker pid=106009)\u001b[0m     }\n",
      "\u001b[2m\u001b[36m(RayTrainWorker pid=106009)\u001b[0m   }\n",
      "\u001b[2m\u001b[36m(RayTrainWorker pid=106009)\u001b[0m }\n",
      "\u001b[2m\u001b[36m(RayTrainWorker pid=106009)\u001b[0m \n"
     ]
    },
    {
     "name": "stdout",
     "output_type": "stream",
     "text": [
      "\u001b[2m\u001b[36m(RayTrainWorker pid=106009)\u001b[0m Epoch 1/20\n"
     ]
    },
    {
     "name": "stderr",
     "output_type": "stream",
     "text": [
      "\u001b[2m\u001b[36m(RayTrainWorker pid=91742, ip=128.55.64.35)\u001b[0m 2023-04-24 12:13:42.624538: W tensorflow/core/grappler/optimizers/data/auto_shard.cc:776] AUTO sharding policy will apply DATA sharding policy as it failed to apply FILE sharding policy because of the following reason: Found an unshardable source dataset: name: \"TensorSliceDataset/_2\"\n",
      "\u001b[2m\u001b[36m(RayTrainWorker pid=91742, ip=128.55.64.35)\u001b[0m op: \"TensorSliceDataset\"\n",
      "\u001b[2m\u001b[36m(RayTrainWorker pid=91742, ip=128.55.64.35)\u001b[0m input: \"Placeholder/_0\"\n",
      "\u001b[2m\u001b[36m(RayTrainWorker pid=91742, ip=128.55.64.35)\u001b[0m input: \"Placeholder/_1\"\n",
      "\u001b[2m\u001b[36m(RayTrainWorker pid=91742, ip=128.55.64.35)\u001b[0m attr {\n",
      "\u001b[2m\u001b[36m(RayTrainWorker pid=91742, ip=128.55.64.35)\u001b[0m   key: \"Toutput_types\"\n",
      "\u001b[2m\u001b[36m(RayTrainWorker pid=91742, ip=128.55.64.35)\u001b[0m   value {\n",
      "\u001b[2m\u001b[36m(RayTrainWorker pid=91742, ip=128.55.64.35)\u001b[0m     list {\n",
      "\u001b[2m\u001b[36m(RayTrainWorker pid=91742, ip=128.55.64.35)\u001b[0m       type: DT_FLOAT\n",
      "\u001b[2m\u001b[36m(RayTrainWorker pid=91742, ip=128.55.64.35)\u001b[0m       type: DT_INT64\n",
      "\u001b[2m\u001b[36m(RayTrainWorker pid=91742, ip=128.55.64.35)\u001b[0m     }\n",
      "\u001b[2m\u001b[36m(RayTrainWorker pid=91742, ip=128.55.64.35)\u001b[0m   }\n",
      "\u001b[2m\u001b[36m(RayTrainWorker pid=91742, ip=128.55.64.35)\u001b[0m }\n",
      "\u001b[2m\u001b[36m(RayTrainWorker pid=91742, ip=128.55.64.35)\u001b[0m attr {\n",
      "\u001b[2m\u001b[36m(RayTrainWorker pid=91742, ip=128.55.64.35)\u001b[0m   key: \"_cardinality\"\n",
      "\u001b[2m\u001b[36m(RayTrainWorker pid=91742, ip=128.55.64.35)\u001b[0m   value {\n",
      "\u001b[2m\u001b[36m(RayTrainWorker pid=91742, ip=128.55.64.35)\u001b[0m     i: 60000\n",
      "\u001b[2m\u001b[36m(RayTrainWorker pid=91742, ip=128.55.64.35)\u001b[0m   }\n",
      "\u001b[2m\u001b[36m(RayTrainWorker pid=91742, ip=128.55.64.35)\u001b[0m }\n",
      "\u001b[2m\u001b[36m(RayTrainWorker pid=91742, ip=128.55.64.35)\u001b[0m attr {\n",
      "\u001b[2m\u001b[36m(RayTrainWorker pid=91742, ip=128.55.64.35)\u001b[0m   key: \"is_files\"\n",
      "\u001b[2m\u001b[36m(RayTrainWorker pid=91742, ip=128.55.64.35)\u001b[0m   value {\n",
      "\u001b[2m\u001b[36m(RayTrainWorker pid=91742, ip=128.55.64.35)\u001b[0m     b: false\n",
      "\u001b[2m\u001b[36m(RayTrainWorker pid=91742, ip=128.55.64.35)\u001b[0m   }\n",
      "\u001b[2m\u001b[36m(RayTrainWorker pid=91742, ip=128.55.64.35)\u001b[0m }\n",
      "\u001b[2m\u001b[36m(RayTrainWorker pid=91742, ip=128.55.64.35)\u001b[0m attr {\n",
      "\u001b[2m\u001b[36m(RayTrainWorker pid=91742, ip=128.55.64.35)\u001b[0m   key: \"metadata\"\n",
      "\u001b[2m\u001b[36m(RayTrainWorker pid=91742, ip=128.55.64.35)\u001b[0m   value {\n",
      "\u001b[2m\u001b[36m(RayTrainWorker pid=91742, ip=128.55.64.35)\u001b[0m     s: \"\\n\\024TensorSliceDataset:0\"\n",
      "\u001b[2m\u001b[36m(RayTrainWorker pid=91742, ip=128.55.64.35)\u001b[0m   }\n",
      "\u001b[2m\u001b[36m(RayTrainWorker pid=91742, ip=128.55.64.35)\u001b[0m }\n",
      "\u001b[2m\u001b[36m(RayTrainWorker pid=91742, ip=128.55.64.35)\u001b[0m attr {\n",
      "\u001b[2m\u001b[36m(RayTrainWorker pid=91742, ip=128.55.64.35)\u001b[0m   key: \"output_shapes\"\n",
      "\u001b[2m\u001b[36m(RayTrainWorker pid=91742, ip=128.55.64.35)\u001b[0m   value {\n",
      "\u001b[2m\u001b[36m(RayTrainWorker pid=91742, ip=128.55.64.35)\u001b[0m     list {\n",
      "\u001b[2m\u001b[36m(RayTrainWorker pid=91742, ip=128.55.64.35)\u001b[0m       shape {\n",
      "\u001b[2m\u001b[36m(RayTrainWorker pid=91742, ip=128.55.64.35)\u001b[0m         dim {\n",
      "\u001b[2m\u001b[36m(RayTrainWorker pid=91742, ip=128.55.64.35)\u001b[0m           size: 28\n",
      "\u001b[2m\u001b[36m(RayTrainWorker pid=91742, ip=128.55.64.35)\u001b[0m         }\n",
      "\u001b[2m\u001b[36m(RayTrainWorker pid=91742, ip=128.55.64.35)\u001b[0m         dim {\n",
      "\u001b[2m\u001b[36m(RayTrainWorker pid=91742, ip=128.55.64.35)\u001b[0m           size: 28\n",
      "\u001b[2m\u001b[36m(RayTrainWorker pid=91742, ip=128.55.64.35)\u001b[0m         }\n",
      "\u001b[2m\u001b[36m(RayTrainWorker pid=91742, ip=128.55.64.35)\u001b[0m       }\n",
      "\u001b[2m\u001b[36m(RayTrainWorker pid=91742, ip=128.55.64.35)\u001b[0m       shape {\n",
      "\u001b[2m\u001b[36m(RayTrainWorker pid=91742, ip=128.55.64.35)\u001b[0m       }\n",
      "\u001b[2m\u001b[36m(RayTrainWorker pid=91742, ip=128.55.64.35)\u001b[0m     }\n",
      "\u001b[2m\u001b[36m(RayTrainWorker pid=91742, ip=128.55.64.35)\u001b[0m   }\n",
      "\u001b[2m\u001b[36m(RayTrainWorker pid=91742, ip=128.55.64.35)\u001b[0m }\n",
      "\u001b[2m\u001b[36m(RayTrainWorker pid=91742, ip=128.55.64.35)\u001b[0m experimental_type {\n",
      "\u001b[2m\u001b[36m(RayTrainWorker pid=91742, ip=128.55.64.35)\u001b[0m   type_id: TFT_PRODUCT\n",
      "\u001b[2m\u001b[36m(RayTrainWorker pid=91742, ip=128.55.64.35)\u001b[0m   args {\n",
      "\u001b[2m\u001b[36m(RayTrainWorker pid=91742, ip=128.55.64.35)\u001b[0m     type_id: TFT_DATASET\n",
      "\u001b[2m\u001b[36m(RayTrainWorker pid=91742, ip=128.55.64.35)\u001b[0m     args {\n",
      "\u001b[2m\u001b[36m(RayTrainWorker pid=91742, ip=128.55.64.35)\u001b[0m       type_id: TFT_PRODUCT\n",
      "\u001b[2m\u001b[36m(RayTrainWorker pid=91742, ip=128.55.64.35)\u001b[0m       args {\n",
      "\u001b[2m\u001b[36m(RayTrainWorker pid=91742, ip=128.55.64.35)\u001b[0m         type_id: TFT_TENSOR\n",
      "\u001b[2m\u001b[36m(RayTrainWorker pid=91742, ip=128.55.64.35)\u001b[0m         args {\n",
      "\u001b[2m\u001b[36m(RayTrainWorker pid=91742, ip=128.55.64.35)\u001b[0m           type_id: TFT_FLOAT\n",
      "\u001b[2m\u001b[36m(RayTrainWorker pid=91742, ip=128.55.64.35)\u001b[0m         }\n",
      "\u001b[2m\u001b[36m(RayTrainWorker pid=91742, ip=128.55.64.35)\u001b[0m       }\n",
      "\u001b[2m\u001b[36m(RayTrainWorker pid=91742, ip=128.55.64.35)\u001b[0m       args {\n",
      "\u001b[2m\u001b[36m(RayTrainWorker pid=91742, ip=128.55.64.35)\u001b[0m         type_id: TFT_TENSOR\n",
      "\u001b[2m\u001b[36m(RayTrainWorker pid=91742, ip=128.55.64.35)\u001b[0m         args {\n",
      "\u001b[2m\u001b[36m(RayTrainWorker pid=91742, ip=128.55.64.35)\u001b[0m           type_id: TFT_INT64\n",
      "\u001b[2m\u001b[36m(RayTrainWorker pid=91742, ip=128.55.64.35)\u001b[0m         }\n",
      "\u001b[2m\u001b[36m(RayTrainWorker pid=91742, ip=128.55.64.35)\u001b[0m       }\n",
      "\u001b[2m\u001b[36m(RayTrainWorker pid=91742, ip=128.55.64.35)\u001b[0m     }\n",
      "\u001b[2m\u001b[36m(RayTrainWorker pid=91742, ip=128.55.64.35)\u001b[0m   }\n",
      "\u001b[2m\u001b[36m(RayTrainWorker pid=91742, ip=128.55.64.35)\u001b[0m }\n",
      "\u001b[2m\u001b[36m(RayTrainWorker pid=91742, ip=128.55.64.35)\u001b[0m \n"
     ]
    },
    {
     "name": "stdout",
     "output_type": "stream",
     "text": [
      "\u001b[2m\u001b[36m(RayTrainWorker pid=91742, ip=128.55.64.35)\u001b[0m Epoch 1/20\n"
     ]
    },
    {
     "name": "stderr",
     "output_type": "stream",
     "text": [
      "\u001b[2m\u001b[36m(RayTrainWorker pid=106009)\u001b[0m 2023-04-24 12:13:46.299798: I tensorflow/stream_executor/cuda/cuda_dnn.cc:384] Loaded cuDNN version 8302\n",
      "\u001b[2m\u001b[36m(RayTrainWorker pid=91742, ip=128.55.64.35)\u001b[0m 2023-04-24 12:13:47.042601: I tensorflow/stream_executor/cuda/cuda_dnn.cc:384] Loaded cuDNN version 8302\n",
      "\u001b[2m\u001b[36m(RayTrainWorker pid=106009)\u001b[0m 2023-04-24 12:13:47.684874: I tensorflow/stream_executor/cuda/cuda_blas.cc:1786] TensorFloat-32 will be used for the matrix multiplication. This will only be logged once.\n",
      "\u001b[2m\u001b[36m(RayTrainWorker pid=91742, ip=128.55.64.35)\u001b[0m 2023-04-24 12:13:48.360038: I tensorflow/stream_executor/cuda/cuda_blas.cc:1786] TensorFloat-32 will be used for the matrix multiplication. This will only be logged once.\n"
     ]
    },
    {
     "name": "stdout",
     "output_type": "stream",
     "text": [
      " 1/70 [..............................] - ETA: 7:00 - loss: 2.3103 - accuracy: 0.0938\n",
      "12/70 [====>.........................] - ETA: 0s - loss: 2.3020 - accuracy: 0.0729  \n",
      "24/70 [=========>....................] - ETA: 0s - loss: 2.3028 - accuracy: 0.1019\n",
      "36/70 [==============>...............] - ETA: 0s - loss: 2.2921 - accuracy: 0.0898\n",
      "48/70 [===================>..........] - ETA: 0s - loss: 2.2954 - accuracy: 0.1265\n",
      "60/70 [========================>.....] - ETA: 0s - loss: 2.2826 - accuracy: 0.1259\n",
      "60/70 [========================>.....] - ETA: 0s - loss: 2.2906 - accuracy: 0.1441\n"
     ]
    },
    {
     "data": {
      "text/html": [
       "<div class=\"trialProgress\">\n",
       "  <h3>Trial Progress</h3>\n",
       "  <table>\n",
       "<thead>\n",
       "<tr><th>Trial name                </th><th style=\"text-align: right;\">  _time_this_iter_s</th><th style=\"text-align: right;\">  _timestamp</th><th style=\"text-align: right;\">  _training_iteration</th><th style=\"text-align: right;\">  accuracy</th><th>date               </th><th>done  </th><th>episodes_total  </th><th>experiment_id                   </th><th style=\"text-align: right;\">  experiment_tag</th><th>hostname  </th><th style=\"text-align: right;\">  iterations_since_restore</th><th style=\"text-align: right;\">    loss</th><th>node_ip     </th><th style=\"text-align: right;\">  pid</th><th>should_checkpoint  </th><th style=\"text-align: right;\">  time_since_restore</th><th style=\"text-align: right;\">  time_this_iter_s</th><th style=\"text-align: right;\">  time_total_s</th><th style=\"text-align: right;\">  timestamp</th><th style=\"text-align: right;\">  timesteps_since_restore</th><th>timesteps_total  </th><th style=\"text-align: right;\">  training_iteration</th><th>trial_id   </th><th style=\"text-align: right;\">  warmup_time</th></tr>\n",
       "</thead>\n",
       "<tbody>\n",
       "<tr><td>HorovodTrainer_18bfd_00000</td><td style=\"text-align: right;\">            1.15471</td><td style=\"text-align: right;\">  1682363652</td><td style=\"text-align: right;\">                   20</td><td style=\"text-align: right;\">  0.867857</td><td>2023-04-24_12-14-12</td><td>True  </td><td>                </td><td>1d84f1bbc3694c82b2dddc4f1de6d560</td><td style=\"text-align: right;\">               0</td><td>login26   </td><td style=\"text-align: right;\">                        20</td><td style=\"text-align: right;\">0.499527</td><td>128.55.64.35</td><td style=\"text-align: right;\">88796</td><td>True               </td><td style=\"text-align: right;\">             36.1051</td><td style=\"text-align: right;\">           1.15698</td><td style=\"text-align: right;\">       36.1051</td><td style=\"text-align: right;\"> 1682363652</td><td style=\"text-align: right;\">                        0</td><td>                 </td><td style=\"text-align: right;\">                  20</td><td>18bfd_00000</td><td style=\"text-align: right;\">     0.169468</td></tr>\n",
       "</tbody>\n",
       "</table>\n",
       "</div>\n",
       "<style>\n",
       ".trialProgress {\n",
       "  display: flex;\n",
       "  flex-direction: column;\n",
       "  color: var(--jp-ui-font-color1);\n",
       "}\n",
       ".trialProgress h3 {\n",
       "  font-weight: bold;\n",
       "}\n",
       ".trialProgress td {\n",
       "  white-space: nowrap;\n",
       "}\n",
       "</style>\n"
      ],
      "text/plain": [
       "<IPython.core.display.HTML object>"
      ]
     },
     "metadata": {},
     "output_type": "display_data"
    },
    {
     "name": "stdout",
     "output_type": "stream",
     "text": [
      "70/70 [==============================] - 7s 6ms/step - loss: 2.2874 - accuracy: 0.1561\n",
      "\u001b[2m\u001b[36m(RayTrainWorker pid=91742, ip=128.55.64.35)\u001b[0m Epoch 2/20\n",
      " 1/70 [..............................] - ETA: 0s - loss: 2.2486 - accuracy: 0.3438\n",
      "70/70 [==============================] - 7s 6ms/step - loss: 2.2786 - accuracy: 0.1373\n",
      "\u001b[2m\u001b[36m(RayTrainWorker pid=106009)\u001b[0m Epoch 2/20\n",
      " 1/70 [..............................] - ETA: 0s - loss: 2.2560 - accuracy: 0.2109\n",
      "25/70 [=========>....................] - ETA: 0s - loss: 2.2522 - accuracy: 0.2672\n",
      "25/70 [=========>....................] - ETA: 0s - loss: 2.2340 - accuracy: 0.2925\n",
      "49/70 [====================>.........] - ETA: 0s - loss: 2.2441 - accuracy: 0.2848\n",
      "49/70 [====================>.........] - ETA: 0s - loss: 2.2227 - accuracy: 0.3208\n",
      "61/70 [=========================>....] - ETA: 0s - loss: 2.2400 - accuracy: 0.2903\n",
      "61/70 [=========================>....] - ETA: 0s - loss: 2.2173 - accuracy: 0.3249\n",
      "70/70 [==============================] - 3s 38ms/step - loss: 2.2365 - accuracy: 0.2974\n",
      "\u001b[2m\u001b[36m(RayTrainWorker pid=91742, ip=128.55.64.35)\u001b[0m Epoch 3/20\n",
      " 1/70 [..............................] - ETA: 0s - loss: 2.2022 - accuracy: 0.4219\n",
      "70/70 [==============================] - 3s 38ms/step - loss: 2.2135 - accuracy: 0.3311\n",
      "\u001b[2m\u001b[36m(RayTrainWorker pid=106009)\u001b[0m Epoch 3/20\n",
      "11/70 [===>..........................] - ETA: 0s - loss: 2.1736 - accuracy: 0.4212\n",
      "21/70 [========>.....................] - ETA: 0s - loss: 2.1961 - accuracy: 0.3955\n",
      "31/70 [============>.................] - ETA: 0s - loss: 2.1575 - accuracy: 0.4430\n",
      "41/70 [================>.............] - ETA: 0s - loss: 2.1845 - accuracy: 0.4152\n",
      "41/70 [================>.............] - ETA: 0s - loss: 2.1513 - accuracy: 0.4531\n",
      "61/70 [=========================>....] - ETA: 0s - loss: 2.1742 - accuracy: 0.4279\n",
      "61/70 [=========================>....] - ETA: 0s - loss: 2.1383 - accuracy: 0.4793\n",
      "70/70 [==============================] - 1s 16ms/step - loss: 2.1695 - accuracy: 0.4328\n",
      "\u001b[2m\u001b[36m(RayTrainWorker pid=91742, ip=128.55.64.35)\u001b[0m Epoch 4/20\n",
      " 1/70 [..............................] - ETA: 0s - loss: 2.1403 - accuracy: 0.4453\n",
      "70/70 [==============================] - 1s 16ms/step - loss: 2.1327 - accuracy: 0.4904\n",
      "\u001b[2m\u001b[36m(RayTrainWorker pid=106009)\u001b[0m Epoch 4/20\n",
      "11/70 [===>..........................] - ETA: 0s - loss: 2.0690 - accuracy: 0.5831\n",
      "21/70 [========>.....................] - ETA: 0s - loss: 2.1263 - accuracy: 0.4762\n",
      "31/70 [============>.................] - ETA: 0s - loss: 2.0596 - accuracy: 0.5920\n",
      "41/70 [================>.............] - ETA: 0s - loss: 2.1109 - accuracy: 0.4918\n",
      "51/70 [====================>.........] - ETA: 0s - loss: 2.0436 - accuracy: 0.6031\n",
      "61/70 [=========================>....] - ETA: 0s - loss: 2.0967 - accuracy: 0.5149\n",
      "61/70 [=========================>....] - ETA: 0s - loss: 2.0365 - accuracy: 0.6058\n",
      "70/70 [==============================] - 1s 16ms/step - loss: 2.0902 - accuracy: 0.5218\n",
      "\u001b[2m\u001b[36m(RayTrainWorker pid=91742, ip=128.55.64.35)\u001b[0m Epoch 5/20\n",
      " 1/70 [..............................] - ETA: 0s - loss: 2.0652 - accuracy: 0.5391\n",
      "70/70 [==============================] - 1s 16ms/step - loss: 2.0284 - accuracy: 0.6140\n",
      "\u001b[2m\u001b[36m(RayTrainWorker pid=106009)\u001b[0m Epoch 5/20\n",
      " 1/70 [..............................] - ETA: 0s - loss: 1.9363 - accuracy: 0.6953\n",
      "23/70 [========>.....................] - ETA: 0s - loss: 2.0132 - accuracy: 0.5839\n",
      "23/70 [========>.....................] - ETA: 0s - loss: 1.9426 - accuracy: 0.6651\n",
      "45/70 [==================>...........] - ETA: 0s - loss: 1.9972 - accuracy: 0.5856\n",
      "45/70 [==================>...........] - ETA: 0s - loss: 1.9215 - accuracy: 0.6675\n",
      "65/70 [==========================>...] - ETA: 0s - loss: 1.9788 - accuracy: 0.5913\n",
      "65/70 [==========================>...] - ETA: 0s - loss: 1.8992 - accuracy: 0.6752\n",
      "70/70 [==============================] - 1s 16ms/step - loss: 1.9737 - accuracy: 0.5938\n",
      "\u001b[2m\u001b[36m(RayTrainWorker pid=91742, ip=128.55.64.35)\u001b[0m Epoch 6/20\n",
      " 1/70 [..............................] - ETA: 0s - loss: 1.9532 - accuracy: 0.5938\n",
      "70/70 [==============================] - 1s 16ms/step - loss: 1.8947 - accuracy: 0.6754\n",
      "\u001b[2m\u001b[36m(RayTrainWorker pid=106009)\u001b[0m Epoch 6/20\n",
      " 1/70 [..............................] - ETA: 0s - loss: 1.8448 - accuracy: 0.6953\n",
      "25/70 [=========>....................] - ETA: 0s - loss: 1.8801 - accuracy: 0.6328\n",
      "25/70 [=========>....................] - ETA: 0s - loss: 1.7942 - accuracy: 0.6944\n",
      "49/70 [====================>.........] - ETA: 0s - loss: 1.8527 - accuracy: 0.6328\n",
      "49/70 [====================>.........] - ETA: 0s - loss: 1.7590 - accuracy: 0.6993\n",
      "61/70 [=========================>....] - ETA: 0s - loss: 1.8410 - accuracy: 0.6347\n",
      "61/70 [=========================>....] - ETA: 0s - loss: 1.7372 - accuracy: 0.7120\n",
      "70/70 [==============================] - 1s 17ms/step - loss: 1.7240 - accuracy: 0.7147\n",
      "\u001b[2m\u001b[36m(RayTrainWorker pid=106009)\u001b[0m Epoch 7/20\n",
      "70/70 [==============================] - 1s 17ms/step - loss: 1.8294 - accuracy: 0.6374\n",
      "\u001b[2m\u001b[36m(RayTrainWorker pid=91742, ip=128.55.64.35)\u001b[0m Epoch 7/20\n",
      "13/70 [====>.........................] - ETA: 0s - loss: 1.7133 - accuracy: 0.7001\n",
      "13/70 [====>.........................] - ETA: 0s - loss: 1.6112 - accuracy: 0.7374\n",
      "34/70 [=============>................] - ETA: 0s - loss: 1.6959 - accuracy: 0.6886\n",
      "34/70 [=============>................] - ETA: 0s - loss: 1.5864 - accuracy: 0.7332\n",
      "54/70 [======================>.......] - ETA: 0s - loss: 1.6701 - accuracy: 0.6871\n",
      "54/70 [======================>.......] - ETA: 0s - loss: 1.5615 - accuracy: 0.7315\n",
      "64/70 [==========================>...] - ETA: 0s - loss: 1.6531 - accuracy: 0.6908\n",
      "64/70 [==========================>...] - ETA: 0s - loss: 1.5480 - accuracy: 0.7352\n",
      "70/70 [==============================] - 1s 16ms/step - loss: 1.5369 - accuracy: 0.7384\n",
      "\u001b[2m\u001b[36m(RayTrainWorker pid=106009)\u001b[0m Epoch 8/20\n",
      "70/70 [==============================] - 1s 16ms/step - loss: 1.6438 - accuracy: 0.6930\n",
      "\u001b[2m\u001b[36m(RayTrainWorker pid=91742, ip=128.55.64.35)\u001b[0m Epoch 8/20\n",
      "11/70 [===>..........................] - ETA: 0s - loss: 1.5178 - accuracy: 0.7386\n",
      "11/70 [===>..........................] - ETA: 0s - loss: 1.4102 - accuracy: 0.7614\n",
      "31/70 [============>.................] - ETA: 0s - loss: 1.4947 - accuracy: 0.7240\n",
      "31/70 [============>.................] - ETA: 0s - loss: 1.3768 - accuracy: 0.7684\n",
      "51/70 [====================>.........] - ETA: 0s - loss: 1.4649 - accuracy: 0.7250\n",
      "51/70 [====================>.........] - ETA: 0s - loss: 1.3482 - accuracy: 0.7691\n",
      "61/70 [=========================>....] - ETA: 0s - loss: 1.4517 - accuracy: 0.7272\n",
      "61/70 [=========================>....] - ETA: 0s - loss: 1.3343 - accuracy: 0.7695\n",
      "70/70 [==============================] - 1s 16ms/step - loss: 1.3240 - accuracy: 0.7683\n",
      "70/70 [==============================] - 1s 16ms/step - loss: 1.4407 - accuracy: 0.7266\n",
      "\u001b[2m\u001b[36m(RayTrainWorker pid=91742, ip=128.55.64.35)\u001b[0m Epoch 9/20\n",
      "12/70 [====>.........................] - ETA: 0s - loss: 1.2973 - accuracy: 0.7715\n",
      "\u001b[2m\u001b[36m(RayTrainWorker pid=106009)\u001b[0m Epoch 9/20\n",
      "12/70 [====>.........................] - ETA: 0s - loss: 1.2055 - accuracy: 0.7884\n",
      "36/70 [==============>...............] - ETA: 0s - loss: 1.2889 - accuracy: 0.7595\n",
      "36/70 [==============>...............] - ETA: 0s - loss: 1.1670 - accuracy: 0.7917\n",
      "59/70 [========================>.....] - ETA: 0s - loss: 1.2622 - accuracy: 0.7577\n",
      "59/70 [========================>.....] - ETA: 0s - loss: 1.1406 - accuracy: 0.7914\n",
      "69/70 [============================>.] - ETA: 0s - loss: 1.2529 - accuracy: 0.7574\n",
      "69/70 [============================>.] - ETA: 0s - loss: 1.1259 - accuracy: 0.7955\n",
      "70/70 [==============================] - 1s 16ms/step - loss: 1.1258 - accuracy: 0.7951\n",
      "\u001b[2m\u001b[36m(RayTrainWorker pid=106009)\u001b[0m Epoch 10/20\n",
      "70/70 [==============================] - 1s 16ms/step - loss: 1.2501 - accuracy: 0.7577\n",
      "\u001b[2m\u001b[36m(RayTrainWorker pid=91742, ip=128.55.64.35)\u001b[0m Epoch 10/20\n",
      "12/70 [====>.........................] - ETA: 0s - loss: 1.1456 - accuracy: 0.7754\n",
      "12/70 [====>.........................] - ETA: 0s - loss: 1.0176 - accuracy: 0.8092\n",
      "35/70 [==============>...............] - ETA: 0s - loss: 1.1089 - accuracy: 0.7759\n",
      "35/70 [==============>...............] - ETA: 0s - loss: 1.0038 - accuracy: 0.8054\n",
      "55/70 [======================>.......] - ETA: 0s - loss: 1.0848 - accuracy: 0.7780\n",
      "55/70 [======================>.......] - ETA: 0s - loss: 0.9779 - accuracy: 0.8091\n",
      "66/70 [===========================>..] - ETA: 0s - loss: 1.0758 - accuracy: 0.7788\n",
      "66/70 [===========================>..] - ETA: 0s - loss: 0.9675 - accuracy: 0.8114\n",
      "70/70 [==============================] - 1s 17ms/step - loss: 1.0711 - accuracy: 0.7791\n",
      "\u001b[2m\u001b[36m(RayTrainWorker pid=91742, ip=128.55.64.35)\u001b[0m Epoch 11/20\n",
      " 1/70 [..............................] - ETA: 0s - loss: 1.0417 - accuracy: 0.7734\n",
      "70/70 [==============================] - 1s 17ms/step - loss: 0.9642 - accuracy: 0.8125\n",
      "\u001b[2m\u001b[36m(RayTrainWorker pid=106009)\u001b[0m Epoch 11/20\n",
      " 1/70 [..............................] - ETA: 0s - loss: 0.7755 - accuracy: 0.8750\n",
      "25/70 [=========>....................] - ETA: 0s - loss: 0.9720 - accuracy: 0.7981\n",
      "25/70 [=========>....................] - ETA: 0s - loss: 0.8978 - accuracy: 0.8128\n",
      "48/70 [===================>..........] - ETA: 0s - loss: 0.9560 - accuracy: 0.7930\n",
      "48/70 [===================>..........] - ETA: 0s - loss: 0.8674 - accuracy: 0.8244\n",
      "60/70 [========================>.....] - ETA: 0s - loss: 0.9450 - accuracy: 0.7928\n",
      "60/70 [========================>.....] - ETA: 0s - loss: 0.8568 - accuracy: 0.8253\n",
      "70/70 [==============================] - 1s 17ms/step - loss: 0.8468 - accuracy: 0.8280\n",
      "\u001b[2m\u001b[36m(RayTrainWorker pid=106009)\u001b[0m Epoch 12/20\n",
      "70/70 [==============================] - 1s 17ms/step - loss: 0.9363 - accuracy: 0.7961\n",
      "\u001b[2m\u001b[36m(RayTrainWorker pid=91742, ip=128.55.64.35)\u001b[0m Epoch 12/20\n",
      "13/70 [====>.........................] - ETA: 0s - loss: 0.7886 - accuracy: 0.8353\n",
      "13/70 [====>.........................] - ETA: 0s - loss: 0.8429 - accuracy: 0.8215\n",
      "37/70 [==============>...............] - ETA: 0s - loss: 0.7640 - accuracy: 0.8340\n",
      "37/70 [==============>...............] - ETA: 0s - loss: 0.8360 - accuracy: 0.8138\n",
      "61/70 [=========================>....] - ETA: 0s - loss: 0.7539 - accuracy: 0.8340\n",
      "61/70 [=========================>....] - ETA: 0s - loss: 0.8152 - accuracy: 0.8178\n",
      "70/70 [==============================] - 1s 18ms/step - loss: 0.7515 - accuracy: 0.8348\n",
      "\u001b[2m\u001b[36m(RayTrainWorker pid=106009)\u001b[0m Epoch 13/20\n",
      "13/70 [====>.........................] - ETA: 0s - loss: 0.7061 - accuracy: 0.8498\n",
      "70/70 [==============================] - 1s 18ms/step - loss: 0.8106 - accuracy: 0.8175\n",
      "\u001b[2m\u001b[36m(RayTrainWorker pid=91742, ip=128.55.64.35)\u001b[0m Epoch 13/20\n",
      "13/70 [====>.........................] - ETA: 0s - loss: 0.7678 - accuracy: 0.8239\n",
      "37/70 [==============>...............] - ETA: 0s - loss: 0.6981 - accuracy: 0.8435\n",
      "37/70 [==============>...............] - ETA: 0s - loss: 0.7588 - accuracy: 0.8224\n",
      "61/70 [=========================>....] - ETA: 0s - loss: 0.6892 - accuracy: 0.8440\n",
      "61/70 [=========================>....] - ETA: 0s - loss: 0.7539 - accuracy: 0.8194\n",
      "70/70 [==============================] - 1s 16ms/step - loss: 0.7459 - accuracy: 0.8227\n",
      "\u001b[2m\u001b[36m(RayTrainWorker pid=91742, ip=128.55.64.35)\u001b[0m Epoch 14/20\n",
      "70/70 [==============================] - 1s 16ms/step - loss: 0.6885 - accuracy: 0.8426\n",
      "\u001b[2m\u001b[36m(RayTrainWorker pid=106009)\u001b[0m Epoch 14/20\n",
      "12/70 [====>.........................] - ETA: 0s - loss: 0.6748 - accuracy: 0.8490\n",
      "12/70 [====>.........................] - ETA: 0s - loss: 0.7160 - accuracy: 0.8171\n",
      "36/70 [==============>...............] - ETA: 0s - loss: 0.6488 - accuracy: 0.8498\n",
      "36/70 [==============>...............] - ETA: 0s - loss: 0.6951 - accuracy: 0.8357\n",
      "60/70 [========================>.....] - ETA: 0s - loss: 0.6391 - accuracy: 0.8512\n",
      "60/70 [========================>.....] - ETA: 0s - loss: 0.6956 - accuracy: 0.8309\n",
      "70/70 [==============================] - 1s 16ms/step - loss: 0.6892 - accuracy: 0.8339\n",
      "\u001b[2m\u001b[36m(RayTrainWorker pid=91742, ip=128.55.64.35)\u001b[0m Epoch 15/20\n",
      " 1/70 [..............................] - ETA: 0s - loss: 0.6471 - accuracy: 0.8516\n",
      "70/70 [==============================] - 1s 16ms/step - loss: 0.6345 - accuracy: 0.8525\n",
      "\u001b[2m\u001b[36m(RayTrainWorker pid=106009)\u001b[0m Epoch 15/20\n",
      "13/70 [====>.........................] - ETA: 0s - loss: 0.5912 - accuracy: 0.8624\n",
      "13/70 [====>.........................] - ETA: 0s - loss: 0.6344 - accuracy: 0.8450\n",
      "26/70 [==========>...................] - ETA: 0s - loss: 0.6441 - accuracy: 0.8450\n",
      "39/70 [===============>..............] - ETA: 0s - loss: 0.6007 - accuracy: 0.8500\n",
      "39/70 [===============>..............] - ETA: 0s - loss: 0.6307 - accuracy: 0.8488\n",
      "65/70 [==========================>...] - ETA: 0s - loss: 0.5867 - accuracy: 0.8575\n",
      "65/70 [==========================>...] - ETA: 0s - loss: 0.6282 - accuracy: 0.8474\n",
      "70/70 [==============================] - 1s 17ms/step - loss: 0.5878 - accuracy: 0.8566\n",
      "\u001b[2m\u001b[36m(RayTrainWorker pid=106009)\u001b[0m Epoch 16/20\n",
      " 1/70 [..............................] - ETA: 0s - loss: 0.4570 - accuracy: 0.9062\n",
      "70/70 [==============================] - 1s 17ms/step - loss: 0.6270 - accuracy: 0.8468\n",
      "\u001b[2m\u001b[36m(RayTrainWorker pid=91742, ip=128.55.64.35)\u001b[0m Epoch 16/20\n",
      "12/70 [====>.........................] - ETA: 0s - loss: 0.5952 - accuracy: 0.8470\n",
      "23/70 [========>.....................] - ETA: 0s - loss: 0.5489 - accuracy: 0.8594\n",
      "35/70 [==============>...............] - ETA: 0s - loss: 0.5961 - accuracy: 0.8545\n",
      "45/70 [==================>...........] - ETA: 0s - loss: 0.5541 - accuracy: 0.8627\n",
      "56/70 [=======================>......] - ETA: 0s - loss: 0.5930 - accuracy: 0.8546\n",
      "67/70 [===========================>..] - ETA: 0s - loss: 0.5387 - accuracy: 0.8657\n",
      "67/70 [===========================>..] - ETA: 0s - loss: 0.5899 - accuracy: 0.8553\n",
      "70/70 [==============================] - 1s 16ms/step - loss: 0.5384 - accuracy: 0.8655\n",
      "\u001b[2m\u001b[36m(RayTrainWorker pid=106009)\u001b[0m Epoch 17/20\n",
      " 1/70 [..............................] - ETA: 0s - loss: 0.5167 - accuracy: 0.8906\n",
      "70/70 [==============================] - 1s 16ms/step - loss: 0.5866 - accuracy: 0.8567\n",
      "\u001b[2m\u001b[36m(RayTrainWorker pid=91742, ip=128.55.64.35)\u001b[0m Epoch 17/20\n",
      "13/70 [====>.........................] - ETA: 0s - loss: 0.5745 - accuracy: 0.8582\n",
      "25/70 [=========>....................] - ETA: 0s - loss: 0.5329 - accuracy: 0.8622\n",
      "37/70 [==============>...............] - ETA: 0s - loss: 0.5756 - accuracy: 0.8549\n",
      "49/70 [====================>.........] - ETA: 0s - loss: 0.5310 - accuracy: 0.8648\n",
      "61/70 [=========================>....] - ETA: 0s - loss: 0.5593 - accuracy: 0.8608\n",
      "61/70 [=========================>....] - ETA: 0s - loss: 0.5299 - accuracy: 0.8654\n",
      "70/70 [==============================] - 1s 16ms/step - loss: 0.5281 - accuracy: 0.8655\n",
      "\u001b[2m\u001b[36m(RayTrainWorker pid=106009)\u001b[0m Epoch 18/20\n",
      " 1/70 [..............................] - ETA: 0s - loss: 0.5535 - accuracy: 0.8516\n",
      "70/70 [==============================] - 1s 16ms/step - loss: 0.5536 - accuracy: 0.8615\n",
      "\u001b[2m\u001b[36m(RayTrainWorker pid=91742, ip=128.55.64.35)\u001b[0m Epoch 18/20\n",
      " 1/70 [..............................] - ETA: 0s - loss: 0.5578 - accuracy: 0.8828\n",
      "11/70 [===>..........................] - ETA: 0s - loss: 0.5177 - accuracy: 0.8629\n",
      "21/70 [========>.....................] - ETA: 0s - loss: 0.5356 - accuracy: 0.8624\n",
      "31/70 [============>.................] - ETA: 0s - loss: 0.5027 - accuracy: 0.8687\n",
      "41/70 [================>.............] - ETA: 0s - loss: 0.5207 - accuracy: 0.8695\n",
      "51/70 [====================>.........] - ETA: 0s - loss: 0.5064 - accuracy: 0.8670\n",
      "61/70 [=========================>....] - ETA: 0s - loss: 0.5172 - accuracy: 0.8709\n",
      "61/70 [=========================>....] - ETA: 0s - loss: 0.5021 - accuracy: 0.8694\n",
      "70/70 [==============================] - 1s 16ms/step - loss: 0.5184 - accuracy: 0.8706\n",
      "\u001b[2m\u001b[36m(RayTrainWorker pid=91742, ip=128.55.64.35)\u001b[0m Epoch 19/20\n",
      " 1/70 [..............................] - ETA: 0s - loss: 0.6230 - accuracy: 0.8359\n",
      "70/70 [==============================] - 1s 16ms/step - loss: 0.5012 - accuracy: 0.8704\n",
      "\u001b[2m\u001b[36m(RayTrainWorker pid=106009)\u001b[0m Epoch 19/20\n",
      "13/70 [====>.........................] - ETA: 0s - loss: 0.4793 - accuracy: 0.8726\n",
      "25/70 [=========>....................] - ETA: 0s - loss: 0.5281 - accuracy: 0.8600\n",
      "37/70 [==============>...............] - ETA: 0s - loss: 0.4966 - accuracy: 0.8687\n",
      "49/70 [====================>.........] - ETA: 0s - loss: 0.5205 - accuracy: 0.8632\n",
      "61/70 [=========================>....] - ETA: 0s - loss: 0.4933 - accuracy: 0.8689\n",
      "61/70 [=========================>....] - ETA: 0s - loss: 0.5175 - accuracy: 0.8635\n",
      "70/70 [==============================] - 1s 16ms/step - loss: 0.5151 - accuracy: 0.8644\n",
      "\u001b[2m\u001b[36m(RayTrainWorker pid=91742, ip=128.55.64.35)\u001b[0m Epoch 20/20\n",
      " 1/70 [..............................] - ETA: 0s - loss: 0.5109 - accuracy: 0.8906\n",
      "70/70 [==============================] - 1s 16ms/step - loss: 0.4903 - accuracy: 0.8711\n",
      "\u001b[2m\u001b[36m(RayTrainWorker pid=106009)\u001b[0m Epoch 20/20\n",
      "13/70 [====>.........................] - ETA: 0s - loss: 0.4931 - accuracy: 0.8672\n",
      "25/70 [=========>....................] - ETA: 0s - loss: 0.5105 - accuracy: 0.8619\n",
      "37/70 [==============>...............] - ETA: 0s - loss: 0.4785 - accuracy: 0.8735\n",
      "49/70 [====================>.........] - ETA: 0s - loss: 0.5029 - accuracy: 0.8667\n",
      "61/70 [=========================>....] - ETA: 0s - loss: 0.4738 - accuracy: 0.8767\n",
      "61/70 [=========================>....] - ETA: 0s - loss: 0.4964 - accuracy: 0.8690\n",
      "70/70 [==============================] - 1s 17ms/step - loss: 0.4679 - accuracy: 0.8780\n",
      "70/70 [==============================] - 1s 17ms/step - loss: 0.4995 - accuracy: 0.8679\n"
     ]
    },
    {
     "name": "stderr",
     "output_type": "stream",
     "text": [
      "\u001b[2m\u001b[36m(RayTrainWorker pid=106009)\u001b[0m [2023-04-24 12:14:16.330937: E /tmp/pip-install-011ywl84/horovod_ec3ce474ca1141429eb81fcaca5161b4/horovod/common/operations.cc:654] [1]: Horovod background loop uncaught exception: [/tmp/pip-install-011ywl84/horovod_ec3ce474ca1141429eb81fcaca5161b4/third_party/gloo/gloo/transport/tcp/pair.cc:598] Connection closed by peer [128.55.64.35]:54462\n"
     ]
    },
    {
     "name": "stdout",
     "output_type": "stream",
     "text": [
      "\u001b[2m\u001b[36m(RayTrainWorker pid=106009)\u001b[0m login06:106009:108081 [0] NCCL INFO cudaDriverVersion 12000\n",
      "\u001b[2m\u001b[36m(RayTrainWorker pid=106009)\u001b[0m login06:106009:108081 [0] NCCL INFO Bootstrap : Using hsn0:10.249.0.202<0>\n",
      "\u001b[2m\u001b[36m(RayTrainWorker pid=106009)\u001b[0m login06:106009:108081 [0] NCCL INFO NET/Plugin: Failed to find ncclCollNetPlugin_v6 symbol.\n",
      "\u001b[2m\u001b[36m(RayTrainWorker pid=106009)\u001b[0m login06:106009:108081 [0] NCCL INFO NET/Plugin: Failed to find ncclCollNetPlugin symbol (v4 or v5).\n",
      "\u001b[2m\u001b[36m(RayTrainWorker pid=106009)\u001b[0m login06:106009:108081 [0] NCCL INFO NET/OFI Using aws-ofi-nccl 1.4.0\n",
      "\u001b[2m\u001b[36m(RayTrainWorker pid=106009)\u001b[0m login06:106009:108081 [0] NCCL INFO NET/OFI Setting FI_EFA_FORK_SAFE environment variable to 1\n",
      "\u001b[2m\u001b[36m(RayTrainWorker pid=106009)\u001b[0m login06:106009:108081 [0] NCCL INFO NET/OFI Selected Provider is cxi\n",
      "\u001b[2m\u001b[36m(RayTrainWorker pid=106009)\u001b[0m login06:106009:108081 [0] NCCL INFO Using network AWS Libfabric\n",
      "\u001b[2m\u001b[36m(RayTrainWorker pid=106009)\u001b[0m login06:106009:108081 [0] NCCL INFO NCCL_NET_GDR_LEVEL set by environment to PHB\n",
      "\u001b[2m\u001b[36m(RayTrainWorker pid=106009)\u001b[0m login06:106009:108081 [0] NCCL INFO Setting affinity for GPU 0 to ffff0000,00000000,00000000,00000000,ffff0000,00000000,00000000\n",
      "\u001b[2m\u001b[36m(RayTrainWorker pid=106009)\u001b[0m login06:106009:108081 [0] NCCL INFO NCCL_CROSS_NIC set by environment to 1.\n",
      "\u001b[2m\u001b[36m(RayTrainWorker pid=106009)\u001b[0m login06:106009:108081 [0] NCCL INFO Trees [0] -1/-1/-1->1->0 [1] 0/-1/-1->1->-1\n",
      "\u001b[2m\u001b[36m(RayTrainWorker pid=106009)\u001b[0m login06:106009:108081 [0] NCCL INFO Channel 00/0 : 0[c3000] -> 1[c3000] [receive] via NET/AWS Libfabric/1\n",
      "\u001b[2m\u001b[36m(RayTrainWorker pid=106009)\u001b[0m login06:106009:108081 [0] NCCL INFO Channel 01/0 : 0[c3000] -> 1[c3000] [receive] via NET/AWS Libfabric/1\n",
      "\u001b[2m\u001b[36m(RayTrainWorker pid=106009)\u001b[0m login06:106009:108081 [0] NCCL INFO Channel 00/0 : 1[c3000] -> 0[c3000] [send] via NET/AWS Libfabric/1\n",
      "\u001b[2m\u001b[36m(RayTrainWorker pid=106009)\u001b[0m login06:106009:108081 [0] NCCL INFO Channel 01/0 : 1[c3000] -> 0[c3000] [send] via NET/AWS Libfabric/1\n",
      "\u001b[2m\u001b[36m(RayTrainWorker pid=106009)\u001b[0m login06:106009:108081 [0] NCCL INFO Connected all rings\n",
      "\u001b[2m\u001b[36m(RayTrainWorker pid=106009)\u001b[0m login06:106009:108081 [0] NCCL INFO Connected all trees\n",
      "\u001b[2m\u001b[36m(RayTrainWorker pid=106009)\u001b[0m login06:106009:108081 [0] NCCL INFO threadThresholds 8/8/64 | 16/8/64 | 512 | 512\n",
      "\u001b[2m\u001b[36m(RayTrainWorker pid=106009)\u001b[0m login06:106009:108081 [0] NCCL INFO 2 coll channels, 2 p2p channels, 2 p2p channels per peer\n",
      "\u001b[2m\u001b[36m(RayTrainWorker pid=106009)\u001b[0m login06:106009:108081 [0] NCCL INFO comm 0x7fae9f7305a0 rank 1 nranks 2 cudaDev 0 busId c3000 - Init COMPLETE\n"
     ]
    },
    {
     "name": "stderr",
     "output_type": "stream",
     "text": [
      "\u001b[2m\u001b[36m(RayTrainWorker pid=106009)\u001b[0m Exception ignored in: <function Pool.__del__ at 0x7faf0b631790>\n",
      "\u001b[2m\u001b[36m(RayTrainWorker pid=106009)\u001b[0m Traceback (most recent call last):\n",
      "\u001b[2m\u001b[36m(RayTrainWorker pid=106009)\u001b[0m   File \"/global/common/software/nersc/pm-2022q4/sw/tensorflow/2.9.0/lib/python3.9/multiprocessing/pool.py\", line 268, in __del__\n",
      "\u001b[2m\u001b[36m(RayTrainWorker pid=106009)\u001b[0m   File \"/global/common/software/nersc/pm-2022q4/sw/tensorflow/2.9.0/lib/python3.9/multiprocessing/queues.py\", line 371, in put\n",
      "\u001b[2m\u001b[36m(RayTrainWorker pid=106009)\u001b[0m AttributeError: 'NoneType' object has no attribute 'dumps'\n",
      "\u001b[2m\u001b[36m(RayTrainWorker pid=106009)\u001b[0m Exception ignored in: <function Pool.__del__ at 0x7faf0b631790>\n",
      "\u001b[2m\u001b[36m(RayTrainWorker pid=106009)\u001b[0m Traceback (most recent call last):\n",
      "\u001b[2m\u001b[36m(RayTrainWorker pid=106009)\u001b[0m   File \"/global/common/software/nersc/pm-2022q4/sw/tensorflow/2.9.0/lib/python3.9/multiprocessing/pool.py\", line 268, in __del__\n",
      "\u001b[2m\u001b[36m(RayTrainWorker pid=106009)\u001b[0m   File \"/global/common/software/nersc/pm-2022q4/sw/tensorflow/2.9.0/lib/python3.9/multiprocessing/queues.py\", line 371, in put\n",
      "\u001b[2m\u001b[36m(RayTrainWorker pid=106009)\u001b[0m AttributeError: 'NoneType' object has no attribute 'dumps'\n"
     ]
    },
    {
     "name": "stdout",
     "output_type": "stream",
     "text": [
      "\u001b[2m\u001b[36m(RayTrainWorker pid=106009)\u001b[0m login06:106009:108081 [0] NCCL INFO comm 0x7fae9f7305a0 rank 1 nranks 2 cudaDev 0 busId c3000 - Destroy COMPLETE\n"
     ]
    },
    {
     "name": "stderr",
     "output_type": "stream",
     "text": [
      "2023-04-24 12:14:17,106\tINFO tune.py:798 -- Total run time: 47.65 seconds (47.61 seconds for the tuning loop).\n"
     ]
    }
   ],
   "source": [
    "trainer = HorovodTrainer(\n",
    "    train_loop_per_worker=train_func,\n",
    "    train_loop_config=config,\n",
    "    scaling_config=ScalingConfig(num_workers=args['num_workers'], use_gpu=args['use_gpu']),\n",
    "    run_config=RunConfig(local_dir=f'{os.getenv(\"SCRATCH\")}/ray_results', name='HVD_TF_MNIST')\n",
    ")\n",
    "results =  trainer.fit()\n"
   ]
  },
  {
   "cell_type": "code",
   "execution_count": 14,
   "id": "64fd01a6-b0bd-407f-b408-f8b59063537e",
   "metadata": {},
   "outputs": [
    {
     "data": {
      "text/plain": [
       "Result(metrics={'loss': 0.49952712655067444, 'accuracy': 0.8678571581840515, '_timestamp': 1682363652, '_time_this_iter_s': 1.1547129154205322, '_training_iteration': 20, 'should_checkpoint': True, 'done': True, 'trial_id': '18bfd_00000', 'experiment_tag': '0'}, error=None, log_dir=PosixPath('/pscratch/sd/a/asnaylor/ray_results/HVD_TF_MNIST/HorovodTrainer_18bfd_00000_0_2023-04-24_12-13-29'))"
      ]
     },
     "execution_count": 14,
     "metadata": {},
     "output_type": "execute_result"
    }
   ],
   "source": [
    "results"
   ]
  },
  {
   "cell_type": "code",
   "execution_count": 15,
   "id": "017b8654-75fb-42c2-b66f-5e509f0259a7",
   "metadata": {},
   "outputs": [
    {
     "data": {
      "text/plain": [
       "<AxesSubplot: xlabel='training_iteration'>"
      ]
     },
     "execution_count": 15,
     "metadata": {},
     "output_type": "execute_result"
    },
    {
     "data": {
      "image/png": "[encoded data removed]",
      "text/plain": [
       "<Figure size 640x480 with 1 Axes>"
      ]
     },
     "metadata": {},
     "output_type": "display_data"
    }
   ],
   "source": [
    "results.metrics_dataframe.plot(\"training_iteration\", \"accuracy\")"
   ]
  },
  {
   "cell_type": "code",
   "execution_count": 16,
   "id": "33f8a413-f3df-4ed5-b8f5-24865b4bd5e6",
   "metadata": {},
   "outputs": [
    {
     "name": "stderr",
     "output_type": "stream",
     "text": [
      "2023-04-24 12:16:09.844251: I tensorflow/core/platform/cpu_feature_guard.cc:193] This TensorFlow binary is optimized with oneAPI Deep Neural Network Library (oneDNN) to use the following CPU instructions in performance-critical operations:  AVX2 FMA\n",
      "To enable them in other operations, rebuild TensorFlow with the appropriate compiler flags.\n",
      "2023-04-24 12:16:10.367623: I tensorflow/core/common_runtime/gpu/gpu_device.cc:1532] Created device /job:localhost/replica:0/task:0/device:GPU:0 with 38219 MB memory:  -> device: 0, name: NVIDIA A100-PCIE-40GB, pci bus id: 0000:c3:00.0, compute capability: 8.0\n",
      "2023-04-24 12:16:10,744\tWARNING tensorflow_predictor.py:56 -- You have `use_gpu` as False but there are 1 GPUs detected on host where prediction will only use CPU. Please consider explicitly setting `TensorflowPredictor(use_gpu=True)` or `batch_predictor.predict(ds, num_gpus_per_worker=1)` to enable GPU prediction.\n"
     ]
    }
   ],
   "source": [
    "from ray.train.tensorflow import TensorflowCheckpoint, TensorflowPredictor\n",
    "from ray.train.batch_predictor import BatchPredictor\n",
    "\n",
    "result_checkpoint: TensorflowCheckpoint = results.checkpoint\n",
    "predictor = TensorflowPredictor.from_checkpoint(\n",
    "    result_checkpoint, model_definition=build_cnn_model\n",
    ")"
   ]
  },
  {
   "cell_type": "code",
   "execution_count": 17,
   "id": "090a9eca-3a47-45f8-ab8e-5da746d9dcf3",
   "metadata": {},
   "outputs": [],
   "source": [
    "_, (x_test, y_test) = tf.keras.datasets.mnist.load_data()\n",
    "# The `x` arrays are in uint8 and have values in the [0, 255] range.\n",
    "# You need to convert them to float32 with values in the [0, 1] range.\n",
    "x_test = x_test / np.float32(255)\n",
    "y_test = y_test.astype(np.int64)"
   ]
  },
  {
   "cell_type": "code",
   "execution_count": 18,
   "id": "1ec1b8d4-ca17-429f-a64c-ff2e6b513b11",
   "metadata": {},
   "outputs": [
    {
     "name": "stderr",
     "output_type": "stream",
     "text": [
      "2023-04-24 12:16:12.174721: I tensorflow/stream_executor/cuda/cuda_dnn.cc:384] Loaded cuDNN version 8302\n"
     ]
    },
    {
     "name": "stdout",
     "output_type": "stream",
     "text": [
      "Predicted Class = 4\n"
     ]
    },
    {
     "name": "stderr",
     "output_type": "stream",
     "text": [
      "2023-04-24 12:16:13.180566: I tensorflow/stream_executor/cuda/cuda_blas.cc:1786] TensorFloat-32 will be used for the matrix multiplication. This will only be logged once.\n"
     ]
    },
    {
     "data": {
      "image/png": "[encoded data removed]",
      "text/plain": [
       "<Figure size 200x200 with 1 Axes>"
      ]
     },
     "metadata": {},
     "output_type": "display_data"
    }
   ],
   "source": [
    "import matplotlib.pyplot as plt\n",
    "from random import randint\n",
    "\n",
    "img_num = randint(0, len(x_test))\n",
    "test_img = x_test[img_num:img_num+1,:,:]\n",
    "plt.figure(figsize=(2, 2))\n",
    "plt.imshow(test_img.reshape((28, 28)))\n",
    "\n",
    "predicted_class = np.argmax(predictor.predict(test_img)['predictions'])\n",
    "print(\"Predicted Class =\", predicted_class)"
   ]
  },
  {
   "cell_type": "markdown",
   "id": "a4f03240-7248-444a-8211-0c2e1400e1f5",
   "metadata": {},
   "source": [
    "### Shutdown"
   ]
  },
  {
   "cell_type": "code",
   "execution_count": 19,
   "id": "cfbf0ba5-241d-4e31-8340-7768f6a98477",
   "metadata": {},
   "outputs": [],
   "source": [
    "ray.shutdown()"
   ]
  },
  {
   "cell_type": "code",
   "execution_count": 20,
   "id": "b85e9f91-08d4-4224-9a04-904154fa82f3",
   "metadata": {},
   "outputs": [],
   "source": [
    "ray_cluster.kill()"
   ]
  },
  {
   "cell_type": "code",
   "execution_count": null,
   "id": "a8b08ffd-b10a-49ca-abaf-bfad62fa7cd3",
   "metadata": {},
   "outputs": [],
   "source": []
  }
 ],
 "metadata": {
  "kernelspec": {
   "display_name": "tensorflow-2.9.0",
   "language": "python",
   "name": "tensorflow-2.9.0"
  },
  "language_info": {
   "codemirror_mode": {
    "name": "ipython",
    "version": 3
   },
   "file_extension": ".py",
   "mimetype": "text/x-python",
   "name": "python",
   "nbconvert_exporter": "python",
   "pygments_lexer": "ipython3",
   "version": "3.9.15"
  }
 },
 "nbformat": 4,
 "nbformat_minor": 5
}
